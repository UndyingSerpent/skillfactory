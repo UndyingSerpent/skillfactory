{
 "cells": [
  {
   "cell_type": "markdown",
   "metadata": {
    "collapsed": true,
    "pycharm": {
     "name": "#%% md\n"
    }
   },
   "source": [
    "Нам предстоит выяснить, от каких самых малоприбыльных рейсов из Анапы мы можем отказаться в зимнее время.\n",
    "\n",
    "Исходим из того, что прибыльность рейса — это разница между доходом от продаж билетов и расходом на полет.\n",
    "\n",
    "Самая простая модель оценки прибыльности: стоимость билетов - стоимость топлива на рейс."
   ]
  },
  {
   "cell_type": "code",
   "execution_count": 1,
   "outputs": [],
   "source": [
    "import pandas as pd\n",
    "import matplotlib.pyplot as plt\n",
    "import seaborn as sns\n",
    "import numpy as np\n",
    "import datetime"
   ],
   "metadata": {
    "collapsed": false,
    "pycharm": {
     "name": "#%%\n"
    }
   }
  },
  {
   "cell_type": "code",
   "execution_count": 2,
   "outputs": [],
   "source": [
    "#display.[max_categories, max_columns, max_colwidth, max_info_columns, max_info_rows, max_rows, min_rows]\n",
    "pd.set_option('display.max_rows', 50) # показывать указанное количество строк\n",
    "pd.set_option('display.max_columns', 50) # показывать указанное количество колонок\n",
    "pd.options.display.float_format = '{:,.1f}'.format\n",
    "#Проинициализируем seaborn\n",
    "sns.set()"
   ],
   "metadata": {
    "collapsed": false,
    "pycharm": {
     "name": "#%%\n"
    }
   }
  },
  {
   "cell_type": "code",
   "execution_count": 3,
   "outputs": [],
   "source": [
    "flights = pd.read_csv('flight_anapa_winter_2017.csv')"
   ],
   "metadata": {
    "collapsed": false,
    "pycharm": {
     "name": "#%%\n"
    }
   }
  },
  {
   "cell_type": "markdown",
   "source": [
    "Посмотрим на загруженный датасет"
   ],
   "metadata": {
    "collapsed": false
   }
  },
  {
   "cell_type": "code",
   "execution_count": 4,
   "outputs": [
    {
     "name": "stdout",
     "output_type": "stream",
     "text": [
      "<class 'pandas.core.frame.DataFrame'>\n",
      "RangeIndex: 127 entries, 0 to 126\n",
      "Data columns (total 17 columns):\n",
      " #   Column               Non-Null Count  Dtype \n",
      "---  ------               --------------  ----- \n",
      " 0   flight_id            127 non-null    int64 \n",
      " 1   flight_no            127 non-null    object\n",
      " 2   departure_city       127 non-null    object\n",
      " 3   arrival_city         127 non-null    object\n",
      " 4   scheduled_departure  127 non-null    object\n",
      " 5   scheduled_arrival    127 non-null    object\n",
      " 6   flight_time_minutes  127 non-null    int64 \n",
      " 7   model                127 non-null    object\n",
      " 8   count_economy        127 non-null    int64 \n",
      " 9   boarding_economy     127 non-null    int64 \n",
      " 10  amount_economy       127 non-null    int64 \n",
      " 11  count_comfort        127 non-null    int64 \n",
      " 12  boarding_comfort     127 non-null    int64 \n",
      " 13  amount_comfort       127 non-null    int64 \n",
      " 14  count_business       127 non-null    int64 \n",
      " 15  boarding_business    127 non-null    int64 \n",
      " 16  amount_business      127 non-null    int64 \n",
      "dtypes: int64(11), object(6)\n",
      "memory usage: 17.0+ KB\n"
     ]
    }
   ],
   "source": [
    "flights.info()"
   ],
   "metadata": {
    "collapsed": false,
    "pycharm": {
     "name": "#%%\n"
    }
   }
  },
  {
   "cell_type": "code",
   "execution_count": 5,
   "outputs": [
    {
     "data": {
      "text/plain": "     flight_id flight_no departure_city arrival_city  \\\n114     136871    PG0480          Anapa     Belgorod   \n31      136310    PG0252          Anapa       Moscow   \n9       136164    PG0252          Anapa       Moscow   \n88      136709    PG0480          Anapa     Belgorod   \n120     136922    PG0480          Anapa     Belgorod   \n89      136720    PG0480          Anapa     Belgorod   \n115     136875    PG0480          Anapa     Belgorod   \n21      136250    PG0252          Anapa       Moscow   \n86      136678    PG0480          Anapa     Belgorod   \n109     136844    PG0480          Anapa     Belgorod   \n\n            scheduled_departure           scheduled_arrival  \\\n114  2017-01-13 09:25:00.000000  2017-01-13 10:15:00.000000   \n31   2017-01-22 10:05:00.000000  2017-01-22 11:45:00.000000   \n9    2017-01-07 10:05:00.000000  2017-01-07 11:45:00.000000   \n88   2017-01-15 09:25:00.000000  2017-01-15 10:15:00.000000   \n120  2017-02-11 09:25:00.000000  2017-02-11 10:15:00.000000   \n89   2017-01-26 09:25:00.000000  2017-01-26 10:15:00.000000   \n115  2017-02-16 09:25:00.000000  2017-02-16 10:15:00.000000   \n21   2017-02-08 10:05:00.000000  2017-02-08 11:45:00.000000   \n86   2017-01-28 09:25:00.000000  2017-01-28 10:15:00.000000   \n109  2017-02-28 09:25:00.000000  2017-02-28 10:15:00.000000   \n\n     flight_time_minutes                model  count_economy  \\\n114                   50  Sukhoi Superjet-100             85   \n31                   100       Boeing 737-300            118   \n9                     99       Boeing 737-300            118   \n88                    50  Sukhoi Superjet-100             85   \n120                   50  Sukhoi Superjet-100             85   \n89                    50  Sukhoi Superjet-100             85   \n115                   50  Sukhoi Superjet-100             85   \n21                   101       Boeing 737-300            118   \n86                    50  Sukhoi Superjet-100             85   \n109                   50  Sukhoi Superjet-100             85   \n\n     boarding_economy  amount_economy  count_comfort  boarding_comfort  \\\n114                85          538500              0                 0   \n31                108         1324800              0                 0   \n9                 109         1335800              0                 0   \n88                 76          481800              0                 0   \n120                66          418800              0                 0   \n89                 83          525900              0                 0   \n115                85          538500              0                 0   \n21                 91         1115000              0                 0   \n86                 70          442200              0                 0   \n109                73          461700              0                 0   \n\n     amount_comfort  count_business  boarding_business  amount_business  \n114               0              12                 12           226800  \n31                0              12                  9           329400  \n9                 0              12                 11           402600  \n88                0              12                 11           207900  \n120               0              12                 10           189000  \n89                0              12                 12           226800  \n115               0              12                 12           226800  \n21                0              12                  8           292800  \n86                0              12                 10           189000  \n109               0              12                  6           113400  ",
      "text/html": "<div>\n<style scoped>\n    .dataframe tbody tr th:only-of-type {\n        vertical-align: middle;\n    }\n\n    .dataframe tbody tr th {\n        vertical-align: top;\n    }\n\n    .dataframe thead th {\n        text-align: right;\n    }\n</style>\n<table border=\"1\" class=\"dataframe\">\n  <thead>\n    <tr style=\"text-align: right;\">\n      <th></th>\n      <th>flight_id</th>\n      <th>flight_no</th>\n      <th>departure_city</th>\n      <th>arrival_city</th>\n      <th>scheduled_departure</th>\n      <th>scheduled_arrival</th>\n      <th>flight_time_minutes</th>\n      <th>model</th>\n      <th>count_economy</th>\n      <th>boarding_economy</th>\n      <th>amount_economy</th>\n      <th>count_comfort</th>\n      <th>boarding_comfort</th>\n      <th>amount_comfort</th>\n      <th>count_business</th>\n      <th>boarding_business</th>\n      <th>amount_business</th>\n    </tr>\n  </thead>\n  <tbody>\n    <tr>\n      <th>114</th>\n      <td>136871</td>\n      <td>PG0480</td>\n      <td>Anapa</td>\n      <td>Belgorod</td>\n      <td>2017-01-13 09:25:00.000000</td>\n      <td>2017-01-13 10:15:00.000000</td>\n      <td>50</td>\n      <td>Sukhoi Superjet-100</td>\n      <td>85</td>\n      <td>85</td>\n      <td>538500</td>\n      <td>0</td>\n      <td>0</td>\n      <td>0</td>\n      <td>12</td>\n      <td>12</td>\n      <td>226800</td>\n    </tr>\n    <tr>\n      <th>31</th>\n      <td>136310</td>\n      <td>PG0252</td>\n      <td>Anapa</td>\n      <td>Moscow</td>\n      <td>2017-01-22 10:05:00.000000</td>\n      <td>2017-01-22 11:45:00.000000</td>\n      <td>100</td>\n      <td>Boeing 737-300</td>\n      <td>118</td>\n      <td>108</td>\n      <td>1324800</td>\n      <td>0</td>\n      <td>0</td>\n      <td>0</td>\n      <td>12</td>\n      <td>9</td>\n      <td>329400</td>\n    </tr>\n    <tr>\n      <th>9</th>\n      <td>136164</td>\n      <td>PG0252</td>\n      <td>Anapa</td>\n      <td>Moscow</td>\n      <td>2017-01-07 10:05:00.000000</td>\n      <td>2017-01-07 11:45:00.000000</td>\n      <td>99</td>\n      <td>Boeing 737-300</td>\n      <td>118</td>\n      <td>109</td>\n      <td>1335800</td>\n      <td>0</td>\n      <td>0</td>\n      <td>0</td>\n      <td>12</td>\n      <td>11</td>\n      <td>402600</td>\n    </tr>\n    <tr>\n      <th>88</th>\n      <td>136709</td>\n      <td>PG0480</td>\n      <td>Anapa</td>\n      <td>Belgorod</td>\n      <td>2017-01-15 09:25:00.000000</td>\n      <td>2017-01-15 10:15:00.000000</td>\n      <td>50</td>\n      <td>Sukhoi Superjet-100</td>\n      <td>85</td>\n      <td>76</td>\n      <td>481800</td>\n      <td>0</td>\n      <td>0</td>\n      <td>0</td>\n      <td>12</td>\n      <td>11</td>\n      <td>207900</td>\n    </tr>\n    <tr>\n      <th>120</th>\n      <td>136922</td>\n      <td>PG0480</td>\n      <td>Anapa</td>\n      <td>Belgorod</td>\n      <td>2017-02-11 09:25:00.000000</td>\n      <td>2017-02-11 10:15:00.000000</td>\n      <td>50</td>\n      <td>Sukhoi Superjet-100</td>\n      <td>85</td>\n      <td>66</td>\n      <td>418800</td>\n      <td>0</td>\n      <td>0</td>\n      <td>0</td>\n      <td>12</td>\n      <td>10</td>\n      <td>189000</td>\n    </tr>\n    <tr>\n      <th>89</th>\n      <td>136720</td>\n      <td>PG0480</td>\n      <td>Anapa</td>\n      <td>Belgorod</td>\n      <td>2017-01-26 09:25:00.000000</td>\n      <td>2017-01-26 10:15:00.000000</td>\n      <td>50</td>\n      <td>Sukhoi Superjet-100</td>\n      <td>85</td>\n      <td>83</td>\n      <td>525900</td>\n      <td>0</td>\n      <td>0</td>\n      <td>0</td>\n      <td>12</td>\n      <td>12</td>\n      <td>226800</td>\n    </tr>\n    <tr>\n      <th>115</th>\n      <td>136875</td>\n      <td>PG0480</td>\n      <td>Anapa</td>\n      <td>Belgorod</td>\n      <td>2017-02-16 09:25:00.000000</td>\n      <td>2017-02-16 10:15:00.000000</td>\n      <td>50</td>\n      <td>Sukhoi Superjet-100</td>\n      <td>85</td>\n      <td>85</td>\n      <td>538500</td>\n      <td>0</td>\n      <td>0</td>\n      <td>0</td>\n      <td>12</td>\n      <td>12</td>\n      <td>226800</td>\n    </tr>\n    <tr>\n      <th>21</th>\n      <td>136250</td>\n      <td>PG0252</td>\n      <td>Anapa</td>\n      <td>Moscow</td>\n      <td>2017-02-08 10:05:00.000000</td>\n      <td>2017-02-08 11:45:00.000000</td>\n      <td>101</td>\n      <td>Boeing 737-300</td>\n      <td>118</td>\n      <td>91</td>\n      <td>1115000</td>\n      <td>0</td>\n      <td>0</td>\n      <td>0</td>\n      <td>12</td>\n      <td>8</td>\n      <td>292800</td>\n    </tr>\n    <tr>\n      <th>86</th>\n      <td>136678</td>\n      <td>PG0480</td>\n      <td>Anapa</td>\n      <td>Belgorod</td>\n      <td>2017-01-28 09:25:00.000000</td>\n      <td>2017-01-28 10:15:00.000000</td>\n      <td>50</td>\n      <td>Sukhoi Superjet-100</td>\n      <td>85</td>\n      <td>70</td>\n      <td>442200</td>\n      <td>0</td>\n      <td>0</td>\n      <td>0</td>\n      <td>12</td>\n      <td>10</td>\n      <td>189000</td>\n    </tr>\n    <tr>\n      <th>109</th>\n      <td>136844</td>\n      <td>PG0480</td>\n      <td>Anapa</td>\n      <td>Belgorod</td>\n      <td>2017-02-28 09:25:00.000000</td>\n      <td>2017-02-28 10:15:00.000000</td>\n      <td>50</td>\n      <td>Sukhoi Superjet-100</td>\n      <td>85</td>\n      <td>73</td>\n      <td>461700</td>\n      <td>0</td>\n      <td>0</td>\n      <td>0</td>\n      <td>12</td>\n      <td>6</td>\n      <td>113400</td>\n    </tr>\n  </tbody>\n</table>\n</div>"
     },
     "execution_count": 5,
     "metadata": {},
     "output_type": "execute_result"
    }
   ],
   "source": [
    "flights.sample(10)"
   ],
   "metadata": {
    "collapsed": false,
    "pycharm": {
     "name": "#%%\n"
    }
   }
  },
  {
   "cell_type": "code",
   "execution_count": 6,
   "outputs": [
    {
     "data": {
      "text/plain": "       flight_id  flight_time_minutes  count_economy  boarding_economy  \\\ncount      127.0                127.0          127.0             127.0   \nmean   136,533.6                 91.4          102.7              84.4   \nstd        252.5                 64.4           16.5              27.0   \nmin    136,119.0                 49.0           85.0               0.0   \n25%    136,313.0                 50.0           85.0              78.0   \n50%    136,540.0                 99.0          118.0              85.0   \n75%    136,757.5                100.0          118.0             101.0   \nmax    136,956.0                312.0          118.0             118.0   \n\n       amount_economy  count_comfort  boarding_comfort  amount_comfort  \\\ncount           127.0          127.0             127.0           127.0   \nmean        817,275.6            0.0               0.0             0.0   \nstd         436,962.9            0.0               0.0             0.0   \nmin               0.0            0.0               0.0             0.0   \n25%         494,100.0            0.0               0.0             0.0   \n50%         538,500.0            0.0               0.0             0.0   \n75%       1,238,200.0            0.0               0.0             0.0   \nmax       1,446,800.0            0.0               0.0             0.0   \n\n       count_business  boarding_business  amount_business  \ncount           127.0              127.0            127.0  \nmean             12.0               10.0        275,855.9  \nstd               0.0                3.1        120,638.9  \nmin              12.0                0.0              0.0  \n25%              12.0               10.0        207,900.0  \n50%              12.0               11.0        226,800.0  \n75%              12.0               12.0        402,600.0  \nmax              12.0               12.0        439,200.0  ",
      "text/html": "<div>\n<style scoped>\n    .dataframe tbody tr th:only-of-type {\n        vertical-align: middle;\n    }\n\n    .dataframe tbody tr th {\n        vertical-align: top;\n    }\n\n    .dataframe thead th {\n        text-align: right;\n    }\n</style>\n<table border=\"1\" class=\"dataframe\">\n  <thead>\n    <tr style=\"text-align: right;\">\n      <th></th>\n      <th>flight_id</th>\n      <th>flight_time_minutes</th>\n      <th>count_economy</th>\n      <th>boarding_economy</th>\n      <th>amount_economy</th>\n      <th>count_comfort</th>\n      <th>boarding_comfort</th>\n      <th>amount_comfort</th>\n      <th>count_business</th>\n      <th>boarding_business</th>\n      <th>amount_business</th>\n    </tr>\n  </thead>\n  <tbody>\n    <tr>\n      <th>count</th>\n      <td>127.0</td>\n      <td>127.0</td>\n      <td>127.0</td>\n      <td>127.0</td>\n      <td>127.0</td>\n      <td>127.0</td>\n      <td>127.0</td>\n      <td>127.0</td>\n      <td>127.0</td>\n      <td>127.0</td>\n      <td>127.0</td>\n    </tr>\n    <tr>\n      <th>mean</th>\n      <td>136,533.6</td>\n      <td>91.4</td>\n      <td>102.7</td>\n      <td>84.4</td>\n      <td>817,275.6</td>\n      <td>0.0</td>\n      <td>0.0</td>\n      <td>0.0</td>\n      <td>12.0</td>\n      <td>10.0</td>\n      <td>275,855.9</td>\n    </tr>\n    <tr>\n      <th>std</th>\n      <td>252.5</td>\n      <td>64.4</td>\n      <td>16.5</td>\n      <td>27.0</td>\n      <td>436,962.9</td>\n      <td>0.0</td>\n      <td>0.0</td>\n      <td>0.0</td>\n      <td>0.0</td>\n      <td>3.1</td>\n      <td>120,638.9</td>\n    </tr>\n    <tr>\n      <th>min</th>\n      <td>136,119.0</td>\n      <td>49.0</td>\n      <td>85.0</td>\n      <td>0.0</td>\n      <td>0.0</td>\n      <td>0.0</td>\n      <td>0.0</td>\n      <td>0.0</td>\n      <td>12.0</td>\n      <td>0.0</td>\n      <td>0.0</td>\n    </tr>\n    <tr>\n      <th>25%</th>\n      <td>136,313.0</td>\n      <td>50.0</td>\n      <td>85.0</td>\n      <td>78.0</td>\n      <td>494,100.0</td>\n      <td>0.0</td>\n      <td>0.0</td>\n      <td>0.0</td>\n      <td>12.0</td>\n      <td>10.0</td>\n      <td>207,900.0</td>\n    </tr>\n    <tr>\n      <th>50%</th>\n      <td>136,540.0</td>\n      <td>99.0</td>\n      <td>118.0</td>\n      <td>85.0</td>\n      <td>538,500.0</td>\n      <td>0.0</td>\n      <td>0.0</td>\n      <td>0.0</td>\n      <td>12.0</td>\n      <td>11.0</td>\n      <td>226,800.0</td>\n    </tr>\n    <tr>\n      <th>75%</th>\n      <td>136,757.5</td>\n      <td>100.0</td>\n      <td>118.0</td>\n      <td>101.0</td>\n      <td>1,238,200.0</td>\n      <td>0.0</td>\n      <td>0.0</td>\n      <td>0.0</td>\n      <td>12.0</td>\n      <td>12.0</td>\n      <td>402,600.0</td>\n    </tr>\n    <tr>\n      <th>max</th>\n      <td>136,956.0</td>\n      <td>312.0</td>\n      <td>118.0</td>\n      <td>118.0</td>\n      <td>1,446,800.0</td>\n      <td>0.0</td>\n      <td>0.0</td>\n      <td>0.0</td>\n      <td>12.0</td>\n      <td>12.0</td>\n      <td>439,200.0</td>\n    </tr>\n  </tbody>\n</table>\n</div>"
     },
     "execution_count": 6,
     "metadata": {},
     "output_type": "execute_result"
    }
   ],
   "source": [
    "flights.describe()"
   ],
   "metadata": {
    "collapsed": false,
    "pycharm": {
     "name": "#%%\n"
    }
   }
  },
  {
   "cell_type": "markdown",
   "source": [
    "Датасет содержит данные, о рейсах из Анапы за зимний период 2017 года"
   ],
   "metadata": {
    "collapsed": false,
    "pycharm": {
     "name": "#%% md\n"
    }
   }
  },
  {
   "cell_type": "markdown",
   "source": [
    "- flight_id - идентификатор рейса\n",
    "- flight_no - Номер рейса\n",
    "- departure_city - Город отправления\n",
    "- arrival_city - Город прибытия\n",
    "- scheduled_departure - Время вылета по расписанию\n",
    "- scheduled_arrival - Время прилета по расписанию\n",
    "- flight_time_minutes - Время полета\n",
    "- model - Модель самолета\n",
    "- count_economy - Количество мест в самолете класса эконом\n",
    "- boarding_economy - Количество занятых мест класса эконом\n",
    "- amount_economy - Стоимость проданных билетов на рейс класса эконом\n",
    "- count_comfort - Количество мест в самолете класса комфорт\n",
    "- boarding_comfort - Количество занятых мест класса комфорт\n",
    "- amount_comfort - Стоимость проданных билетов на рейс класса комфорт\n",
    "- count_business - Количество мест в самолете класса бизнес\n",
    "- boarding_business - Количество занятых мест класса бизнес\n",
    "- amount_business - Стоимость проданных билетов на рейс класса бизнес\n"
   ],
   "metadata": {
    "collapsed": false,
    "pycharm": {
     "name": "#%% md\n"
    }
   }
  },
  {
   "cell_type": "markdown",
   "source": [
    "Столбцы класса комфорт не содержат полезной информации. Удалим их."
   ],
   "metadata": {
    "collapsed": false,
    "pycharm": {
     "name": "#%% md\n"
    }
   }
  },
  {
   "cell_type": "code",
   "execution_count": 7,
   "outputs": [],
   "source": [
    "flights.drop(['count_comfort', 'boarding_comfort', 'amount_comfort'], inplace=True, axis=1)"
   ],
   "metadata": {
    "collapsed": false,
    "pycharm": {
     "name": "#%%\n"
    }
   }
  },
  {
   "cell_type": "code",
   "source": [
    "flights.isnull().sum()"
   ],
   "metadata": {
    "collapsed": false,
    "pycharm": {
     "name": "#%%\n"
    }
   },
   "execution_count": 8,
   "outputs": [
    {
     "data": {
      "text/plain": "flight_id              0\nflight_no              0\ndeparture_city         0\narrival_city           0\nscheduled_departure    0\nscheduled_arrival      0\nflight_time_minutes    0\nmodel                  0\ncount_economy          0\nboarding_economy       0\namount_economy         0\ncount_business         0\nboarding_business      0\namount_business        0\ndtype: int64"
     },
     "execution_count": 8,
     "metadata": {},
     "output_type": "execute_result"
    }
   ]
  },
  {
   "cell_type": "markdown",
   "source": [
    "Пропусков нет"
   ],
   "metadata": {
    "collapsed": false,
    "pycharm": {
     "name": "#%% md\n"
    }
   }
  },
  {
   "cell_type": "markdown",
   "source": [
    "# flight_id"
   ],
   "metadata": {
    "collapsed": false,
    "pycharm": {
     "name": "#%% md\n"
    }
   }
  },
  {
   "cell_type": "code",
   "execution_count": 9,
   "outputs": [
    {
     "data": {
      "text/plain": "127"
     },
     "execution_count": 9,
     "metadata": {},
     "output_type": "execute_result"
    }
   ],
   "source": [
    "flights['flight_id'].nunique()"
   ],
   "metadata": {
    "collapsed": false,
    "pycharm": {
     "name": "#%%\n"
    }
   }
  },
  {
   "cell_type": "markdown",
   "source": [
    "127 уникальных значений.\n",
    "Нормальный идентификатор"
   ],
   "metadata": {
    "collapsed": false,
    "pycharm": {
     "name": "#%% md\n"
    }
   }
  },
  {
   "cell_type": "markdown",
   "source": [
    "# flight_no"
   ],
   "metadata": {
    "collapsed": false
   }
  },
  {
   "cell_type": "code",
   "execution_count": 10,
   "outputs": [
    {
     "data": {
      "text/plain": "PG0480    59\nPG0252    59\nPG0194     9\nName: flight_no, dtype: int64"
     },
     "execution_count": 10,
     "metadata": {},
     "output_type": "execute_result"
    }
   ],
   "source": [
    "flights['flight_no'].value_counts()"
   ],
   "metadata": {
    "collapsed": false,
    "pycharm": {
     "name": "#%%\n"
    }
   }
  },
  {
   "cell_type": "markdown",
   "source": [
    "3 уникальных номера рейса"
   ],
   "metadata": {
    "collapsed": false,
    "pycharm": {
     "name": "#%% md\n"
    }
   }
  },
  {
   "cell_type": "code",
   "execution_count": 11,
   "outputs": [
    {
     "data": {
      "text/plain": "<AxesSubplot:xlabel='flight_no', ylabel='Count'>"
     },
     "execution_count": 11,
     "metadata": {},
     "output_type": "execute_result"
    },
    {
     "data": {
      "text/plain": "<Figure size 432x288 with 1 Axes>",
      "image/png": "[encoded data removed]"
     },
     "metadata": {},
     "output_type": "display_data"
    }
   ],
   "source": [
    "sns.histplot(data=flights['flight_no'])"
   ],
   "metadata": {
    "collapsed": false,
    "pycharm": {
     "name": "#%%\n"
    }
   }
  },
  {
   "cell_type": "markdown",
   "source": [
    "# departure_city - Город отправления"
   ],
   "metadata": {
    "collapsed": false,
    "pycharm": {
     "name": "#%% md\n"
    }
   }
  },
  {
   "cell_type": "code",
   "execution_count": 12,
   "outputs": [
    {
     "data": {
      "text/plain": "Anapa    127\nName: departure_city, dtype: int64"
     },
     "execution_count": 12,
     "metadata": {},
     "output_type": "execute_result"
    }
   ],
   "source": [
    "flights['departure_city'].value_counts()"
   ],
   "metadata": {
    "collapsed": false,
    "pycharm": {
     "name": "#%%\n"
    }
   }
  },
  {
   "cell_type": "markdown",
   "source": [
    "Все 127 рейса из Анапы"
   ],
   "metadata": {
    "collapsed": false,
    "pycharm": {
     "name": "#%% md\n"
    }
   }
  },
  {
   "cell_type": "markdown",
   "source": [
    "# arrival_city - Город прибытия"
   ],
   "metadata": {
    "collapsed": false,
    "pycharm": {
     "name": "#%% md\n"
    }
   }
  },
  {
   "cell_type": "code",
   "execution_count": 13,
   "outputs": [
    {
     "data": {
      "text/plain": "Moscow          59\nBelgorod        59\nNovokuznetsk     9\nName: arrival_city, dtype: int64"
     },
     "execution_count": 13,
     "metadata": {},
     "output_type": "execute_result"
    }
   ],
   "source": [
    "flights['arrival_city'].value_counts()"
   ],
   "metadata": {
    "collapsed": false,
    "pycharm": {
     "name": "#%%\n"
    }
   }
  },
  {
   "cell_type": "code",
   "execution_count": 14,
   "outputs": [
    {
     "data": {
      "text/plain": "<AxesSubplot:xlabel='arrival_city', ylabel='Count'>"
     },
     "execution_count": 14,
     "metadata": {},
     "output_type": "execute_result"
    },
    {
     "data": {
      "text/plain": "<Figure size 432x288 with 1 Axes>",
      "image/png": "[encoded data removed]"
     },
     "metadata": {},
     "output_type": "display_data"
    }
   ],
   "source": [
    "sns.histplot(flights['arrival_city'])"
   ],
   "metadata": {
    "collapsed": false,
    "pycharm": {
     "name": "#%%\n"
    }
   }
  },
  {
   "cell_type": "markdown",
   "source": [
    "Посмотрим, какие рейсы в какие города летают"
   ],
   "metadata": {
    "collapsed": false,
    "pycharm": {
     "name": "#%% md\n"
    }
   }
  },
  {
   "cell_type": "code",
   "execution_count": 15,
   "outputs": [
    {
     "data": {
      "text/plain": "                        flight_id  departure_city  scheduled_departure  \\\nflight_no arrival_city                                                   \nPG0194    Novokuznetsk          9               9                    9   \nPG0252    Moscow               59              59                   59   \nPG0480    Belgorod             59              59                   59   \n\n                        scheduled_arrival  flight_time_minutes  model  \\\nflight_no arrival_city                                                  \nPG0194    Novokuznetsk                  9                    9      9   \nPG0252    Moscow                       59                   59     59   \nPG0480    Belgorod                     59                   59     59   \n\n                        count_economy  boarding_economy  amount_economy  \\\nflight_no arrival_city                                                    \nPG0194    Novokuznetsk              9                 9               9   \nPG0252    Moscow                   59                59              59   \nPG0480    Belgorod                 59                59              59   \n\n                        count_business  boarding_business  amount_business  \nflight_no arrival_city                                                      \nPG0194    Novokuznetsk               9                  9                9  \nPG0252    Moscow                    59                 59               59  \nPG0480    Belgorod                  59                 59               59  ",
      "text/html": "<div>\n<style scoped>\n    .dataframe tbody tr th:only-of-type {\n        vertical-align: middle;\n    }\n\n    .dataframe tbody tr th {\n        vertical-align: top;\n    }\n\n    .dataframe thead th {\n        text-align: right;\n    }\n</style>\n<table border=\"1\" class=\"dataframe\">\n  <thead>\n    <tr style=\"text-align: right;\">\n      <th></th>\n      <th></th>\n      <th>flight_id</th>\n      <th>departure_city</th>\n      <th>scheduled_departure</th>\n      <th>scheduled_arrival</th>\n      <th>flight_time_minutes</th>\n      <th>model</th>\n      <th>count_economy</th>\n      <th>boarding_economy</th>\n      <th>amount_economy</th>\n      <th>count_business</th>\n      <th>boarding_business</th>\n      <th>amount_business</th>\n    </tr>\n    <tr>\n      <th>flight_no</th>\n      <th>arrival_city</th>\n      <th></th>\n      <th></th>\n      <th></th>\n      <th></th>\n      <th></th>\n      <th></th>\n      <th></th>\n      <th></th>\n      <th></th>\n      <th></th>\n      <th></th>\n      <th></th>\n    </tr>\n  </thead>\n  <tbody>\n    <tr>\n      <th>PG0194</th>\n      <th>Novokuznetsk</th>\n      <td>9</td>\n      <td>9</td>\n      <td>9</td>\n      <td>9</td>\n      <td>9</td>\n      <td>9</td>\n      <td>9</td>\n      <td>9</td>\n      <td>9</td>\n      <td>9</td>\n      <td>9</td>\n      <td>9</td>\n    </tr>\n    <tr>\n      <th>PG0252</th>\n      <th>Moscow</th>\n      <td>59</td>\n      <td>59</td>\n      <td>59</td>\n      <td>59</td>\n      <td>59</td>\n      <td>59</td>\n      <td>59</td>\n      <td>59</td>\n      <td>59</td>\n      <td>59</td>\n      <td>59</td>\n      <td>59</td>\n    </tr>\n    <tr>\n      <th>PG0480</th>\n      <th>Belgorod</th>\n      <td>59</td>\n      <td>59</td>\n      <td>59</td>\n      <td>59</td>\n      <td>59</td>\n      <td>59</td>\n      <td>59</td>\n      <td>59</td>\n      <td>59</td>\n      <td>59</td>\n      <td>59</td>\n      <td>59</td>\n    </tr>\n  </tbody>\n</table>\n</div>"
     },
     "execution_count": 15,
     "metadata": {},
     "output_type": "execute_result"
    }
   ],
   "source": [
    "flights.groupby(['flight_no','arrival_city']).count()"
   ],
   "metadata": {
    "collapsed": false,
    "pycharm": {
     "name": "#%%\n"
    }
   }
  },
  {
   "cell_type": "markdown",
   "source": [
    "Видим, что один рейс летает в 1 город. 3 рейса, 3 города\n",
    "При чем в Москву и Белгород было совершено по 59 рейсов, а в Новокузнецк только 9"
   ],
   "metadata": {
    "collapsed": false,
    "pycharm": {
     "name": "#%% md\n"
    }
   }
  },
  {
   "cell_type": "markdown",
   "source": [
    "Преобразуем столбец вылета в тип datetime"
   ],
   "metadata": {
    "collapsed": false,
    "pycharm": {
     "name": "#%% md\n"
    }
   }
  },
  {
   "cell_type": "code",
   "execution_count": 16,
   "outputs": [],
   "source": [
    "flights['scheduled_departure'] = pd.to_datetime(flights['scheduled_departure'])"
   ],
   "metadata": {
    "collapsed": false,
    "pycharm": {
     "name": "#%%\n"
    }
   }
  },
  {
   "cell_type": "code",
   "execution_count": 17,
   "outputs": [],
   "source": [
    "# скорее всего запланированное время прилета нам не понадобится, удалим\n",
    "flights.drop(['scheduled_arrival'], inplace=True, axis=1)"
   ],
   "metadata": {
    "collapsed": false,
    "pycharm": {
     "name": "#%%\n"
    }
   }
  },
  {
   "cell_type": "code",
   "execution_count": 18,
   "outputs": [],
   "source": [
    "# Вытащим из даты месяцы и дни недели\n",
    "flights['month'] = flights['scheduled_departure'].dt.month"
   ],
   "metadata": {
    "collapsed": false,
    "pycharm": {
     "name": "#%%\n"
    }
   }
  },
  {
   "cell_type": "code",
   "execution_count": 19,
   "outputs": [],
   "source": [
    "flights['dayofweek'] = flights['scheduled_departure'].dt.dayofweek"
   ],
   "metadata": {
    "collapsed": false,
    "pycharm": {
     "name": "#%%\n"
    }
   }
  },
  {
   "cell_type": "markdown",
   "source": [
    "Посмотрим на количество рейсов по месяцам"
   ],
   "metadata": {
    "collapsed": false,
    "pycharm": {
     "name": "#%% md\n"
    }
   }
  },
  {
   "cell_type": "code",
   "execution_count": 20,
   "outputs": [
    {
     "data": {
      "text/plain": "                 flight_no\nmonth flight_no           \n1     PG0194             5\n      PG0252            31\n      PG0480            31\n2     PG0194             4\n      PG0252            28\n      PG0480            28",
      "text/html": "<div>\n<style scoped>\n    .dataframe tbody tr th:only-of-type {\n        vertical-align: middle;\n    }\n\n    .dataframe tbody tr th {\n        vertical-align: top;\n    }\n\n    .dataframe thead th {\n        text-align: right;\n    }\n</style>\n<table border=\"1\" class=\"dataframe\">\n  <thead>\n    <tr style=\"text-align: right;\">\n      <th></th>\n      <th></th>\n      <th>flight_no</th>\n    </tr>\n    <tr>\n      <th>month</th>\n      <th>flight_no</th>\n      <th></th>\n    </tr>\n  </thead>\n  <tbody>\n    <tr>\n      <th rowspan=\"3\" valign=\"top\">1</th>\n      <th>PG0194</th>\n      <td>5</td>\n    </tr>\n    <tr>\n      <th>PG0252</th>\n      <td>31</td>\n    </tr>\n    <tr>\n      <th>PG0480</th>\n      <td>31</td>\n    </tr>\n    <tr>\n      <th rowspan=\"3\" valign=\"top\">2</th>\n      <th>PG0194</th>\n      <td>4</td>\n    </tr>\n    <tr>\n      <th>PG0252</th>\n      <td>28</td>\n    </tr>\n    <tr>\n      <th>PG0480</th>\n      <td>28</td>\n    </tr>\n  </tbody>\n</table>\n</div>"
     },
     "execution_count": 20,
     "metadata": {},
     "output_type": "execute_result"
    }
   ],
   "source": [
    "pd.DataFrame(flights.groupby(['month','flight_no'])['flight_no'].count())"
   ],
   "metadata": {
    "collapsed": false,
    "pycharm": {
     "name": "#%%\n"
    }
   }
  },
  {
   "cell_type": "markdown",
   "source": [
    "Странно, летали только в январе и феврале.\n",
    "В декабре нет ни одного рейса"
   ],
   "metadata": {
    "collapsed": false,
    "pycharm": {
     "name": "#%% md\n"
    }
   }
  },
  {
   "cell_type": "code",
   "execution_count": 21,
   "outputs": [
    {
     "data": {
      "text/plain": "dayofweek  flight_no\n0          PG0252       9\n           PG0480       9\n1          PG0194       9\n           PG0252       9\n           PG0480       9\n2          PG0252       8\n           PG0480       8\n3          PG0252       8\n           PG0480       8\n4          PG0252       8\n           PG0480       8\n5          PG0252       8\n           PG0480       8\n6          PG0252       9\n           PG0480       9\nName: flight_no, dtype: int64"
     },
     "execution_count": 21,
     "metadata": {},
     "output_type": "execute_result"
    }
   ],
   "source": [
    "flights.groupby(['dayofweek','flight_no']).flight_no.count()"
   ],
   "metadata": {
    "collapsed": false,
    "pycharm": {
     "name": "#%%\n"
    }
   }
  },
  {
   "cell_type": "markdown",
   "source": [
    "# flight_time_minutes - Время полета"
   ],
   "metadata": {
    "collapsed": false,
    "pycharm": {
     "name": "#%% md\n"
    }
   }
  },
  {
   "cell_type": "code",
   "execution_count": 22,
   "outputs": [
    {
     "data": {
      "text/plain": "50     34\n100    27\n99     17\n51     15\n49     10\n101     8\n98      4\n102     2\n310     2\n311     1\n312     1\n299     1\n307     1\n305     1\n304     1\n302     1\n103     1\nName: flight_time_minutes, dtype: int64"
     },
     "execution_count": 22,
     "metadata": {},
     "output_type": "execute_result"
    }
   ],
   "source": [
    "flights['flight_time_minutes'].value_counts()"
   ],
   "metadata": {
    "collapsed": false,
    "pycharm": {
     "name": "#%%\n"
    }
   }
  },
  {
   "cell_type": "markdown",
   "source": [
    "Среднее время рейса"
   ],
   "metadata": {
    "collapsed": false,
    "pycharm": {
     "name": "#%% md\n"
    }
   }
  },
  {
   "cell_type": "code",
   "execution_count": 23,
   "outputs": [
    {
     "data": {
      "text/plain": "flight_no  arrival_city\nPG0194     Novokuznetsk   306.7\nPG0252     Moscow          99.8\nPG0480     Belgorod        50.1\nName: flight_time_minutes, dtype: float64"
     },
     "execution_count": 23,
     "metadata": {},
     "output_type": "execute_result"
    }
   ],
   "source": [
    "flights.groupby(['flight_no','arrival_city']).flight_time_minutes.mean()\n"
   ],
   "metadata": {
    "collapsed": false,
    "pycharm": {
     "name": "#%%\n"
    }
   }
  },
  {
   "cell_type": "markdown",
   "source": [
    "# model - Модель самолета"
   ],
   "metadata": {
    "collapsed": false,
    "pycharm": {
     "name": "#%% md\n"
    }
   }
  },
  {
   "cell_type": "code",
   "execution_count": 24,
   "outputs": [
    {
     "data": {
      "text/plain": "Boeing 737-300         68\nSukhoi Superjet-100    59\nName: model, dtype: int64"
     },
     "execution_count": 24,
     "metadata": {},
     "output_type": "execute_result"
    }
   ],
   "source": [
    "flights['model'].value_counts()"
   ],
   "metadata": {
    "collapsed": false,
    "pycharm": {
     "name": "#%%\n"
    }
   }
  },
  {
   "cell_type": "markdown",
   "source": [
    "Рейсы совершаются только на двух моделях самолетов\n",
    "Boeing 737-300 и Superjet-100"
   ],
   "metadata": {
    "collapsed": false,
    "pycharm": {
     "name": "#%% md\n"
    }
   }
  },
  {
   "cell_type": "code",
   "execution_count": 25,
   "outputs": [],
   "source": [
    "# Посчитаем общее кол-во посадочных мест в самолетоах\n",
    "flights['seats_count'] = flights['count_economy'] + flights['count_business']\n",
    "# Посчитаем общую загоузку самолетов\n",
    "flights['boarding_count'] = flights['boarding_economy'] + flights['boarding_business']\n",
    "# Посчитаем общую сумму проданных билетов (доход)\n",
    "flights['total_amount'] = flights['amount_economy'] + flights['amount_business']"
   ],
   "metadata": {
    "collapsed": false,
    "pycharm": {
     "name": "#%%\n"
    }
   }
  },
  {
   "cell_type": "markdown",
   "source": [
    "# посчитаем расход\n",
    "- Boeing 737-300 - 2400 кг/час (40 кг/мин)\n",
    "- Superjet - 1700 кг/час (28.3 кг/мин\n",
    "\n",
    "[Расход топлива у самолётов](http://newsruss.ru/doc/index.php/%D0%A0%D0%B0%D1%81%D1%85%D0%BE%D0%B4_%D1%82%D0%BE%D0%BF%D0%BB%D0%B8%D0%B2%D0%B0_%D1%83_%D1%81%D0%B0%D0%BC%D0%BE%D0%BB%D1%91%D1%82%D0%BE%D0%B2)\n",
    "\n",
    "- Стоимость топлива на январь 2017 - 41 435  руб за тонну (41.4 за кг)\n",
    "\n",
    "[ЦЕНЫ НА АВИАГСМ В 2017 ГОДУ](https://favt.gov.ru/dejatelnost-ajeroporty-i-ajerodromy-ceny-na-aviagsm/?id=7329)"
   ],
   "metadata": {
    "collapsed": false,
    "pycharm": {
     "name": "#%% md\n"
    }
   }
  },
  {
   "cell_type": "code",
   "execution_count": 26,
   "outputs": [],
   "source": [
    "flights['fc'] = flights['model'].apply(lambda fc: 40 if fc == 'Boeing 737-300' else 28.3)"
   ],
   "metadata": {
    "collapsed": false,
    "pycharm": {
     "name": "#%%\n"
    }
   }
  },
  {
   "cell_type": "code",
   "execution_count": 27,
   "outputs": [],
   "source": [
    "flights['cost'] = flights['fc'] * 41.4 * flights['flight_time_minutes']"
   ],
   "metadata": {
    "collapsed": false,
    "pycharm": {
     "name": "#%%\n"
    }
   }
  },
  {
   "cell_type": "markdown",
   "source": [
    "Посчитаем прибыльность рейса\n",
    "\n",
    "Стоиомость билетов - стоимость топлива на рейс"
   ],
   "metadata": {
    "collapsed": false,
    "pycharm": {
     "name": "#%% md\n"
    }
   }
  },
  {
   "cell_type": "code",
   "execution_count": 28,
   "outputs": [],
   "source": [
    "flights['profit'] = flights['total_amount'] - flights['cost']"
   ],
   "metadata": {
    "collapsed": false,
    "pycharm": {
     "name": "#%%\n"
    }
   }
  },
  {
   "cell_type": "code",
   "execution_count": 29,
   "outputs": [
    {
     "data": {
      "text/plain": "       flight_id  flight_time_minutes  count_economy  boarding_economy  \\\ncount      127.0                127.0          127.0             127.0   \nmean   136,533.6                 91.4          102.7              84.4   \nstd        252.5                 64.4           16.5              27.0   \nmin    136,119.0                 49.0           85.0               0.0   \n25%    136,313.0                 50.0           85.0              78.0   \n50%    136,540.0                 99.0          118.0              85.0   \n75%    136,757.5                100.0          118.0             101.0   \nmax    136,956.0                312.0          118.0             118.0   \n\n       amount_economy  count_business  boarding_business  amount_business  \\\ncount           127.0           127.0              127.0            127.0   \nmean        817,275.6            12.0               10.0        275,855.9   \nstd         436,962.9             0.0                3.1        120,638.9   \nmin               0.0            12.0                0.0              0.0   \n25%         494,100.0            12.0               10.0        207,900.0   \n50%         538,500.0            12.0               11.0        226,800.0   \n75%       1,238,200.0            12.0               12.0        402,600.0   \nmax       1,446,800.0            12.0               12.0        439,200.0   \n\n       month  dayofweek  seats_count  boarding_count  total_amount    fc  \\\ncount  127.0      127.0        127.0           127.0         127.0 127.0   \nmean     1.5        2.8        114.7            94.4   1,093,131.5  34.6   \nstd      0.5        2.0         16.5            29.6     552,533.5   5.9   \nmin      1.0        0.0         97.0             0.0           0.0  28.3   \n25%      1.0        1.0         97.0            89.5     714,600.0  28.3   \n50%      1.0        3.0        130.0            97.0     765,300.0  40.0   \n75%      2.0        5.0        130.0           110.0   1,610,300.0  40.0   \nmax      2.0        6.0        130.0           130.0   1,886,000.0  40.0   \n\n           cost      profit  \ncount     127.0       127.0  \nmean  140,051.5   953,080.0  \nstd   114,308.4   577,657.7  \nmin    57,409.4  -516,672.0  \n25%    58,581.0   655,433.2  \n50%   163,944.0   706,719.0  \n75%   165,600.0 1,445,528.0  \nmax   516,672.0 1,720,400.0  ",
      "text/html": "<div>\n<style scoped>\n    .dataframe tbody tr th:only-of-type {\n        vertical-align: middle;\n    }\n\n    .dataframe tbody tr th {\n        vertical-align: top;\n    }\n\n    .dataframe thead th {\n        text-align: right;\n    }\n</style>\n<table border=\"1\" class=\"dataframe\">\n  <thead>\n    <tr style=\"text-align: right;\">\n      <th></th>\n      <th>flight_id</th>\n      <th>flight_time_minutes</th>\n      <th>count_economy</th>\n      <th>boarding_economy</th>\n      <th>amount_economy</th>\n      <th>count_business</th>\n      <th>boarding_business</th>\n      <th>amount_business</th>\n      <th>month</th>\n      <th>dayofweek</th>\n      <th>seats_count</th>\n      <th>boarding_count</th>\n      <th>total_amount</th>\n      <th>fc</th>\n      <th>cost</th>\n      <th>profit</th>\n    </tr>\n  </thead>\n  <tbody>\n    <tr>\n      <th>count</th>\n      <td>127.0</td>\n      <td>127.0</td>\n      <td>127.0</td>\n      <td>127.0</td>\n      <td>127.0</td>\n      <td>127.0</td>\n      <td>127.0</td>\n      <td>127.0</td>\n      <td>127.0</td>\n      <td>127.0</td>\n      <td>127.0</td>\n      <td>127.0</td>\n      <td>127.0</td>\n      <td>127.0</td>\n      <td>127.0</td>\n      <td>127.0</td>\n    </tr>\n    <tr>\n      <th>mean</th>\n      <td>136,533.6</td>\n      <td>91.4</td>\n      <td>102.7</td>\n      <td>84.4</td>\n      <td>817,275.6</td>\n      <td>12.0</td>\n      <td>10.0</td>\n      <td>275,855.9</td>\n      <td>1.5</td>\n      <td>2.8</td>\n      <td>114.7</td>\n      <td>94.4</td>\n      <td>1,093,131.5</td>\n      <td>34.6</td>\n      <td>140,051.5</td>\n      <td>953,080.0</td>\n    </tr>\n    <tr>\n      <th>std</th>\n      <td>252.5</td>\n      <td>64.4</td>\n      <td>16.5</td>\n      <td>27.0</td>\n      <td>436,962.9</td>\n      <td>0.0</td>\n      <td>3.1</td>\n      <td>120,638.9</td>\n      <td>0.5</td>\n      <td>2.0</td>\n      <td>16.5</td>\n      <td>29.6</td>\n      <td>552,533.5</td>\n      <td>5.9</td>\n      <td>114,308.4</td>\n      <td>577,657.7</td>\n    </tr>\n    <tr>\n      <th>min</th>\n      <td>136,119.0</td>\n      <td>49.0</td>\n      <td>85.0</td>\n      <td>0.0</td>\n      <td>0.0</td>\n      <td>12.0</td>\n      <td>0.0</td>\n      <td>0.0</td>\n      <td>1.0</td>\n      <td>0.0</td>\n      <td>97.0</td>\n      <td>0.0</td>\n      <td>0.0</td>\n      <td>28.3</td>\n      <td>57,409.4</td>\n      <td>-516,672.0</td>\n    </tr>\n    <tr>\n      <th>25%</th>\n      <td>136,313.0</td>\n      <td>50.0</td>\n      <td>85.0</td>\n      <td>78.0</td>\n      <td>494,100.0</td>\n      <td>12.0</td>\n      <td>10.0</td>\n      <td>207,900.0</td>\n      <td>1.0</td>\n      <td>1.0</td>\n      <td>97.0</td>\n      <td>89.5</td>\n      <td>714,600.0</td>\n      <td>28.3</td>\n      <td>58,581.0</td>\n      <td>655,433.2</td>\n    </tr>\n    <tr>\n      <th>50%</th>\n      <td>136,540.0</td>\n      <td>99.0</td>\n      <td>118.0</td>\n      <td>85.0</td>\n      <td>538,500.0</td>\n      <td>12.0</td>\n      <td>11.0</td>\n      <td>226,800.0</td>\n      <td>1.0</td>\n      <td>3.0</td>\n      <td>130.0</td>\n      <td>97.0</td>\n      <td>765,300.0</td>\n      <td>40.0</td>\n      <td>163,944.0</td>\n      <td>706,719.0</td>\n    </tr>\n    <tr>\n      <th>75%</th>\n      <td>136,757.5</td>\n      <td>100.0</td>\n      <td>118.0</td>\n      <td>101.0</td>\n      <td>1,238,200.0</td>\n      <td>12.0</td>\n      <td>12.0</td>\n      <td>402,600.0</td>\n      <td>2.0</td>\n      <td>5.0</td>\n      <td>130.0</td>\n      <td>110.0</td>\n      <td>1,610,300.0</td>\n      <td>40.0</td>\n      <td>165,600.0</td>\n      <td>1,445,528.0</td>\n    </tr>\n    <tr>\n      <th>max</th>\n      <td>136,956.0</td>\n      <td>312.0</td>\n      <td>118.0</td>\n      <td>118.0</td>\n      <td>1,446,800.0</td>\n      <td>12.0</td>\n      <td>12.0</td>\n      <td>439,200.0</td>\n      <td>2.0</td>\n      <td>6.0</td>\n      <td>130.0</td>\n      <td>130.0</td>\n      <td>1,886,000.0</td>\n      <td>40.0</td>\n      <td>516,672.0</td>\n      <td>1,720,400.0</td>\n    </tr>\n  </tbody>\n</table>\n</div>"
     },
     "execution_count": 29,
     "metadata": {},
     "output_type": "execute_result"
    }
   ],
   "source": [
    "flights.describe()"
   ],
   "metadata": {
    "collapsed": false,
    "pycharm": {
     "name": "#%%\n"
    }
   }
  },
  {
   "cell_type": "code",
   "execution_count": 30,
   "outputs": [
    {
     "data": {
      "text/plain": "flight_no  model                arrival_city\nPG0194     Boeing 737-300       Novokuznetsk   -4,570,560.0\nPG0252     Boeing 737-300       Moscow         87,158,160.0\nPG0480     Sukhoi Superjet-100  Belgorod       38,453,562.9\nName: profit, dtype: float64"
     },
     "execution_count": 30,
     "metadata": {},
     "output_type": "execute_result"
    }
   ],
   "source": [
    "flights.groupby(['flight_no','model','arrival_city']).profit.sum()"
   ],
   "metadata": {
    "collapsed": false,
    "pycharm": {
     "name": "#%%\n"
    }
   }
  },
  {
   "cell_type": "code",
   "execution_count": 31,
   "outputs": [
    {
     "data": {
      "text/plain": "<seaborn.axisgrid.FacetGrid at 0x11af43280>"
     },
     "execution_count": 31,
     "metadata": {},
     "output_type": "execute_result"
    },
    {
     "data": {
      "text/plain": "<Figure size 360x360 with 1 Axes>",
      "image/png": "[encoded data removed]"
     },
     "metadata": {},
     "output_type": "display_data"
    }
   ],
   "source": [
    "sns.catplot(data=flights, y='profit', x='flight_no', kind='bar')\n"
   ],
   "metadata": {
    "collapsed": false,
    "pycharm": {
     "name": "#%%\n"
    }
   }
  },
  {
   "cell_type": "code",
   "execution_count": 32,
   "outputs": [
    {
     "data": {
      "text/plain": "<AxesSubplot:>"
     },
     "execution_count": 32,
     "metadata": {},
     "output_type": "execute_result"
    },
    {
     "data": {
      "text/plain": "<Figure size 432x288 with 2 Axes>",
      "image/png": "[encoded data removed]"
     },
     "metadata": {},
     "output_type": "display_data"
    }
   ],
   "source": [
    "sns.heatmap(flights.corr())"
   ],
   "metadata": {
    "collapsed": false,
    "pycharm": {
     "name": "#%%\n"
    }
   }
  },
  {
   "cell_type": "markdown",
   "source": [
    "Вывод:\n",
    "\n",
    "Если нет ошибки в данных, что стоит проверить, то имеет смысл отказаться от рейсов:"
   ],
   "metadata": {
    "collapsed": false,
    "pycharm": {
     "name": "#%% md\n"
    }
   }
  },
  {
   "cell_type": "code",
   "execution_count": 33,
   "outputs": [
    {
     "data": {
      "text/plain": "    flight_id flight_no departure_city  arrival_city scheduled_departure  \\\n59     136511    PG0194          Anapa  Novokuznetsk 2017-02-21 06:10:00   \n60     136513    PG0194          Anapa  Novokuznetsk 2017-02-28 06:10:00   \n61     136514    PG0194          Anapa  Novokuznetsk 2017-02-07 06:10:00   \n62     136523    PG0194          Anapa  Novokuznetsk 2017-01-10 06:10:00   \n63     136540    PG0194          Anapa  Novokuznetsk 2017-01-17 06:10:00   \n64     136544    PG0194          Anapa  Novokuznetsk 2017-01-31 06:10:00   \n65     136546    PG0194          Anapa  Novokuznetsk 2017-01-03 06:10:00   \n66     136560    PG0194          Anapa  Novokuznetsk 2017-01-24 06:10:00   \n67     136567    PG0194          Anapa  Novokuznetsk 2017-02-14 06:10:00   \n\n    flight_time_minutes           model  count_economy  boarding_economy  \\\n59                  310  Boeing 737-300            118                 0   \n60                  310  Boeing 737-300            118                 0   \n61                  299  Boeing 737-300            118                 0   \n62                  312  Boeing 737-300            118                 0   \n63                  307  Boeing 737-300            118                 0   \n64                  304  Boeing 737-300            118                 0   \n65                  302  Boeing 737-300            118                 0   \n66                  305  Boeing 737-300            118                 0   \n67                  311  Boeing 737-300            118                 0   \n\n    amount_economy  count_business  boarding_business  amount_business  month  \\\n59               0              12                  0                0      2   \n60               0              12                  0                0      2   \n61               0              12                  0                0      2   \n62               0              12                  0                0      1   \n63               0              12                  0                0      1   \n64               0              12                  0                0      1   \n65               0              12                  0                0      1   \n66               0              12                  0                0      1   \n67               0              12                  0                0      2   \n\n    dayofweek  seats_count  boarding_count  total_amount   fc      cost  \\\n59          1          130               0             0 40.0 513,360.0   \n60          1          130               0             0 40.0 513,360.0   \n61          1          130               0             0 40.0 495,144.0   \n62          1          130               0             0 40.0 516,672.0   \n63          1          130               0             0 40.0 508,392.0   \n64          1          130               0             0 40.0 503,424.0   \n65          1          130               0             0 40.0 500,112.0   \n66          1          130               0             0 40.0 505,080.0   \n67          1          130               0             0 40.0 515,016.0   \n\n       profit  \n59 -513,360.0  \n60 -513,360.0  \n61 -495,144.0  \n62 -516,672.0  \n63 -508,392.0  \n64 -503,424.0  \n65 -500,112.0  \n66 -505,080.0  \n67 -515,016.0  ",
      "text/html": "<div>\n<style scoped>\n    .dataframe tbody tr th:only-of-type {\n        vertical-align: middle;\n    }\n\n    .dataframe tbody tr th {\n        vertical-align: top;\n    }\n\n    .dataframe thead th {\n        text-align: right;\n    }\n</style>\n<table border=\"1\" class=\"dataframe\">\n  <thead>\n    <tr style=\"text-align: right;\">\n      <th></th>\n      <th>flight_id</th>\n      <th>flight_no</th>\n      <th>departure_city</th>\n      <th>arrival_city</th>\n      <th>scheduled_departure</th>\n      <th>flight_time_minutes</th>\n      <th>model</th>\n      <th>count_economy</th>\n      <th>boarding_economy</th>\n      <th>amount_economy</th>\n      <th>count_business</th>\n      <th>boarding_business</th>\n      <th>amount_business</th>\n      <th>month</th>\n      <th>dayofweek</th>\n      <th>seats_count</th>\n      <th>boarding_count</th>\n      <th>total_amount</th>\n      <th>fc</th>\n      <th>cost</th>\n      <th>profit</th>\n    </tr>\n  </thead>\n  <tbody>\n    <tr>\n      <th>59</th>\n      <td>136511</td>\n      <td>PG0194</td>\n      <td>Anapa</td>\n      <td>Novokuznetsk</td>\n      <td>2017-02-21 06:10:00</td>\n      <td>310</td>\n      <td>Boeing 737-300</td>\n      <td>118</td>\n      <td>0</td>\n      <td>0</td>\n      <td>12</td>\n      <td>0</td>\n      <td>0</td>\n      <td>2</td>\n      <td>1</td>\n      <td>130</td>\n      <td>0</td>\n      <td>0</td>\n      <td>40.0</td>\n      <td>513,360.0</td>\n      <td>-513,360.0</td>\n    </tr>\n    <tr>\n      <th>60</th>\n      <td>136513</td>\n      <td>PG0194</td>\n      <td>Anapa</td>\n      <td>Novokuznetsk</td>\n      <td>2017-02-28 06:10:00</td>\n      <td>310</td>\n      <td>Boeing 737-300</td>\n      <td>118</td>\n      <td>0</td>\n      <td>0</td>\n      <td>12</td>\n      <td>0</td>\n      <td>0</td>\n      <td>2</td>\n      <td>1</td>\n      <td>130</td>\n      <td>0</td>\n      <td>0</td>\n      <td>40.0</td>\n      <td>513,360.0</td>\n      <td>-513,360.0</td>\n    </tr>\n    <tr>\n      <th>61</th>\n      <td>136514</td>\n      <td>PG0194</td>\n      <td>Anapa</td>\n      <td>Novokuznetsk</td>\n      <td>2017-02-07 06:10:00</td>\n      <td>299</td>\n      <td>Boeing 737-300</td>\n      <td>118</td>\n      <td>0</td>\n      <td>0</td>\n      <td>12</td>\n      <td>0</td>\n      <td>0</td>\n      <td>2</td>\n      <td>1</td>\n      <td>130</td>\n      <td>0</td>\n      <td>0</td>\n      <td>40.0</td>\n      <td>495,144.0</td>\n      <td>-495,144.0</td>\n    </tr>\n    <tr>\n      <th>62</th>\n      <td>136523</td>\n      <td>PG0194</td>\n      <td>Anapa</td>\n      <td>Novokuznetsk</td>\n      <td>2017-01-10 06:10:00</td>\n      <td>312</td>\n      <td>Boeing 737-300</td>\n      <td>118</td>\n      <td>0</td>\n      <td>0</td>\n      <td>12</td>\n      <td>0</td>\n      <td>0</td>\n      <td>1</td>\n      <td>1</td>\n      <td>130</td>\n      <td>0</td>\n      <td>0</td>\n      <td>40.0</td>\n      <td>516,672.0</td>\n      <td>-516,672.0</td>\n    </tr>\n    <tr>\n      <th>63</th>\n      <td>136540</td>\n      <td>PG0194</td>\n      <td>Anapa</td>\n      <td>Novokuznetsk</td>\n      <td>2017-01-17 06:10:00</td>\n      <td>307</td>\n      <td>Boeing 737-300</td>\n      <td>118</td>\n      <td>0</td>\n      <td>0</td>\n      <td>12</td>\n      <td>0</td>\n      <td>0</td>\n      <td>1</td>\n      <td>1</td>\n      <td>130</td>\n      <td>0</td>\n      <td>0</td>\n      <td>40.0</td>\n      <td>508,392.0</td>\n      <td>-508,392.0</td>\n    </tr>\n    <tr>\n      <th>64</th>\n      <td>136544</td>\n      <td>PG0194</td>\n      <td>Anapa</td>\n      <td>Novokuznetsk</td>\n      <td>2017-01-31 06:10:00</td>\n      <td>304</td>\n      <td>Boeing 737-300</td>\n      <td>118</td>\n      <td>0</td>\n      <td>0</td>\n      <td>12</td>\n      <td>0</td>\n      <td>0</td>\n      <td>1</td>\n      <td>1</td>\n      <td>130</td>\n      <td>0</td>\n      <td>0</td>\n      <td>40.0</td>\n      <td>503,424.0</td>\n      <td>-503,424.0</td>\n    </tr>\n    <tr>\n      <th>65</th>\n      <td>136546</td>\n      <td>PG0194</td>\n      <td>Anapa</td>\n      <td>Novokuznetsk</td>\n      <td>2017-01-03 06:10:00</td>\n      <td>302</td>\n      <td>Boeing 737-300</td>\n      <td>118</td>\n      <td>0</td>\n      <td>0</td>\n      <td>12</td>\n      <td>0</td>\n      <td>0</td>\n      <td>1</td>\n      <td>1</td>\n      <td>130</td>\n      <td>0</td>\n      <td>0</td>\n      <td>40.0</td>\n      <td>500,112.0</td>\n      <td>-500,112.0</td>\n    </tr>\n    <tr>\n      <th>66</th>\n      <td>136560</td>\n      <td>PG0194</td>\n      <td>Anapa</td>\n      <td>Novokuznetsk</td>\n      <td>2017-01-24 06:10:00</td>\n      <td>305</td>\n      <td>Boeing 737-300</td>\n      <td>118</td>\n      <td>0</td>\n      <td>0</td>\n      <td>12</td>\n      <td>0</td>\n      <td>0</td>\n      <td>1</td>\n      <td>1</td>\n      <td>130</td>\n      <td>0</td>\n      <td>0</td>\n      <td>40.0</td>\n      <td>505,080.0</td>\n      <td>-505,080.0</td>\n    </tr>\n    <tr>\n      <th>67</th>\n      <td>136567</td>\n      <td>PG0194</td>\n      <td>Anapa</td>\n      <td>Novokuznetsk</td>\n      <td>2017-02-14 06:10:00</td>\n      <td>311</td>\n      <td>Boeing 737-300</td>\n      <td>118</td>\n      <td>0</td>\n      <td>0</td>\n      <td>12</td>\n      <td>0</td>\n      <td>0</td>\n      <td>2</td>\n      <td>1</td>\n      <td>130</td>\n      <td>0</td>\n      <td>0</td>\n      <td>40.0</td>\n      <td>515,016.0</td>\n      <td>-515,016.0</td>\n    </tr>\n  </tbody>\n</table>\n</div>"
     },
     "execution_count": 33,
     "metadata": {},
     "output_type": "execute_result"
    }
   ],
   "source": [
    "flights[(flights['flight_no'] == 'PG0194')]"
   ],
   "metadata": {
    "collapsed": false,
    "pycharm": {
     "name": "#%%\n"
    }
   }
  },
  {
   "cell_type": "code",
   "execution_count": 33,
   "outputs": [],
   "source": [],
   "metadata": {
    "collapsed": false,
    "pycharm": {
     "name": "#%%\n"
    }
   }
  }
 ],
 "metadata": {
  "kernelspec": {
   "display_name": "Python 3",
   "language": "python",
   "name": "python3"
  },
  "language_info": {
   "codemirror_mode": {
    "name": "ipython",
    "version": 2
   },
   "file_extension": ".py",
   "mimetype": "text/x-python",
   "name": "python",
   "nbconvert_exporter": "python",
   "pygments_lexer": "ipython2",
   "version": "2.7.6"
  }
 },
 "nbformat": 4,
 "nbformat_minor": 0
}