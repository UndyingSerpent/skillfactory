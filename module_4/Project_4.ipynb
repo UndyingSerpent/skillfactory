{
 "cells": [
  {
   "cell_type": "markdown",
   "metadata": {
    "collapsed": true,
    "pycharm": {
     "name": "#%% md\n"
    }
   },
   "source": [
    "Нам предстоит выяснить, от каких самых малоприбыльных рейсов из Анапы мы можем отказаться в зимнее время.\n",
    "\n",
    "Исходим из того, что прибыльность рейса — это разница между доходом от продаж билетов и расходом на полет.\n",
    "\n",
    "Самая простая модель оценки прибыльности: стоимость билетов - стоимость топлива на рейс."
   ]
  },
  {
   "cell_type": "code",
   "execution_count": 2,
   "outputs": [],
   "source": [
    "import pandas as pd\n",
    "import matplotlib.pyplot as plt\n",
    "import seaborn as sns\n",
    "import numpy as np"
   ],
   "metadata": {
    "collapsed": false,
    "pycharm": {
     "name": "#%%\n"
    }
   }
  },
  {
   "cell_type": "code",
   "execution_count": 3,
   "outputs": [],
   "source": [
    "#display.[max_categories, max_columns, max_colwidth, max_info_columns, max_info_rows, max_rows, min_rows]\n",
    "pd.set_option('display.max_rows', 50) # показывать указанное количество строк\n",
    "pd.set_option('display.max_columns', 50) # показывать указанное количество колонок"
   ],
   "metadata": {
    "collapsed": false,
    "pycharm": {
     "name": "#%%\n"
    }
   }
  },
  {
   "cell_type": "code",
   "execution_count": 5,
   "outputs": [],
   "source": [
    "flights = pd.read_csv('flight_anapa_winter_2017.csv')"
   ],
   "metadata": {
    "collapsed": false,
    "pycharm": {
     "name": "#%%\n"
    }
   }
  },
  {
   "cell_type": "markdown",
   "source": [
    "Посмотрим на загруженный датасет"
   ],
   "metadata": {
    "collapsed": false
   }
  },
  {
   "cell_type": "code",
   "execution_count": 12,
   "outputs": [
    {
     "name": "stdout",
     "output_type": "stream",
     "text": [
      "<class 'pandas.core.frame.DataFrame'>\n",
      "RangeIndex: 127 entries, 0 to 126\n",
      "Data columns (total 15 columns):\n",
      " #   Column               Non-Null Count  Dtype \n",
      "---  ------               --------------  ----- \n",
      " 0   flight_id            127 non-null    int64 \n",
      " 1   flight_no            127 non-null    object\n",
      " 2   departure_city       127 non-null    object\n",
      " 3   arrival_city         127 non-null    object\n",
      " 4   scheduled_departure  127 non-null    object\n",
      " 5   scheduled_arrival    127 non-null    object\n",
      " 6   flight_time_minutes  127 non-null    int64 \n",
      " 7   model                127 non-null    object\n",
      " 8   count_economy        127 non-null    int64 \n",
      " 9   boarding_economy     127 non-null    int64 \n",
      " 10  count_comfort        127 non-null    int64 \n",
      " 11  boarding_comfort     127 non-null    int64 \n",
      " 12  count_business       127 non-null    int64 \n",
      " 13  boarding_business    127 non-null    int64 \n",
      " 14  total_amount         127 non-null    int64 \n",
      "dtypes: int64(9), object(6)\n",
      "memory usage: 15.0+ KB\n"
     ]
    }
   ],
   "source": [
    "flights.info()"
   ],
   "metadata": {
    "collapsed": false,
    "pycharm": {
     "name": "#%%\n"
    }
   }
  },
  {
   "cell_type": "code",
   "execution_count": 13,
   "outputs": [
    {
     "data": {
      "text/plain": "    flight_id flight_no departure_city arrival_city  \\\n8      136159    PG0252          Anapa       Moscow   \n51     136452    PG0252          Anapa       Moscow   \n98     136778    PG0480          Anapa     Belgorod   \n90     136729    PG0480          Anapa     Belgorod   \n26     136270    PG0252          Anapa       Moscow   \n76     136632    PG0480          Anapa     Belgorod   \n1      136120    PG0252          Anapa       Moscow   \n32     136316    PG0252          Anapa       Moscow   \n38     136360    PG0252          Anapa       Moscow   \n21     136250    PG0252          Anapa       Moscow   \n\n           scheduled_departure           scheduled_arrival  \\\n8   2017-01-04 10:05:00.000000  2017-01-04 11:45:00.000000   \n51  2017-02-17 10:05:00.000000  2017-02-17 11:45:00.000000   \n98  2017-02-22 09:25:00.000000  2017-02-22 10:15:00.000000   \n90  2017-01-29 09:25:00.000000  2017-01-29 10:15:00.000000   \n26  2017-02-12 10:05:00.000000  2017-02-12 11:45:00.000000   \n76  2017-01-07 09:25:00.000000  2017-01-07 10:15:00.000000   \n1   2017-02-24 10:05:00.000000  2017-02-24 11:45:00.000000   \n32  2017-01-12 10:05:00.000000  2017-01-12 11:45:00.000000   \n38  2017-02-05 10:05:00.000000  2017-02-05 11:45:00.000000   \n21  2017-02-08 10:05:00.000000  2017-02-08 11:45:00.000000   \n\n    flight_time_minutes                model  count_economy  boarding_economy  \\\n8                    98       Boeing 737-300            118               103   \n51                  100       Boeing 737-300            118                98   \n98                   50  Sukhoi Superjet-100             85                84   \n90                   50  Sukhoi Superjet-100             85                77   \n26                   99       Boeing 737-300            118               100   \n76                   51  Sukhoi Superjet-100             85                80   \n1                    99       Boeing 737-300            118                98   \n32                  100       Boeing 737-300            118               118   \n38                  100       Boeing 737-300            118                86   \n21                  101       Boeing 737-300            118                91   \n\n    count_comfort  boarding_comfort  count_business  boarding_business  \\\n8               0                 0              12                 12   \n51              0                 0              12                 11   \n98              0                 0              12                 12   \n90              0                 0              12                 11   \n26              0                 0              12                 11   \n76              0                 0              12                 11   \n1               0                 0              12                 11   \n32              0                 0              12                 12   \n38              0                 0              12                 11   \n21              0                 0              12                  8   \n\n    total_amount  \n8        1700600  \n51       1603000  \n98        759000  \n90        695400  \n26       1628600  \n76        714300  \n1        1605400  \n32       1886000  \n38       1455400  \n21       1407800  ",
      "text/html": "<div>\n<style scoped>\n    .dataframe tbody tr th:only-of-type {\n        vertical-align: middle;\n    }\n\n    .dataframe tbody tr th {\n        vertical-align: top;\n    }\n\n    .dataframe thead th {\n        text-align: right;\n    }\n</style>\n<table border=\"1\" class=\"dataframe\">\n  <thead>\n    <tr style=\"text-align: right;\">\n      <th></th>\n      <th>flight_id</th>\n      <th>flight_no</th>\n      <th>departure_city</th>\n      <th>arrival_city</th>\n      <th>scheduled_departure</th>\n      <th>scheduled_arrival</th>\n      <th>flight_time_minutes</th>\n      <th>model</th>\n      <th>count_economy</th>\n      <th>boarding_economy</th>\n      <th>count_comfort</th>\n      <th>boarding_comfort</th>\n      <th>count_business</th>\n      <th>boarding_business</th>\n      <th>total_amount</th>\n    </tr>\n  </thead>\n  <tbody>\n    <tr>\n      <th>8</th>\n      <td>136159</td>\n      <td>PG0252</td>\n      <td>Anapa</td>\n      <td>Moscow</td>\n      <td>2017-01-04 10:05:00.000000</td>\n      <td>2017-01-04 11:45:00.000000</td>\n      <td>98</td>\n      <td>Boeing 737-300</td>\n      <td>118</td>\n      <td>103</td>\n      <td>0</td>\n      <td>0</td>\n      <td>12</td>\n      <td>12</td>\n      <td>1700600</td>\n    </tr>\n    <tr>\n      <th>51</th>\n      <td>136452</td>\n      <td>PG0252</td>\n      <td>Anapa</td>\n      <td>Moscow</td>\n      <td>2017-02-17 10:05:00.000000</td>\n      <td>2017-02-17 11:45:00.000000</td>\n      <td>100</td>\n      <td>Boeing 737-300</td>\n      <td>118</td>\n      <td>98</td>\n      <td>0</td>\n      <td>0</td>\n      <td>12</td>\n      <td>11</td>\n      <td>1603000</td>\n    </tr>\n    <tr>\n      <th>98</th>\n      <td>136778</td>\n      <td>PG0480</td>\n      <td>Anapa</td>\n      <td>Belgorod</td>\n      <td>2017-02-22 09:25:00.000000</td>\n      <td>2017-02-22 10:15:00.000000</td>\n      <td>50</td>\n      <td>Sukhoi Superjet-100</td>\n      <td>85</td>\n      <td>84</td>\n      <td>0</td>\n      <td>0</td>\n      <td>12</td>\n      <td>12</td>\n      <td>759000</td>\n    </tr>\n    <tr>\n      <th>90</th>\n      <td>136729</td>\n      <td>PG0480</td>\n      <td>Anapa</td>\n      <td>Belgorod</td>\n      <td>2017-01-29 09:25:00.000000</td>\n      <td>2017-01-29 10:15:00.000000</td>\n      <td>50</td>\n      <td>Sukhoi Superjet-100</td>\n      <td>85</td>\n      <td>77</td>\n      <td>0</td>\n      <td>0</td>\n      <td>12</td>\n      <td>11</td>\n      <td>695400</td>\n    </tr>\n    <tr>\n      <th>26</th>\n      <td>136270</td>\n      <td>PG0252</td>\n      <td>Anapa</td>\n      <td>Moscow</td>\n      <td>2017-02-12 10:05:00.000000</td>\n      <td>2017-02-12 11:45:00.000000</td>\n      <td>99</td>\n      <td>Boeing 737-300</td>\n      <td>118</td>\n      <td>100</td>\n      <td>0</td>\n      <td>0</td>\n      <td>12</td>\n      <td>11</td>\n      <td>1628600</td>\n    </tr>\n    <tr>\n      <th>76</th>\n      <td>136632</td>\n      <td>PG0480</td>\n      <td>Anapa</td>\n      <td>Belgorod</td>\n      <td>2017-01-07 09:25:00.000000</td>\n      <td>2017-01-07 10:15:00.000000</td>\n      <td>51</td>\n      <td>Sukhoi Superjet-100</td>\n      <td>85</td>\n      <td>80</td>\n      <td>0</td>\n      <td>0</td>\n      <td>12</td>\n      <td>11</td>\n      <td>714300</td>\n    </tr>\n    <tr>\n      <th>1</th>\n      <td>136120</td>\n      <td>PG0252</td>\n      <td>Anapa</td>\n      <td>Moscow</td>\n      <td>2017-02-24 10:05:00.000000</td>\n      <td>2017-02-24 11:45:00.000000</td>\n      <td>99</td>\n      <td>Boeing 737-300</td>\n      <td>118</td>\n      <td>98</td>\n      <td>0</td>\n      <td>0</td>\n      <td>12</td>\n      <td>11</td>\n      <td>1605400</td>\n    </tr>\n    <tr>\n      <th>32</th>\n      <td>136316</td>\n      <td>PG0252</td>\n      <td>Anapa</td>\n      <td>Moscow</td>\n      <td>2017-01-12 10:05:00.000000</td>\n      <td>2017-01-12 11:45:00.000000</td>\n      <td>100</td>\n      <td>Boeing 737-300</td>\n      <td>118</td>\n      <td>118</td>\n      <td>0</td>\n      <td>0</td>\n      <td>12</td>\n      <td>12</td>\n      <td>1886000</td>\n    </tr>\n    <tr>\n      <th>38</th>\n      <td>136360</td>\n      <td>PG0252</td>\n      <td>Anapa</td>\n      <td>Moscow</td>\n      <td>2017-02-05 10:05:00.000000</td>\n      <td>2017-02-05 11:45:00.000000</td>\n      <td>100</td>\n      <td>Boeing 737-300</td>\n      <td>118</td>\n      <td>86</td>\n      <td>0</td>\n      <td>0</td>\n      <td>12</td>\n      <td>11</td>\n      <td>1455400</td>\n    </tr>\n    <tr>\n      <th>21</th>\n      <td>136250</td>\n      <td>PG0252</td>\n      <td>Anapa</td>\n      <td>Moscow</td>\n      <td>2017-02-08 10:05:00.000000</td>\n      <td>2017-02-08 11:45:00.000000</td>\n      <td>101</td>\n      <td>Boeing 737-300</td>\n      <td>118</td>\n      <td>91</td>\n      <td>0</td>\n      <td>0</td>\n      <td>12</td>\n      <td>8</td>\n      <td>1407800</td>\n    </tr>\n  </tbody>\n</table>\n</div>"
     },
     "execution_count": 13,
     "metadata": {},
     "output_type": "execute_result"
    }
   ],
   "source": [
    "flights.sample(10)"
   ],
   "metadata": {
    "collapsed": false,
    "pycharm": {
     "name": "#%%\n"
    }
   }
  },
  {
   "cell_type": "code",
   "execution_count": 14,
   "outputs": [
    {
     "data": {
      "text/plain": "           flight_id  flight_time_minutes  count_economy  boarding_economy  \\\ncount     127.000000           127.000000     127.000000        127.000000   \nmean   136533.574803            91.377953     102.669291         84.425197   \nstd       252.498327            64.377474      16.523699         27.030999   \nmin    136119.000000            49.000000      85.000000          0.000000   \n25%    136313.000000            50.000000      85.000000         78.000000   \n50%    136540.000000            99.000000     118.000000         85.000000   \n75%    136757.500000           100.000000     118.000000        101.000000   \nmax    136956.000000           312.000000     118.000000        118.000000   \n\n       count_comfort  boarding_comfort  count_business  boarding_business  \\\ncount          127.0             127.0           127.0         127.000000   \nmean             0.0               0.0            12.0          10.023622   \nstd              0.0               0.0             0.0           3.087262   \nmin              0.0               0.0            12.0           0.000000   \n25%              0.0               0.0            12.0          10.000000   \n50%              0.0               0.0            12.0          11.000000   \n75%              0.0               0.0            12.0          12.000000   \nmax              0.0               0.0            12.0          12.000000   \n\n       total_amount  \ncount  1.270000e+02  \nmean   1.093131e+06  \nstd    5.525335e+05  \nmin    0.000000e+00  \n25%    7.146000e+05  \n50%    7.653000e+05  \n75%    1.610300e+06  \nmax    1.886000e+06  ",
      "text/html": "<div>\n<style scoped>\n    .dataframe tbody tr th:only-of-type {\n        vertical-align: middle;\n    }\n\n    .dataframe tbody tr th {\n        vertical-align: top;\n    }\n\n    .dataframe thead th {\n        text-align: right;\n    }\n</style>\n<table border=\"1\" class=\"dataframe\">\n  <thead>\n    <tr style=\"text-align: right;\">\n      <th></th>\n      <th>flight_id</th>\n      <th>flight_time_minutes</th>\n      <th>count_economy</th>\n      <th>boarding_economy</th>\n      <th>count_comfort</th>\n      <th>boarding_comfort</th>\n      <th>count_business</th>\n      <th>boarding_business</th>\n      <th>total_amount</th>\n    </tr>\n  </thead>\n  <tbody>\n    <tr>\n      <th>count</th>\n      <td>127.000000</td>\n      <td>127.000000</td>\n      <td>127.000000</td>\n      <td>127.000000</td>\n      <td>127.0</td>\n      <td>127.0</td>\n      <td>127.0</td>\n      <td>127.000000</td>\n      <td>1.270000e+02</td>\n    </tr>\n    <tr>\n      <th>mean</th>\n      <td>136533.574803</td>\n      <td>91.377953</td>\n      <td>102.669291</td>\n      <td>84.425197</td>\n      <td>0.0</td>\n      <td>0.0</td>\n      <td>12.0</td>\n      <td>10.023622</td>\n      <td>1.093131e+06</td>\n    </tr>\n    <tr>\n      <th>std</th>\n      <td>252.498327</td>\n      <td>64.377474</td>\n      <td>16.523699</td>\n      <td>27.030999</td>\n      <td>0.0</td>\n      <td>0.0</td>\n      <td>0.0</td>\n      <td>3.087262</td>\n      <td>5.525335e+05</td>\n    </tr>\n    <tr>\n      <th>min</th>\n      <td>136119.000000</td>\n      <td>49.000000</td>\n      <td>85.000000</td>\n      <td>0.000000</td>\n      <td>0.0</td>\n      <td>0.0</td>\n      <td>12.0</td>\n      <td>0.000000</td>\n      <td>0.000000e+00</td>\n    </tr>\n    <tr>\n      <th>25%</th>\n      <td>136313.000000</td>\n      <td>50.000000</td>\n      <td>85.000000</td>\n      <td>78.000000</td>\n      <td>0.0</td>\n      <td>0.0</td>\n      <td>12.0</td>\n      <td>10.000000</td>\n      <td>7.146000e+05</td>\n    </tr>\n    <tr>\n      <th>50%</th>\n      <td>136540.000000</td>\n      <td>99.000000</td>\n      <td>118.000000</td>\n      <td>85.000000</td>\n      <td>0.0</td>\n      <td>0.0</td>\n      <td>12.0</td>\n      <td>11.000000</td>\n      <td>7.653000e+05</td>\n    </tr>\n    <tr>\n      <th>75%</th>\n      <td>136757.500000</td>\n      <td>100.000000</td>\n      <td>118.000000</td>\n      <td>101.000000</td>\n      <td>0.0</td>\n      <td>0.0</td>\n      <td>12.0</td>\n      <td>12.000000</td>\n      <td>1.610300e+06</td>\n    </tr>\n    <tr>\n      <th>max</th>\n      <td>136956.000000</td>\n      <td>312.000000</td>\n      <td>118.000000</td>\n      <td>118.000000</td>\n      <td>0.0</td>\n      <td>0.0</td>\n      <td>12.0</td>\n      <td>12.000000</td>\n      <td>1.886000e+06</td>\n    </tr>\n  </tbody>\n</table>\n</div>"
     },
     "execution_count": 14,
     "metadata": {},
     "output_type": "execute_result"
    }
   ],
   "source": [
    "flights.describe()"
   ],
   "metadata": {
    "collapsed": false,
    "pycharm": {
     "name": "#%%\n"
    }
   }
  },
  {
   "cell_type": "markdown",
   "source": [
    "Датасет содержит данные, о рейсах их Анапы за зимний период 2017 года"
   ],
   "metadata": {
    "collapsed": false,
    "pycharm": {
     "name": "#%% md\n"
    }
   }
  },
  {
   "cell_type": "markdown",
   "source": [
    "flight_id - идентификатор рейса\n",
    "flight_no - Номер рейса\n",
    "departure_city - Город отправления\n",
    "arrival_city - Город прибытия\n",
    "scheduled_departure - Время вылета по расписанию\n",
    "scheduled_arrival - Время прилета по расписанию\n",
    "flight_time_minutes - Время полета\n",
    "model - Модель самолета\n",
    "count_economy - Количество мест в самолете класса эконом\n",
    "boarding_economy - Количество занятых мест класса эконом\n",
    "count_comfort - Количество мест в самолете класса комфорт\n",
    "boarding_comfort - Количество занятых мест класса комфорт\n",
    "count_business - Количество мест в самолете класса бизнес\n",
    "boarding_business - Количество занятых мест класса бизнес\n",
    "total_amount = Стоимость проданных билетов на рейс\n"
   ],
   "metadata": {
    "collapsed": false,
    "pycharm": {
     "name": "#%% md\n"
    }
   }
  }
 ],
 "metadata": {
  "kernelspec": {
   "display_name": "Python 3",
   "language": "python",
   "name": "python3"
  },
  "language_info": {
   "codemirror_mode": {
    "name": "ipython",
    "version": 2
   },
   "file_extension": ".py",
   "mimetype": "text/x-python",
   "name": "python",
   "nbconvert_exporter": "python",
   "pygments_lexer": "ipython2",
   "version": "2.7.6"
  }
 },
 "nbformat": 4,
 "nbformat_minor": 0
}