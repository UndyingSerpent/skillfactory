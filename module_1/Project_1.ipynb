{
 "nbformat": 4,
 "nbformat_minor": 0,
 "metadata": {
  "kernelspec": {
   "display_name": "Python 3",
   "language": "python",
   "name": "python3"
  },
  "language_info": {
   "codemirror_mode": {
    "name": "ipython",
    "version": 3
   },
   "file_extension": ".py",
   "mimetype": "text/x-python",
   "name": "python",
   "nbconvert_exporter": "python",
   "pygments_lexer": "ipython3",
   "version": "3.6.6"
  },
  "colab": {
   "name": "Copy of [SF-DST] Movies IMBD v4.1 TEMPLATE.ipynb",
   "provenance": []
  }
 },
 "cells": [
  {
   "cell_type": "code",
   "metadata": {
    "_cell_guid": "b1076dfc-b9ad-4769-8c92-a6c4dae69d19",
    "_uuid": "8f2839f25d086af736a60e9eeb907d3b93b6e0e5",
    "trusted": true,
    "id": "U2D2gTdJVp90",
    "colab_type": "code",
    "colab": {}
   },
   "source": [
    "import numpy as np\n",
    "import pandas as pd\n",
    "import seaborn as sns\n",
    "import matplotlib.pyplot as plt\n",
    "from collections import Counter\n",
    "from itertools import chain\n",
    "from itertools import combinations\n",
    "from tqdm import tqdm #visualize long iteration"
   ],
   "execution_count": 6,
   "outputs": []
  },
  {
   "cell_type": "code",
   "metadata": {
    "_cell_guid": "79c7e3d0-c299-4dcb-8224-4455121ee9b0",
    "_uuid": "d629ff2d2480ee46fbb7e2d37f6b5fab8052498a",
    "trusted": true,
    "id": "oyGfxL3eVp9-",
    "colab_type": "code",
    "colab": {}
   },
   "source": [
    "data = pd.read_csv('movie_bd_v5.csv')\n",
    "data.sample(5)"
   ],
   "execution_count": 2,
   "outputs": [
    {
     "data": {
      "text/plain": "        imdb_id    budget    revenue           original_title  \\\n952   tt0220506  13000000   37664855  Halloween: Resurrection   \n1522  tt0454919  38000000   29907685                    Pulse   \n1092  tt0319061  70000000  122919055                 Big Fish   \n52    tt0810819  15000000   64191523          The Danish Girl   \n555   tt0225071  53000000   29700000               Angel Eyes   \n\n                                                   cast        director  \\\n952   Jamie Lee Curtis|Brad Loree|Busta Rhymes|Bianc...  Rick Rosenthal   \n1522  Kristen Bell|Ian Somerhalder|Christina Milian|...     Jim Sonzero   \n1092  Ewan McGregor|Albert Finney|Billy Crudup|Jessi...      Tim Burton   \n52    Eddie Redmayne|Alicia Vikander|Matthias Schoen...      Tom Hooper   \n555   Jennifer Lopez|Jim Caviezel|Jeremy Sisto|Terre...    Luis Mandoki   \n\n                                           tagline  \\\n952                        Evil finds its way home   \n1522                         You are now infected.   \n1092           An adventure as big as life itself.   \n52                Find the courage to be yourself.   \n555   The deeper you look, the more you will find.   \n\n                                               overview  runtime  \\\n952   Serial Killer Michael Myers is not finished wi...       94   \n1522  When their computer hacker friend accidentally...       90   \n1092  Throughout his life Edward Bloom has always be...      125   \n52    When Gerda Wegener asks her husband Einar to f...      120   \n555   A story about a seemingly unlikely couple who ...      102   \n\n                       genres  \\\n952           Horror|Thriller   \n1522          Horror|Thriller   \n1092  Adventure|Fantasy|Drama   \n52                      Drama   \n555    Drama|Romance|Thriller   \n\n                                   production_companies release_date  \\\n952                                     Dimension Films     7/1/2002   \n1522                                    Dimension Films    8/11/2006   \n1092  The Zanuck Company|Columbia Pictures Corporati...   12/25/2003   \n52    Pretty Pictures|Working Title Films|ArtÃ©mis P...   11/27/2015   \n555   Warner Bros. Pictures|Franchise Pictures|Morga...    5/15/2001   \n\n      vote_average  release_year  \n952            4.6          2002  \n1522           5.1          2006  \n1092           7.4          2003  \n52             7.3          2015  \n555            5.6          2001  ",
      "text/html": "<div>\n<style scoped>\n    .dataframe tbody tr th:only-of-type {\n        vertical-align: middle;\n    }\n\n    .dataframe tbody tr th {\n        vertical-align: top;\n    }\n\n    .dataframe thead th {\n        text-align: right;\n    }\n</style>\n<table border=\"1\" class=\"dataframe\">\n  <thead>\n    <tr style=\"text-align: right;\">\n      <th></th>\n      <th>imdb_id</th>\n      <th>budget</th>\n      <th>revenue</th>\n      <th>original_title</th>\n      <th>cast</th>\n      <th>director</th>\n      <th>tagline</th>\n      <th>overview</th>\n      <th>runtime</th>\n      <th>genres</th>\n      <th>production_companies</th>\n      <th>release_date</th>\n      <th>vote_average</th>\n      <th>release_year</th>\n    </tr>\n  </thead>\n  <tbody>\n    <tr>\n      <th>952</th>\n      <td>tt0220506</td>\n      <td>13000000</td>\n      <td>37664855</td>\n      <td>Halloween: Resurrection</td>\n      <td>Jamie Lee Curtis|Brad Loree|Busta Rhymes|Bianc...</td>\n      <td>Rick Rosenthal</td>\n      <td>Evil finds its way home</td>\n      <td>Serial Killer Michael Myers is not finished wi...</td>\n      <td>94</td>\n      <td>Horror|Thriller</td>\n      <td>Dimension Films</td>\n      <td>7/1/2002</td>\n      <td>4.6</td>\n      <td>2002</td>\n    </tr>\n    <tr>\n      <th>1522</th>\n      <td>tt0454919</td>\n      <td>38000000</td>\n      <td>29907685</td>\n      <td>Pulse</td>\n      <td>Kristen Bell|Ian Somerhalder|Christina Milian|...</td>\n      <td>Jim Sonzero</td>\n      <td>You are now infected.</td>\n      <td>When their computer hacker friend accidentally...</td>\n      <td>90</td>\n      <td>Horror|Thriller</td>\n      <td>Dimension Films</td>\n      <td>8/11/2006</td>\n      <td>5.1</td>\n      <td>2006</td>\n    </tr>\n    <tr>\n      <th>1092</th>\n      <td>tt0319061</td>\n      <td>70000000</td>\n      <td>122919055</td>\n      <td>Big Fish</td>\n      <td>Ewan McGregor|Albert Finney|Billy Crudup|Jessi...</td>\n      <td>Tim Burton</td>\n      <td>An adventure as big as life itself.</td>\n      <td>Throughout his life Edward Bloom has always be...</td>\n      <td>125</td>\n      <td>Adventure|Fantasy|Drama</td>\n      <td>The Zanuck Company|Columbia Pictures Corporati...</td>\n      <td>12/25/2003</td>\n      <td>7.4</td>\n      <td>2003</td>\n    </tr>\n    <tr>\n      <th>52</th>\n      <td>tt0810819</td>\n      <td>15000000</td>\n      <td>64191523</td>\n      <td>The Danish Girl</td>\n      <td>Eddie Redmayne|Alicia Vikander|Matthias Schoen...</td>\n      <td>Tom Hooper</td>\n      <td>Find the courage to be yourself.</td>\n      <td>When Gerda Wegener asks her husband Einar to f...</td>\n      <td>120</td>\n      <td>Drama</td>\n      <td>Pretty Pictures|Working Title Films|ArtÃ©mis P...</td>\n      <td>11/27/2015</td>\n      <td>7.3</td>\n      <td>2015</td>\n    </tr>\n    <tr>\n      <th>555</th>\n      <td>tt0225071</td>\n      <td>53000000</td>\n      <td>29700000</td>\n      <td>Angel Eyes</td>\n      <td>Jennifer Lopez|Jim Caviezel|Jeremy Sisto|Terre...</td>\n      <td>Luis Mandoki</td>\n      <td>The deeper you look, the more you will find.</td>\n      <td>A story about a seemingly unlikely couple who ...</td>\n      <td>102</td>\n      <td>Drama|Romance|Thriller</td>\n      <td>Warner Bros. Pictures|Franchise Pictures|Morga...</td>\n      <td>5/15/2001</td>\n      <td>5.6</td>\n      <td>2001</td>\n    </tr>\n  </tbody>\n</table>\n</div>"
     },
     "execution_count": 2,
     "metadata": {},
     "output_type": "execute_result"
    }
   ]
  },
  {
   "cell_type": "code",
   "metadata": {
    "trusted": true,
    "id": "CoYUnagMVp-C",
    "colab_type": "code",
    "colab": {}
   },
   "source": [
    "data.describe()"
   ],
   "execution_count": 5,
   "outputs": [
    {
     "data": {
      "text/plain": "             budget       revenue      runtime  vote_average  release_year\ncount  1.889000e+03  1.889000e+03  1889.000000   1889.000000   1889.000000\nmean   5.431083e+07  1.553653e+08   109.658549      6.140762   2007.860773\nstd    4.858721e+07  2.146698e+08    18.017041      0.764763      4.468841\nmin    5.000000e+06  2.033165e+06    63.000000      3.300000   2000.000000\n25%    2.000000e+07  3.456058e+07    97.000000      5.600000   2004.000000\n50%    3.800000e+07  8.361541e+07   107.000000      6.100000   2008.000000\n75%    7.200000e+07  1.782626e+08   120.000000      6.600000   2012.000000\nmax    3.800000e+08  2.781506e+09   214.000000      8.100000   2015.000000",
      "text/html": "<div>\n<style scoped>\n    .dataframe tbody tr th:only-of-type {\n        vertical-align: middle;\n    }\n\n    .dataframe tbody tr th {\n        vertical-align: top;\n    }\n\n    .dataframe thead th {\n        text-align: right;\n    }\n</style>\n<table border=\"1\" class=\"dataframe\">\n  <thead>\n    <tr style=\"text-align: right;\">\n      <th></th>\n      <th>budget</th>\n      <th>revenue</th>\n      <th>runtime</th>\n      <th>vote_average</th>\n      <th>release_year</th>\n    </tr>\n  </thead>\n  <tbody>\n    <tr>\n      <th>count</th>\n      <td>1.889000e+03</td>\n      <td>1.889000e+03</td>\n      <td>1889.000000</td>\n      <td>1889.000000</td>\n      <td>1889.000000</td>\n    </tr>\n    <tr>\n      <th>mean</th>\n      <td>5.431083e+07</td>\n      <td>1.553653e+08</td>\n      <td>109.658549</td>\n      <td>6.140762</td>\n      <td>2007.860773</td>\n    </tr>\n    <tr>\n      <th>std</th>\n      <td>4.858721e+07</td>\n      <td>2.146698e+08</td>\n      <td>18.017041</td>\n      <td>0.764763</td>\n      <td>4.468841</td>\n    </tr>\n    <tr>\n      <th>min</th>\n      <td>5.000000e+06</td>\n      <td>2.033165e+06</td>\n      <td>63.000000</td>\n      <td>3.300000</td>\n      <td>2000.000000</td>\n    </tr>\n    <tr>\n      <th>25%</th>\n      <td>2.000000e+07</td>\n      <td>3.456058e+07</td>\n      <td>97.000000</td>\n      <td>5.600000</td>\n      <td>2004.000000</td>\n    </tr>\n    <tr>\n      <th>50%</th>\n      <td>3.800000e+07</td>\n      <td>8.361541e+07</td>\n      <td>107.000000</td>\n      <td>6.100000</td>\n      <td>2008.000000</td>\n    </tr>\n    <tr>\n      <th>75%</th>\n      <td>7.200000e+07</td>\n      <td>1.782626e+08</td>\n      <td>120.000000</td>\n      <td>6.600000</td>\n      <td>2012.000000</td>\n    </tr>\n    <tr>\n      <th>max</th>\n      <td>3.800000e+08</td>\n      <td>2.781506e+09</td>\n      <td>214.000000</td>\n      <td>8.100000</td>\n      <td>2015.000000</td>\n    </tr>\n  </tbody>\n</table>\n</div>"
     },
     "execution_count": 5,
     "metadata": {},
     "output_type": "execute_result"
    }
   ]
  },
  {
   "cell_type": "markdown",
   "metadata": {
    "id": "DTIt7ezGVp-G",
    "colab_type": "text"
   },
   "source": [
    "# Предобработка"
   ]
  },
  {
   "cell_type": "code",
   "metadata": {
    "trusted": true,
    "id": "jNb40DwKVp-H",
    "colab_type": "code",
    "colab": {}
   },
   "source": [
    "answers = {} # создадим словарь для ответов\n",
    "\n",
    "# структура таблицы\n",
    " #0   imdb_id - object - ID\n",
    " #1   budget - int64 - бюджет\n",
    " #2   revenue - int64 - сборы\n",
    " #3   original_title - object - оригинальное название\n",
    " #4   cast - object - в ролях\n",
    " #5   director - object - режиссер\n",
    " #6   tagline - object - слоган\n",
    " #7   overview - object - описание фильма\n",
    " #8   runtime - int64 - время фильма\n",
    " #9   genres - object - жанры\n",
    " #10  production_companies - object - издатель\n",
    " #11  release_date - object - Дата выпуска\n",
    " #12  vote_average - float64 - рейтинг\n",
    " #13  release_year - int64 - год выпуска\n",
    " #14  profit = revenue - budget -> int64 прибыль = сборы - бюджет\n",
    " #15  genres_list - список жанров\n",
    "\n",
    "# тут другие ваши предобработки колонок например:\n",
    "\n",
    "#the time given in the dataset is in string format.\n",
    "#So we need to change this in datetime format\n",
    "data['release_date'] = pd.to_datetime(data.release_date)\n",
    "# сформируем колонку прибыль = сборы - бюджет\n",
    "data['profit'] = data['revenue'] - data['budget']\n",
    "\n",
    "# сформируем колонку - список жанров\n",
    "data['genres_list'] = data['genres'].str.split('|')\n",
    "data.info()\n",
    "data.describe()"
   ],
   "execution_count": 6,
   "outputs": [
    {
     "name": "stdout",
     "output_type": "stream",
     "text": [
      "<class 'pandas.core.frame.DataFrame'>\n",
      "RangeIndex: 1889 entries, 0 to 1888\n",
      "Data columns (total 16 columns):\n",
      " #   Column                Non-Null Count  Dtype         \n",
      "---  ------                --------------  -----         \n",
      " 0   imdb_id               1889 non-null   object        \n",
      " 1   budget                1889 non-null   int64         \n",
      " 2   revenue               1889 non-null   int64         \n",
      " 3   original_title        1889 non-null   object        \n",
      " 4   cast                  1889 non-null   object        \n",
      " 5   director              1889 non-null   object        \n",
      " 6   tagline               1889 non-null   object        \n",
      " 7   overview              1889 non-null   object        \n",
      " 8   runtime               1889 non-null   int64         \n",
      " 9   genres                1889 non-null   object        \n",
      " 10  production_companies  1889 non-null   object        \n",
      " 11  release_date          1889 non-null   datetime64[ns]\n",
      " 12  vote_average          1889 non-null   float64       \n",
      " 13  release_year          1889 non-null   int64         \n",
      " 14  profit                1889 non-null   int64         \n",
      " 15  genres_list           1889 non-null   object        \n",
      "dtypes: datetime64[ns](1), float64(1), int64(5), object(9)\n",
      "memory usage: 236.2+ KB\n"
     ]
    },
    {
     "data": {
      "text/plain": "             budget       revenue      runtime  vote_average  release_year  \\\ncount  1.889000e+03  1.889000e+03  1889.000000   1889.000000   1889.000000   \nmean   5.431083e+07  1.553653e+08   109.658549      6.140762   2007.860773   \nstd    4.858721e+07  2.146698e+08    18.017041      0.764763      4.468841   \nmin    5.000000e+06  2.033165e+06    63.000000      3.300000   2000.000000   \n25%    2.000000e+07  3.456058e+07    97.000000      5.600000   2004.000000   \n50%    3.800000e+07  8.361541e+07   107.000000      6.100000   2008.000000   \n75%    7.200000e+07  1.782626e+08   120.000000      6.600000   2012.000000   \nmax    3.800000e+08  2.781506e+09   214.000000      8.100000   2015.000000   \n\n             profit  \ncount  1.889000e+03  \nmean   1.010545e+08  \nstd    1.830733e+08  \nmin   -1.657101e+08  \n25%    5.000000e+06  \n50%    4.400041e+07  \n75%    1.201842e+08  \nmax    2.544506e+09  ",
      "text/html": "<div>\n<style scoped>\n    .dataframe tbody tr th:only-of-type {\n        vertical-align: middle;\n    }\n\n    .dataframe tbody tr th {\n        vertical-align: top;\n    }\n\n    .dataframe thead th {\n        text-align: right;\n    }\n</style>\n<table border=\"1\" class=\"dataframe\">\n  <thead>\n    <tr style=\"text-align: right;\">\n      <th></th>\n      <th>budget</th>\n      <th>revenue</th>\n      <th>runtime</th>\n      <th>vote_average</th>\n      <th>release_year</th>\n      <th>profit</th>\n    </tr>\n  </thead>\n  <tbody>\n    <tr>\n      <th>count</th>\n      <td>1.889000e+03</td>\n      <td>1.889000e+03</td>\n      <td>1889.000000</td>\n      <td>1889.000000</td>\n      <td>1889.000000</td>\n      <td>1.889000e+03</td>\n    </tr>\n    <tr>\n      <th>mean</th>\n      <td>5.431083e+07</td>\n      <td>1.553653e+08</td>\n      <td>109.658549</td>\n      <td>6.140762</td>\n      <td>2007.860773</td>\n      <td>1.010545e+08</td>\n    </tr>\n    <tr>\n      <th>std</th>\n      <td>4.858721e+07</td>\n      <td>2.146698e+08</td>\n      <td>18.017041</td>\n      <td>0.764763</td>\n      <td>4.468841</td>\n      <td>1.830733e+08</td>\n    </tr>\n    <tr>\n      <th>min</th>\n      <td>5.000000e+06</td>\n      <td>2.033165e+06</td>\n      <td>63.000000</td>\n      <td>3.300000</td>\n      <td>2000.000000</td>\n      <td>-1.657101e+08</td>\n    </tr>\n    <tr>\n      <th>25%</th>\n      <td>2.000000e+07</td>\n      <td>3.456058e+07</td>\n      <td>97.000000</td>\n      <td>5.600000</td>\n      <td>2004.000000</td>\n      <td>5.000000e+06</td>\n    </tr>\n    <tr>\n      <th>50%</th>\n      <td>3.800000e+07</td>\n      <td>8.361541e+07</td>\n      <td>107.000000</td>\n      <td>6.100000</td>\n      <td>2008.000000</td>\n      <td>4.400041e+07</td>\n    </tr>\n    <tr>\n      <th>75%</th>\n      <td>7.200000e+07</td>\n      <td>1.782626e+08</td>\n      <td>120.000000</td>\n      <td>6.600000</td>\n      <td>2012.000000</td>\n      <td>1.201842e+08</td>\n    </tr>\n    <tr>\n      <th>max</th>\n      <td>3.800000e+08</td>\n      <td>2.781506e+09</td>\n      <td>214.000000</td>\n      <td>8.100000</td>\n      <td>2015.000000</td>\n      <td>2.544506e+09</td>\n    </tr>\n  </tbody>\n</table>\n</div>"
     },
     "execution_count": 6,
     "metadata": {},
     "output_type": "execute_result"
    }
   ]
  },
  {
   "cell_type": "markdown",
   "metadata": {
    "id": "YxZaH-nPVp-L",
    "colab_type": "text"
   },
   "source": [
    "# 1. У какого фильма из списка самый большой бюджет?"
   ]
  },
  {
   "cell_type": "markdown",
   "metadata": {
    "id": "Nd-G5gX6Vp-M",
    "colab_type": "text"
   },
   "source": [
    "Использовать варианты ответов в коде решения запрещено.    \n",
    "Вы думаете и в жизни у вас будут варианты ответов?)"
   ]
  },
  {
   "cell_type": "code",
   "metadata": {
    "trusted": true,
    "id": "uVnXAY5RVp-O",
    "colab_type": "code",
    "colab": {}
   },
   "source": [
    "# в словарь вставляем номер вопроса и ваш ответ на него\n",
    "# Пример: \n",
    "#answers['1'] = '2. Spider-Man 3 (tt0413300)'\n",
    "# запишите свой вариант ответа\n",
    "answers['1'] = '5. Pirates of the Caribbean: On Stranger Tides (tt1298650)' #+\n",
    "# если ответили верно, можете добавить комментарий со значком \"+\""
   ],
   "execution_count": 7,
   "outputs": []
  },
  {
   "cell_type": "code",
   "metadata": {
    "trusted": true,
    "id": "dZwb3m28Vp-S",
    "colab_type": "code",
    "colab": {}
   },
   "source": [
    "# тут пишем ваш код для решения данного вопроса:\n",
    "data[data.budget == data.budget.max()]"
   ],
   "execution_count": 8,
   "outputs": [
    {
     "data": {
      "text/plain": "       imdb_id     budget     revenue  \\\n723  tt1298650  380000000  1021683000   \n\n                                  original_title  \\\n723  Pirates of the Caribbean: On Stranger Tides   \n\n                                                  cast      director  \\\n723  Johnny Depp|PenÃ©lope Cruz|Geoffrey Rush|Ian M...  Rob Marshall   \n\n                         tagline  \\\n723  Live Forever Or Die Trying.   \n\n                                              overview  runtime  \\\n723  Captain Jack Sparrow crosses paths with a woma...      136   \n\n                       genres  \\\n723  Adventure|Action|Fantasy   \n\n                                  production_companies release_date  \\\n723  Walt Disney Pictures|Jerry Bruckheimer Films|M...   2011-05-11   \n\n     vote_average  release_year     profit                   genres_list  \n723           6.3          2011  641683000  [Adventure, Action, Fantasy]  ",
      "text/html": "<div>\n<style scoped>\n    .dataframe tbody tr th:only-of-type {\n        vertical-align: middle;\n    }\n\n    .dataframe tbody tr th {\n        vertical-align: top;\n    }\n\n    .dataframe thead th {\n        text-align: right;\n    }\n</style>\n<table border=\"1\" class=\"dataframe\">\n  <thead>\n    <tr style=\"text-align: right;\">\n      <th></th>\n      <th>imdb_id</th>\n      <th>budget</th>\n      <th>revenue</th>\n      <th>original_title</th>\n      <th>cast</th>\n      <th>director</th>\n      <th>tagline</th>\n      <th>overview</th>\n      <th>runtime</th>\n      <th>genres</th>\n      <th>production_companies</th>\n      <th>release_date</th>\n      <th>vote_average</th>\n      <th>release_year</th>\n      <th>profit</th>\n      <th>genres_list</th>\n    </tr>\n  </thead>\n  <tbody>\n    <tr>\n      <th>723</th>\n      <td>tt1298650</td>\n      <td>380000000</td>\n      <td>1021683000</td>\n      <td>Pirates of the Caribbean: On Stranger Tides</td>\n      <td>Johnny Depp|PenÃ©lope Cruz|Geoffrey Rush|Ian M...</td>\n      <td>Rob Marshall</td>\n      <td>Live Forever Or Die Trying.</td>\n      <td>Captain Jack Sparrow crosses paths with a woma...</td>\n      <td>136</td>\n      <td>Adventure|Action|Fantasy</td>\n      <td>Walt Disney Pictures|Jerry Bruckheimer Films|M...</td>\n      <td>2011-05-11</td>\n      <td>6.3</td>\n      <td>2011</td>\n      <td>641683000</td>\n      <td>[Adventure, Action, Fantasy]</td>\n    </tr>\n  </tbody>\n</table>\n</div>"
     },
     "execution_count": 8,
     "metadata": {},
     "output_type": "execute_result"
    }
   ]
  },
  {
   "cell_type": "markdown",
   "metadata": {
    "id": "K7L3nbRXVp-X",
    "colab_type": "text"
   },
   "source": [
    "ВАРИАНТ 2"
   ]
  },
  {
   "cell_type": "code",
   "metadata": {
    "trusted": true,
    "id": "OGaoQI7rVp-X",
    "colab_type": "code",
    "colab": {}
   },
   "source": [
    "# можно добавлять разные варианты решения\n",
    "data.query('budget == budget.max()')"
   ],
   "execution_count": 9,
   "outputs": [
    {
     "data": {
      "text/plain": "       imdb_id     budget     revenue  \\\n723  tt1298650  380000000  1021683000   \n\n                                  original_title  \\\n723  Pirates of the Caribbean: On Stranger Tides   \n\n                                                  cast      director  \\\n723  Johnny Depp|PenÃ©lope Cruz|Geoffrey Rush|Ian M...  Rob Marshall   \n\n                         tagline  \\\n723  Live Forever Or Die Trying.   \n\n                                              overview  runtime  \\\n723  Captain Jack Sparrow crosses paths with a woma...      136   \n\n                       genres  \\\n723  Adventure|Action|Fantasy   \n\n                                  production_companies release_date  \\\n723  Walt Disney Pictures|Jerry Bruckheimer Films|M...   2011-05-11   \n\n     vote_average  release_year     profit                   genres_list  \n723           6.3          2011  641683000  [Adventure, Action, Fantasy]  ",
      "text/html": "<div>\n<style scoped>\n    .dataframe tbody tr th:only-of-type {\n        vertical-align: middle;\n    }\n\n    .dataframe tbody tr th {\n        vertical-align: top;\n    }\n\n    .dataframe thead th {\n        text-align: right;\n    }\n</style>\n<table border=\"1\" class=\"dataframe\">\n  <thead>\n    <tr style=\"text-align: right;\">\n      <th></th>\n      <th>imdb_id</th>\n      <th>budget</th>\n      <th>revenue</th>\n      <th>original_title</th>\n      <th>cast</th>\n      <th>director</th>\n      <th>tagline</th>\n      <th>overview</th>\n      <th>runtime</th>\n      <th>genres</th>\n      <th>production_companies</th>\n      <th>release_date</th>\n      <th>vote_average</th>\n      <th>release_year</th>\n      <th>profit</th>\n      <th>genres_list</th>\n    </tr>\n  </thead>\n  <tbody>\n    <tr>\n      <th>723</th>\n      <td>tt1298650</td>\n      <td>380000000</td>\n      <td>1021683000</td>\n      <td>Pirates of the Caribbean: On Stranger Tides</td>\n      <td>Johnny Depp|PenÃ©lope Cruz|Geoffrey Rush|Ian M...</td>\n      <td>Rob Marshall</td>\n      <td>Live Forever Or Die Trying.</td>\n      <td>Captain Jack Sparrow crosses paths with a woma...</td>\n      <td>136</td>\n      <td>Adventure|Action|Fantasy</td>\n      <td>Walt Disney Pictures|Jerry Bruckheimer Films|M...</td>\n      <td>2011-05-11</td>\n      <td>6.3</td>\n      <td>2011</td>\n      <td>641683000</td>\n      <td>[Adventure, Action, Fantasy]</td>\n    </tr>\n  </tbody>\n</table>\n</div>"
     },
     "execution_count": 9,
     "metadata": {},
     "output_type": "execute_result"
    }
   ]
  },
  {
   "cell_type": "markdown",
   "metadata": {
    "id": "FNRbbI3vVp-c",
    "colab_type": "text"
   },
   "source": [
    "# 2. Какой из фильмов самый длительный (в минутах)?"
   ]
  },
  {
   "cell_type": "code",
   "metadata": {
    "trusted": true,
    "id": "vHAoEXNTVp-d",
    "colab_type": "code",
    "colab": {}
   },
   "source": [
    "# думаю логику работы с этим словарем вы уже поняли, \n",
    "# по этому не буду больше его дублировать\n",
    "answers['2'] = '2. Gods and Generals (tt0279111)' #+"
   ],
   "execution_count": 10,
   "outputs": []
  },
  {
   "cell_type": "code",
   "metadata": {
    "trusted": true,
    "id": "ot-VX2XrVp-g",
    "colab_type": "code",
    "colab": {}
   },
   "source": [
    "data.query('runtime == runtime.max()')"
   ],
   "execution_count": 11,
   "outputs": [
    {
     "data": {
      "text/plain": "        imdb_id    budget   revenue     original_title  \\\n1157  tt0279111  56000000  12923936  Gods and Generals   \n\n                                                   cast           director  \\\n1157  Stephen Lang|Jeff Daniels|Robert Duvall|Kevin ...  Ronald F. Maxwell   \n\n                                  tagline  \\\n1157  The nations heart was touched by...   \n\n                                               overview  runtime  \\\n1157  The film centers mostly around the personal an...      214   \n\n                 genres                production_companies release_date  \\\n1157  Drama|History|War  Turner Pictures|Antietam Filmworks   2003-02-21   \n\n      vote_average  release_year    profit            genres_list  \n1157           5.8          2003 -43076064  [Drama, History, War]  ",
      "text/html": "<div>\n<style scoped>\n    .dataframe tbody tr th:only-of-type {\n        vertical-align: middle;\n    }\n\n    .dataframe tbody tr th {\n        vertical-align: top;\n    }\n\n    .dataframe thead th {\n        text-align: right;\n    }\n</style>\n<table border=\"1\" class=\"dataframe\">\n  <thead>\n    <tr style=\"text-align: right;\">\n      <th></th>\n      <th>imdb_id</th>\n      <th>budget</th>\n      <th>revenue</th>\n      <th>original_title</th>\n      <th>cast</th>\n      <th>director</th>\n      <th>tagline</th>\n      <th>overview</th>\n      <th>runtime</th>\n      <th>genres</th>\n      <th>production_companies</th>\n      <th>release_date</th>\n      <th>vote_average</th>\n      <th>release_year</th>\n      <th>profit</th>\n      <th>genres_list</th>\n    </tr>\n  </thead>\n  <tbody>\n    <tr>\n      <th>1157</th>\n      <td>tt0279111</td>\n      <td>56000000</td>\n      <td>12923936</td>\n      <td>Gods and Generals</td>\n      <td>Stephen Lang|Jeff Daniels|Robert Duvall|Kevin ...</td>\n      <td>Ronald F. Maxwell</td>\n      <td>The nations heart was touched by...</td>\n      <td>The film centers mostly around the personal an...</td>\n      <td>214</td>\n      <td>Drama|History|War</td>\n      <td>Turner Pictures|Antietam Filmworks</td>\n      <td>2003-02-21</td>\n      <td>5.8</td>\n      <td>2003</td>\n      <td>-43076064</td>\n      <td>[Drama, History, War]</td>\n    </tr>\n  </tbody>\n</table>\n</div>"
     },
     "execution_count": 11,
     "metadata": {},
     "output_type": "execute_result"
    }
   ]
  },
  {
   "cell_type": "code",
   "execution_count": 12,
   "outputs": [
    {
     "data": {
      "text/plain": "        imdb_id    budget   revenue     original_title  \\\n1157  tt0279111  56000000  12923936  Gods and Generals   \n\n                                                   cast           director  \\\n1157  Stephen Lang|Jeff Daniels|Robert Duvall|Kevin ...  Ronald F. Maxwell   \n\n                                  tagline  \\\n1157  The nations heart was touched by...   \n\n                                               overview  runtime  \\\n1157  The film centers mostly around the personal an...      214   \n\n                 genres                production_companies release_date  \\\n1157  Drama|History|War  Turner Pictures|Antietam Filmworks   2003-02-21   \n\n      vote_average  release_year    profit            genres_list  \n1157           5.8          2003 -43076064  [Drama, History, War]  ",
      "text/html": "<div>\n<style scoped>\n    .dataframe tbody tr th:only-of-type {\n        vertical-align: middle;\n    }\n\n    .dataframe tbody tr th {\n        vertical-align: top;\n    }\n\n    .dataframe thead th {\n        text-align: right;\n    }\n</style>\n<table border=\"1\" class=\"dataframe\">\n  <thead>\n    <tr style=\"text-align: right;\">\n      <th></th>\n      <th>imdb_id</th>\n      <th>budget</th>\n      <th>revenue</th>\n      <th>original_title</th>\n      <th>cast</th>\n      <th>director</th>\n      <th>tagline</th>\n      <th>overview</th>\n      <th>runtime</th>\n      <th>genres</th>\n      <th>production_companies</th>\n      <th>release_date</th>\n      <th>vote_average</th>\n      <th>release_year</th>\n      <th>profit</th>\n      <th>genres_list</th>\n    </tr>\n  </thead>\n  <tbody>\n    <tr>\n      <th>1157</th>\n      <td>tt0279111</td>\n      <td>56000000</td>\n      <td>12923936</td>\n      <td>Gods and Generals</td>\n      <td>Stephen Lang|Jeff Daniels|Robert Duvall|Kevin ...</td>\n      <td>Ronald F. Maxwell</td>\n      <td>The nations heart was touched by...</td>\n      <td>The film centers mostly around the personal an...</td>\n      <td>214</td>\n      <td>Drama|History|War</td>\n      <td>Turner Pictures|Antietam Filmworks</td>\n      <td>2003-02-21</td>\n      <td>5.8</td>\n      <td>2003</td>\n      <td>-43076064</td>\n      <td>[Drama, History, War]</td>\n    </tr>\n  </tbody>\n</table>\n</div>"
     },
     "execution_count": 12,
     "metadata": {},
     "output_type": "execute_result"
    }
   ],
   "source": [
    "data.sort_values(by='runtime', ascending=False).head(1)"
   ],
   "metadata": {
    "collapsed": false,
    "pycharm": {
     "name": "#%%\n"
    }
   }
  },
  {
   "cell_type": "markdown",
   "metadata": {
    "id": "bapLlpW8Vp-k",
    "colab_type": "text"
   },
   "source": [
    "# 3. Какой из фильмов самый короткий (в минутах)?\n"
   ]
  },
  {
   "cell_type": "code",
   "metadata": {
    "trusted": true,
    "id": "YBxaSHuAVp-l",
    "colab_type": "code",
    "colab": {}
   },
   "source": [
    "answers['3'] = '3. Winnie the Pooh (tt1449283)' #+"
   ],
   "execution_count": 13,
   "outputs": []
  },
  {
   "cell_type": "code",
   "execution_count": 14,
   "outputs": [
    {
     "data": {
      "text/plain": "       imdb_id    budget   revenue   original_title  \\\n768  tt1449283  30000000  14460000  Winnie the Pooh   \n\n                                                  cast  \\\n768  Jim Cummings|Travis Oates|Jim Cummings|Bud Luc...   \n\n                      director   tagline  \\\n768  Stephen Anderson|Don Hall  Oh Pooh.   \n\n                                              overview  runtime  \\\n768  During an ordinary day in Hundred Acre Wood, W...       63   \n\n               genres                               production_companies  \\\n768  Animation|Family  Walt Disney Pictures|Walt Disney Animation Stu...   \n\n    release_date  vote_average  release_year    profit          genres_list  \n768   2011-04-13           6.8          2011 -15540000  [Animation, Family]  ",
      "text/html": "<div>\n<style scoped>\n    .dataframe tbody tr th:only-of-type {\n        vertical-align: middle;\n    }\n\n    .dataframe tbody tr th {\n        vertical-align: top;\n    }\n\n    .dataframe thead th {\n        text-align: right;\n    }\n</style>\n<table border=\"1\" class=\"dataframe\">\n  <thead>\n    <tr style=\"text-align: right;\">\n      <th></th>\n      <th>imdb_id</th>\n      <th>budget</th>\n      <th>revenue</th>\n      <th>original_title</th>\n      <th>cast</th>\n      <th>director</th>\n      <th>tagline</th>\n      <th>overview</th>\n      <th>runtime</th>\n      <th>genres</th>\n      <th>production_companies</th>\n      <th>release_date</th>\n      <th>vote_average</th>\n      <th>release_year</th>\n      <th>profit</th>\n      <th>genres_list</th>\n    </tr>\n  </thead>\n  <tbody>\n    <tr>\n      <th>768</th>\n      <td>tt1449283</td>\n      <td>30000000</td>\n      <td>14460000</td>\n      <td>Winnie the Pooh</td>\n      <td>Jim Cummings|Travis Oates|Jim Cummings|Bud Luc...</td>\n      <td>Stephen Anderson|Don Hall</td>\n      <td>Oh Pooh.</td>\n      <td>During an ordinary day in Hundred Acre Wood, W...</td>\n      <td>63</td>\n      <td>Animation|Family</td>\n      <td>Walt Disney Pictures|Walt Disney Animation Stu...</td>\n      <td>2011-04-13</td>\n      <td>6.8</td>\n      <td>2011</td>\n      <td>-15540000</td>\n      <td>[Animation, Family]</td>\n    </tr>\n  </tbody>\n</table>\n</div>"
     },
     "execution_count": 14,
     "metadata": {},
     "output_type": "execute_result"
    }
   ],
   "source": [
    "data.query('runtime == runtime.min()')"
   ],
   "metadata": {
    "collapsed": false,
    "pycharm": {
     "name": "#%%\n"
    }
   }
  },
  {
   "cell_type": "markdown",
   "metadata": {
    "id": "TfQbxbfNVp-p",
    "colab_type": "text"
   },
   "source": [
    "# 4. Какова средняя длительность фильмов?\n"
   ]
  },
  {
   "cell_type": "code",
   "metadata": {
    "trusted": true,
    "id": "5K6dKZYVVp-q",
    "colab_type": "code",
    "colab": {}
   },
   "source": [
    "answers['4'] = '2. 110' #+"
   ],
   "execution_count": 15,
   "outputs": []
  },
  {
   "cell_type": "code",
   "execution_count": 16,
   "outputs": [
    {
     "data": {
      "text/plain": "110"
     },
     "execution_count": 16,
     "metadata": {},
     "output_type": "execute_result"
    }
   ],
   "source": [
    "round(data.runtime.mean())\n"
   ],
   "metadata": {
    "collapsed": false,
    "pycharm": {
     "name": "#%%\n"
    }
   }
  },
  {
   "cell_type": "markdown",
   "metadata": {
    "id": "r5TvbnT_Vp-u",
    "colab_type": "text"
   },
   "source": [
    "# 5. Каково медианное значение длительности фильмов? "
   ]
  },
  {
   "cell_type": "code",
   "metadata": {
    "trusted": true,
    "id": "iBROplKnVp-v",
    "colab_type": "code",
    "colab": {}
   },
   "source": [
    "answers['5'] = '1. 107' #+"
   ],
   "execution_count": 17,
   "outputs": []
  },
  {
   "cell_type": "code",
   "execution_count": 18,
   "outputs": [
    {
     "data": {
      "text/plain": "107"
     },
     "execution_count": 18,
     "metadata": {},
     "output_type": "execute_result"
    }
   ],
   "source": [
    "round(data.runtime.median())"
   ],
   "metadata": {
    "collapsed": false,
    "pycharm": {
     "name": "#%%\n"
    }
   }
  },
  {
   "cell_type": "markdown",
   "metadata": {
    "id": "39P-deDSVp-y",
    "colab_type": "text"
   },
   "source": [
    "# 6. Какой самый прибыльный фильм?\n",
    "#### Внимание! Здесь и далее под «прибылью» или «убытками» понимается разность между сборами и бюджетом фильма. (прибыль = сборы - бюджет) в нашем датасете это будет (profit = revenue - budget) "
   ]
  },
  {
   "cell_type": "code",
   "metadata": {
    "trusted": true,
    "id": "UYZh4T9WVp-y",
    "colab_type": "code",
    "colab": {}
   },
   "source": [
    "# лучше код получения столбца profit вынести в Предобработку что в начале"
   ],
   "execution_count": 19,
   "outputs": []
  },
  {
   "cell_type": "code",
   "execution_count": 20,
   "outputs": [],
   "source": [
    "answers['6'] = '5. Avatar (tt0499549)' #+\n"
   ],
   "metadata": {
    "collapsed": false,
    "pycharm": {
     "name": "#%%\n"
    }
   }
  },
  {
   "cell_type": "code",
   "execution_count": 21,
   "outputs": [
    {
     "data": {
      "text/plain": "       imdb_id     budget     revenue original_title  \\\n239  tt0499549  237000000  2781505847         Avatar   \n\n                                                  cast       director  \\\n239  Sam Worthington|Zoe Saldana|Sigourney Weaver|S...  James Cameron   \n\n                         tagline  \\\n239  Enter the World of Pandora.   \n\n                                              overview  runtime  \\\n239  In the 22nd century, a paraplegic Marine is di...      162   \n\n                                       genres  \\\n239  Action|Adventure|Fantasy|Science Fiction   \n\n                                  production_companies release_date  \\\n239  Ingenious Film Partners|Twentieth Century Fox ...   2009-12-10   \n\n     vote_average  release_year      profit  \\\n239           7.1          2009  2544505847   \n\n                                       genres_list  \n239  [Action, Adventure, Fantasy, Science Fiction]  ",
      "text/html": "<div>\n<style scoped>\n    .dataframe tbody tr th:only-of-type {\n        vertical-align: middle;\n    }\n\n    .dataframe tbody tr th {\n        vertical-align: top;\n    }\n\n    .dataframe thead th {\n        text-align: right;\n    }\n</style>\n<table border=\"1\" class=\"dataframe\">\n  <thead>\n    <tr style=\"text-align: right;\">\n      <th></th>\n      <th>imdb_id</th>\n      <th>budget</th>\n      <th>revenue</th>\n      <th>original_title</th>\n      <th>cast</th>\n      <th>director</th>\n      <th>tagline</th>\n      <th>overview</th>\n      <th>runtime</th>\n      <th>genres</th>\n      <th>production_companies</th>\n      <th>release_date</th>\n      <th>vote_average</th>\n      <th>release_year</th>\n      <th>profit</th>\n      <th>genres_list</th>\n    </tr>\n  </thead>\n  <tbody>\n    <tr>\n      <th>239</th>\n      <td>tt0499549</td>\n      <td>237000000</td>\n      <td>2781505847</td>\n      <td>Avatar</td>\n      <td>Sam Worthington|Zoe Saldana|Sigourney Weaver|S...</td>\n      <td>James Cameron</td>\n      <td>Enter the World of Pandora.</td>\n      <td>In the 22nd century, a paraplegic Marine is di...</td>\n      <td>162</td>\n      <td>Action|Adventure|Fantasy|Science Fiction</td>\n      <td>Ingenious Film Partners|Twentieth Century Fox ...</td>\n      <td>2009-12-10</td>\n      <td>7.1</td>\n      <td>2009</td>\n      <td>2544505847</td>\n      <td>[Action, Adventure, Fantasy, Science Fiction]</td>\n    </tr>\n  </tbody>\n</table>\n</div>"
     },
     "execution_count": 21,
     "metadata": {},
     "output_type": "execute_result"
    }
   ],
   "source": [
    "data.query('profit == profit.max()')"
   ],
   "metadata": {
    "collapsed": false,
    "pycharm": {
     "name": "#%%\n"
    }
   }
  },
  {
   "cell_type": "markdown",
   "metadata": {
    "id": "M99JmIX4Vp-2",
    "colab_type": "text"
   },
   "source": [
    "# 7. Какой фильм самый убыточный? "
   ]
  },
  {
   "cell_type": "code",
   "metadata": {
    "trusted": true,
    "id": "w-D2m4XPVp-3",
    "colab_type": "code",
    "colab": {}
   },
   "source": [
    "answers['7'] = '5. The Lone Ranger (tt1210819)' #+\n"
   ],
   "execution_count": 22,
   "outputs": []
  },
  {
   "cell_type": "code",
   "execution_count": 23,
   "outputs": [
    {
     "data": {
      "text/plain": "        imdb_id     budget   revenue   original_title  \\\n1245  tt1210819  255000000  89289910  The Lone Ranger   \n\n                                                   cast        director  \\\n1245  Johnny Depp|Armie Hammer|William Fichtner|Hele...  Gore Verbinski   \n\n                      tagline  \\\n1245  Never Take Off the Mask   \n\n                                               overview  runtime  \\\n1245  The Texas Rangers chase down a gang of outlaws...      149   \n\n                        genres  \\\n1245  Action|Adventure|Western   \n\n                                   production_companies release_date  \\\n1245  Walt Disney Pictures|Jerry Bruckheimer Films|I...   2013-07-03   \n\n      vote_average  release_year     profit                   genres_list  \n1245           6.0          2013 -165710090  [Action, Adventure, Western]  ",
      "text/html": "<div>\n<style scoped>\n    .dataframe tbody tr th:only-of-type {\n        vertical-align: middle;\n    }\n\n    .dataframe tbody tr th {\n        vertical-align: top;\n    }\n\n    .dataframe thead th {\n        text-align: right;\n    }\n</style>\n<table border=\"1\" class=\"dataframe\">\n  <thead>\n    <tr style=\"text-align: right;\">\n      <th></th>\n      <th>imdb_id</th>\n      <th>budget</th>\n      <th>revenue</th>\n      <th>original_title</th>\n      <th>cast</th>\n      <th>director</th>\n      <th>tagline</th>\n      <th>overview</th>\n      <th>runtime</th>\n      <th>genres</th>\n      <th>production_companies</th>\n      <th>release_date</th>\n      <th>vote_average</th>\n      <th>release_year</th>\n      <th>profit</th>\n      <th>genres_list</th>\n    </tr>\n  </thead>\n  <tbody>\n    <tr>\n      <th>1245</th>\n      <td>tt1210819</td>\n      <td>255000000</td>\n      <td>89289910</td>\n      <td>The Lone Ranger</td>\n      <td>Johnny Depp|Armie Hammer|William Fichtner|Hele...</td>\n      <td>Gore Verbinski</td>\n      <td>Never Take Off the Mask</td>\n      <td>The Texas Rangers chase down a gang of outlaws...</td>\n      <td>149</td>\n      <td>Action|Adventure|Western</td>\n      <td>Walt Disney Pictures|Jerry Bruckheimer Films|I...</td>\n      <td>2013-07-03</td>\n      <td>6.0</td>\n      <td>2013</td>\n      <td>-165710090</td>\n      <td>[Action, Adventure, Western]</td>\n    </tr>\n  </tbody>\n</table>\n</div>"
     },
     "execution_count": 23,
     "metadata": {},
     "output_type": "execute_result"
    }
   ],
   "source": [
    "data.query('profit == profit.min()')"
   ],
   "metadata": {
    "collapsed": false,
    "pycharm": {
     "name": "#%%\n"
    }
   }
  },
  {
   "cell_type": "markdown",
   "metadata": {
    "id": "wEOM5ERVVp-6",
    "colab_type": "text"
   },
   "source": [
    "# 8. У скольких фильмов из датасета объем сборов оказался выше бюджета?"
   ]
  },
  {
   "cell_type": "code",
   "metadata": {
    "trusted": true,
    "id": "y00_7HD6Vp-7",
    "colab_type": "code",
    "colab": {}
   },
   "source": [
    "answers['8'] = '1. 1478' #+\n"
   ],
   "execution_count": 24,
   "outputs": []
  },
  {
   "cell_type": "code",
   "execution_count": 25,
   "outputs": [
    {
     "data": {
      "text/plain": "1478"
     },
     "execution_count": 25,
     "metadata": {},
     "output_type": "execute_result"
    }
   ],
   "source": [
    "len(data.query('revenue > budget'))\n"
   ],
   "metadata": {
    "collapsed": false,
    "pycharm": {
     "name": "#%%\n"
    }
   }
  },
  {
   "cell_type": "markdown",
   "source": [
    "ВАРИАНТ 2\n"
   ],
   "metadata": {
    "collapsed": false
   }
  },
  {
   "cell_type": "code",
   "execution_count": 26,
   "outputs": [
    {
     "data": {
      "text/plain": "1478"
     },
     "execution_count": 26,
     "metadata": {},
     "output_type": "execute_result"
    }
   ],
   "source": [
    "data.query('profit >= 0').profit.count()\n"
   ],
   "metadata": {
    "collapsed": false,
    "pycharm": {
     "name": "#%%\n"
    }
   }
  },
  {
   "cell_type": "markdown",
   "metadata": {
    "id": "xhpspA9KVp_A",
    "colab_type": "text"
   },
   "source": [
    "# 9. Какой фильм оказался самым кассовым в 2008 году?"
   ]
  },
  {
   "cell_type": "code",
   "metadata": {
    "trusted": true,
    "id": "MoUyQr9RVp_B",
    "colab_type": "code",
    "colab": {}
   },
   "source": [
    "answers['9'] = '4. The Dark Knight (tt0468569)' #+\n"
   ],
   "execution_count": 27,
   "outputs": []
  },
  {
   "cell_type": "code",
   "execution_count": 28,
   "outputs": [
    {
     "data": {
      "text/plain": "       imdb_id     budget     revenue   original_title  \\\n599  tt0468569  185000000  1001921825  The Dark Knight   \n\n                                                  cast           director  \\\n599  Christian Bale|Michael Caine|Heath Ledger|Aaro...  Christopher Nolan   \n\n             tagline                                           overview  \\\n599  Why So Serious?  Batman raises the stakes in his war on crime. ...   \n\n     runtime                       genres  \\\n599      152  Drama|Action|Crime|Thriller   \n\n                                  production_companies release_date  \\\n599  DC Comics|Legendary Pictures|Warner Bros.|Syncopy   2008-07-16   \n\n     vote_average  release_year     profit                       genres_list  \n599           8.1          2008  816921825  [Drama, Action, Crime, Thriller]  ",
      "text/html": "<div>\n<style scoped>\n    .dataframe tbody tr th:only-of-type {\n        vertical-align: middle;\n    }\n\n    .dataframe tbody tr th {\n        vertical-align: top;\n    }\n\n    .dataframe thead th {\n        text-align: right;\n    }\n</style>\n<table border=\"1\" class=\"dataframe\">\n  <thead>\n    <tr style=\"text-align: right;\">\n      <th></th>\n      <th>imdb_id</th>\n      <th>budget</th>\n      <th>revenue</th>\n      <th>original_title</th>\n      <th>cast</th>\n      <th>director</th>\n      <th>tagline</th>\n      <th>overview</th>\n      <th>runtime</th>\n      <th>genres</th>\n      <th>production_companies</th>\n      <th>release_date</th>\n      <th>vote_average</th>\n      <th>release_year</th>\n      <th>profit</th>\n      <th>genres_list</th>\n    </tr>\n  </thead>\n  <tbody>\n    <tr>\n      <th>599</th>\n      <td>tt0468569</td>\n      <td>185000000</td>\n      <td>1001921825</td>\n      <td>The Dark Knight</td>\n      <td>Christian Bale|Michael Caine|Heath Ledger|Aaro...</td>\n      <td>Christopher Nolan</td>\n      <td>Why So Serious?</td>\n      <td>Batman raises the stakes in his war on crime. ...</td>\n      <td>152</td>\n      <td>Drama|Action|Crime|Thriller</td>\n      <td>DC Comics|Legendary Pictures|Warner Bros.|Syncopy</td>\n      <td>2008-07-16</td>\n      <td>8.1</td>\n      <td>2008</td>\n      <td>816921825</td>\n      <td>[Drama, Action, Crime, Thriller]</td>\n    </tr>\n  </tbody>\n</table>\n</div>"
     },
     "execution_count": 28,
     "metadata": {},
     "output_type": "execute_result"
    }
   ],
   "source": [
    "data.query('release_year == 2008').\\\n",
    "    sort_values(by='profit', ascending=False).\\\n",
    "    head(1)\n"
   ],
   "metadata": {
    "collapsed": false,
    "pycharm": {
     "name": "#%%\n"
    }
   }
  },
  {
   "cell_type": "markdown",
   "source": [
    "ВАРИАНТ 2\n"
   ],
   "metadata": {
    "collapsed": false,
    "pycharm": {
     "name": "#%% md\n"
    }
   }
  },
  {
   "cell_type": "code",
   "execution_count": 29,
   "outputs": [
    {
     "data": {
      "text/plain": "       imdb_id     budget     revenue   original_title  \\\n599  tt0468569  185000000  1001921825  The Dark Knight   \n\n                                                  cast           director  \\\n599  Christian Bale|Michael Caine|Heath Ledger|Aaro...  Christopher Nolan   \n\n             tagline                                           overview  \\\n599  Why So Serious?  Batman raises the stakes in his war on crime. ...   \n\n     runtime                       genres  \\\n599      152  Drama|Action|Crime|Thriller   \n\n                                  production_companies release_date  \\\n599  DC Comics|Legendary Pictures|Warner Bros.|Syncopy   2008-07-16   \n\n     vote_average  release_year     profit                       genres_list  \n599           8.1          2008  816921825  [Drama, Action, Crime, Thriller]  ",
      "text/html": "<div>\n<style scoped>\n    .dataframe tbody tr th:only-of-type {\n        vertical-align: middle;\n    }\n\n    .dataframe tbody tr th {\n        vertical-align: top;\n    }\n\n    .dataframe thead th {\n        text-align: right;\n    }\n</style>\n<table border=\"1\" class=\"dataframe\">\n  <thead>\n    <tr style=\"text-align: right;\">\n      <th></th>\n      <th>imdb_id</th>\n      <th>budget</th>\n      <th>revenue</th>\n      <th>original_title</th>\n      <th>cast</th>\n      <th>director</th>\n      <th>tagline</th>\n      <th>overview</th>\n      <th>runtime</th>\n      <th>genres</th>\n      <th>production_companies</th>\n      <th>release_date</th>\n      <th>vote_average</th>\n      <th>release_year</th>\n      <th>profit</th>\n      <th>genres_list</th>\n    </tr>\n  </thead>\n  <tbody>\n    <tr>\n      <th>599</th>\n      <td>tt0468569</td>\n      <td>185000000</td>\n      <td>1001921825</td>\n      <td>The Dark Knight</td>\n      <td>Christian Bale|Michael Caine|Heath Ledger|Aaro...</td>\n      <td>Christopher Nolan</td>\n      <td>Why So Serious?</td>\n      <td>Batman raises the stakes in his war on crime. ...</td>\n      <td>152</td>\n      <td>Drama|Action|Crime|Thriller</td>\n      <td>DC Comics|Legendary Pictures|Warner Bros.|Syncopy</td>\n      <td>2008-07-16</td>\n      <td>8.1</td>\n      <td>2008</td>\n      <td>816921825</td>\n      <td>[Drama, Action, Crime, Thriller]</td>\n    </tr>\n  </tbody>\n</table>\n</div>"
     },
     "execution_count": 29,
     "metadata": {},
     "output_type": "execute_result"
    }
   ],
   "source": [
    "max_profit_2008 = data[data['release_year'] == 2008].profit.max()\n",
    "data[(data['release_year'] == 2008) & (data['profit'] == max_profit_2008)]\n"
   ],
   "metadata": {
    "collapsed": false,
    "pycharm": {
     "name": "#%%\n"
    }
   }
  },
  {
   "cell_type": "markdown",
   "metadata": {
    "id": "Zi4hDKidVp_F",
    "colab_type": "text"
   },
   "source": [
    "# 10. Самый убыточный фильм за период с 2012 по 2014 г. (включительно)?\n"
   ]
  },
  {
   "cell_type": "code",
   "metadata": {
    "trusted": true,
    "id": "XqyRmufJVp_F",
    "colab_type": "code",
    "colab": {}
   },
   "source": [
    "answers['10'] = '5. The Lone Ranger (tt1210819)' #+\n"
   ],
   "execution_count": 30,
   "outputs": []
  },
  {
   "cell_type": "code",
   "execution_count": 31,
   "outputs": [
    {
     "data": {
      "text/plain": "        imdb_id     budget   revenue   original_title  \\\n1245  tt1210819  255000000  89289910  The Lone Ranger   \n\n                                                   cast        director  \\\n1245  Johnny Depp|Armie Hammer|William Fichtner|Hele...  Gore Verbinski   \n\n                      tagline  \\\n1245  Never Take Off the Mask   \n\n                                               overview  runtime  \\\n1245  The Texas Rangers chase down a gang of outlaws...      149   \n\n                        genres  \\\n1245  Action|Adventure|Western   \n\n                                   production_companies release_date  \\\n1245  Walt Disney Pictures|Jerry Bruckheimer Films|I...   2013-07-03   \n\n      vote_average  release_year     profit                   genres_list  \n1245           6.0          2013 -165710090  [Action, Adventure, Western]  ",
      "text/html": "<div>\n<style scoped>\n    .dataframe tbody tr th:only-of-type {\n        vertical-align: middle;\n    }\n\n    .dataframe tbody tr th {\n        vertical-align: top;\n    }\n\n    .dataframe thead th {\n        text-align: right;\n    }\n</style>\n<table border=\"1\" class=\"dataframe\">\n  <thead>\n    <tr style=\"text-align: right;\">\n      <th></th>\n      <th>imdb_id</th>\n      <th>budget</th>\n      <th>revenue</th>\n      <th>original_title</th>\n      <th>cast</th>\n      <th>director</th>\n      <th>tagline</th>\n      <th>overview</th>\n      <th>runtime</th>\n      <th>genres</th>\n      <th>production_companies</th>\n      <th>release_date</th>\n      <th>vote_average</th>\n      <th>release_year</th>\n      <th>profit</th>\n      <th>genres_list</th>\n    </tr>\n  </thead>\n  <tbody>\n    <tr>\n      <th>1245</th>\n      <td>tt1210819</td>\n      <td>255000000</td>\n      <td>89289910</td>\n      <td>The Lone Ranger</td>\n      <td>Johnny Depp|Armie Hammer|William Fichtner|Hele...</td>\n      <td>Gore Verbinski</td>\n      <td>Never Take Off the Mask</td>\n      <td>The Texas Rangers chase down a gang of outlaws...</td>\n      <td>149</td>\n      <td>Action|Adventure|Western</td>\n      <td>Walt Disney Pictures|Jerry Bruckheimer Films|I...</td>\n      <td>2013-07-03</td>\n      <td>6.0</td>\n      <td>2013</td>\n      <td>-165710090</td>\n      <td>[Action, Adventure, Western]</td>\n    </tr>\n  </tbody>\n</table>\n</div>"
     },
     "execution_count": 31,
     "metadata": {},
     "output_type": "execute_result"
    }
   ],
   "source": [
    "data.query('2012 <= release_year <= 2014').\\\n",
    "    sort_values(by='profit').\\\n",
    "    head(1)"
   ],
   "metadata": {
    "collapsed": false,
    "pycharm": {
     "name": "#%%\n"
    }
   }
  },
  {
   "cell_type": "markdown",
   "metadata": {
    "id": "EA7Sa9dkVp_I",
    "colab_type": "text"
   },
   "source": [
    "# 11. Какого жанра фильмов больше всего?"
   ]
  },
  {
   "cell_type": "code",
   "metadata": {
    "trusted": true,
    "id": "zsJAwJ8QVp_J",
    "colab_type": "code",
    "colab": {}
   },
   "source": [
    "answers['11'] = '3. Drama' #+\n",
    "# эту задачу тоже можно решать разными подходами, попробуй реализовать разные варианты\n",
    "# если будешь добавлять функцию - выноси ее в предобработку что в начале"
   ],
   "execution_count": 32,
   "outputs": []
  },
  {
   "cell_type": "code",
   "execution_count": 33,
   "outputs": [
    {
     "data": {
      "text/plain": "Drama    782\ndtype: int64"
     },
     "execution_count": 33,
     "metadata": {},
     "output_type": "execute_result"
    }
   ],
   "source": [
    "pd.Series(Counter(chain.from_iterable(data.genres_list))).\\\n",
    "    sort_values().\\\n",
    "    tail(1)\n"
   ],
   "metadata": {
    "collapsed": false,
    "pycharm": {
     "name": "#%%\n"
    }
   }
  },
  {
   "cell_type": "markdown",
   "metadata": {
    "id": "Ax6g2C8SVp_M",
    "colab_type": "text"
   },
   "source": [
    "ВАРИАНТ 2"
   ]
  },
  {
   "cell_type": "code",
   "metadata": {
    "trusted": true,
    "id": "otO3SbrSVp_N",
    "colab_type": "code",
    "colab": {}
   },
   "source": [
    "pd.Series(list(chain.from_iterable(data.genres_list))).\\\n",
    "    value_counts().\\\n",
    "    head(1)\n"
   ],
   "execution_count": 34,
   "outputs": [
    {
     "data": {
      "text/plain": "Drama    782\ndtype: int64"
     },
     "execution_count": 34,
     "metadata": {},
     "output_type": "execute_result"
    }
   ]
  },
  {
   "cell_type": "markdown",
   "metadata": {
    "id": "T9_bPWpkVp_Q",
    "colab_type": "text"
   },
   "source": [
    "# 12. Фильмы какого жанра чаще всего становятся прибыльными? "
   ]
  },
  {
   "cell_type": "code",
   "metadata": {
    "trusted": true,
    "id": "Tmt8MaK1Vp_R",
    "colab_type": "code",
    "colab": {}
   },
   "source": [
    "answers['12'] = '1. Drama' #+\n"
   ],
   "execution_count": 35,
   "outputs": []
  },
  {
   "cell_type": "code",
   "execution_count": 36,
   "outputs": [
    {
     "data": {
      "text/plain": "Drama    560\ndtype: int64"
     },
     "execution_count": 36,
     "metadata": {},
     "output_type": "execute_result"
    }
   ],
   "source": [
    "pd.Series\\\n",
    "    (Counter(chain.from_iterable(data.query('profit > 0').genres_list))).\\\n",
    "    sort_values().\\\n",
    "    tail(1)"
   ],
   "metadata": {
    "collapsed": false,
    "pycharm": {
     "name": "#%%\n"
    }
   }
  },
  {
   "cell_type": "markdown",
   "metadata": {
    "id": "0F23bgsDVp_U",
    "colab_type": "text"
   },
   "source": [
    "# 13. У какого режиссера самые большие суммарные кассовые сбооры?"
   ]
  },
  {
   "cell_type": "code",
   "metadata": {
    "trusted": true,
    "id": "K6Z3J8ygVp_X",
    "colab_type": "code",
    "colab": {}
   },
   "source": [
    "answers['13'] = '5. Peter Jackson' #+\n"
   ],
   "execution_count": 37,
   "outputs": []
  },
  {
   "cell_type": "code",
   "execution_count": 38,
   "outputs": [
    {
     "data": {
      "text/plain": "[('Peter Jackson', 6490593685)]"
     },
     "execution_count": 38,
     "metadata": {},
     "output_type": "execute_result"
    }
   ],
   "source": [
    "directors_list = data.director.str.split('|')\n",
    "uniq_directors = pd.Series(chain.from_iterable(directors_list)).unique()\n",
    "directors_counter = Counter()\n",
    "for director in uniq_directors:\n",
    "    directors_counter[director] = data[data.director.str.contains(director)].revenue.sum()\n",
    "directors_counter.most_common(1)"
   ],
   "metadata": {
    "collapsed": false,
    "pycharm": {
     "name": "#%%\n"
    }
   }
  },
  {
   "cell_type": "markdown",
   "metadata": {
    "id": "PsYC9FgRVp_a",
    "colab_type": "text"
   },
   "source": [
    "# 14. Какой режисер снял больше всего фильмов в стиле Action?"
   ]
  },
  {
   "cell_type": "code",
   "metadata": {
    "trusted": true,
    "id": "wd2M-wHeVp_b",
    "colab_type": "code",
    "colab": {}
   },
   "source": [
    "answers['14'] = '3. Robert Rodriguez' #+\n"
   ],
   "execution_count": 39,
   "outputs": []
  },
  {
   "cell_type": "code",
   "execution_count": 40,
   "outputs": [
    {
     "data": {
      "text/plain": "[('Robert Rodriguez', 9)]"
     },
     "execution_count": 40,
     "metadata": {},
     "output_type": "execute_result"
    }
   ],
   "source": [
    "data_tmp = data[data.genres.str.contains('Action')]\n",
    "Counter(chain.from_iterable(data_tmp.director.str.split('|'))).\\\n",
    "    most_common(1)\n"
   ],
   "metadata": {
    "collapsed": false,
    "pycharm": {
     "name": "#%%\n"
    }
   }
  },
  {
   "cell_type": "markdown",
   "metadata": {
    "id": "PQ0KciD7Vp_f",
    "colab_type": "text"
   },
   "source": [
    "# 15. Фильмы с каким актером принесли самые высокие кассовые сборы в 2012 году? "
   ]
  },
  {
   "cell_type": "code",
   "metadata": {
    "trusted": true,
    "id": "aga62oeKVp_g",
    "colab_type": "code",
    "colab": {}
   },
   "source": [
    "answers['15'] = '3. Chris Hemsworth' #+\n"
   ],
   "execution_count": 41,
   "outputs": []
  },
  {
   "cell_type": "code",
   "execution_count": 42,
   "outputs": [
    {
     "data": {
      "text/plain": "[('Chris Hemsworth', 2027450773)]"
     },
     "execution_count": 42,
     "metadata": {},
     "output_type": "execute_result"
    }
   ],
   "source": [
    "data_tmp = data[data.release_year == 2012]\n",
    "cast_list = data_tmp.cast.str.split('|')\n",
    "uniq_casts = pd.Series(chain.from_iterable(cast_list)).unique()\n",
    "casts_counter = Counter()\n",
    "for cast in uniq_casts:\n",
    "    casts_counter[cast] = data_tmp[data_tmp.cast.str.contains(cast)].revenue.sum()\n",
    "casts_counter.most_common(1)\n"
   ],
   "metadata": {
    "collapsed": false,
    "pycharm": {
     "name": "#%%\n"
    }
   }
  },
  {
   "cell_type": "markdown",
   "metadata": {
    "id": "mWHyyL7QVp_j",
    "colab_type": "text"
   },
   "source": [
    "# 16. Какой актер снялся в большем количестве высокобюджетных фильмов?"
   ]
  },
  {
   "cell_type": "code",
   "metadata": {
    "trusted": true,
    "id": "qQtmHKTFVp_k",
    "colab_type": "code",
    "colab": {}
   },
   "source": [
    "answers['16'] = '3. Matt Damon' #+\n"
   ],
   "execution_count": 43,
   "outputs": []
  },
  {
   "cell_type": "code",
   "execution_count": 44,
   "outputs": [
    {
     "data": {
      "text/plain": "[('Matt Damon', 18)]"
     },
     "execution_count": 44,
     "metadata": {},
     "output_type": "execute_result"
    }
   ],
   "source": [
    "data_tmp = data.query('budget > budget.mean()')\n",
    "Counter(chain.from_iterable(data_tmp.cast.str.split('|'))).\\\n",
    "    most_common(1)\n"
   ],
   "metadata": {
    "collapsed": false,
    "pycharm": {
     "name": "#%%\n"
    }
   }
  },
  {
   "cell_type": "markdown",
   "metadata": {
    "id": "NIh6AaW5Vp_n",
    "colab_type": "text"
   },
   "source": [
    "# 17. В фильмах какого жанра больше всего снимался Nicolas Cage? "
   ]
  },
  {
   "cell_type": "code",
   "metadata": {
    "trusted": true,
    "id": "H74SJDIBVp_n",
    "colab_type": "code",
    "colab": {}
   },
   "source": [
    "answers['17'] = '2. Action' #+\n"
   ],
   "execution_count": 45,
   "outputs": []
  },
  {
   "cell_type": "code",
   "execution_count": 46,
   "outputs": [
    {
     "data": {
      "text/plain": "[('Action', 17)]"
     },
     "execution_count": 46,
     "metadata": {},
     "output_type": "execute_result"
    }
   ],
   "source": [
    "data_tmp = data[data.cast.str.contains('Nicolas Cage')]\n",
    "Counter(chain.from_iterable(data_tmp.genres_list)).\\\n",
    "    most_common(1)\n"
   ],
   "metadata": {
    "collapsed": false,
    "pycharm": {
     "name": "#%%\n"
    }
   }
  },
  {
   "cell_type": "markdown",
   "metadata": {
    "id": "RqOmPRfWVp_q",
    "colab_type": "text"
   },
   "source": [
    "# 18. Самый убыточный фильм от Paramount Pictures"
   ]
  },
  {
   "cell_type": "code",
   "metadata": {
    "trusted": true,
    "id": "9E_B0Y96Vp_r",
    "colab_type": "code",
    "colab": {}
   },
   "source": [
    "answers['18'] = '1. K-19: The Widowmaker (tt0267626)' #+\n"
   ],
   "execution_count": 47,
   "outputs": []
  },
  {
   "cell_type": "code",
   "execution_count": 48,
   "outputs": [
    {
     "data": {
      "text/plain": "       imdb_id     budget   revenue        original_title  \\\n925  tt0267626  100000000  35168966  K-19: The Widowmaker   \n\n                                                  cast         director  \\\n925  Harrison Ford|Liam Neeson|Peter Sarsgaard|Joss...  Kathryn Bigelow   \n\n                      tagline  \\\n925  Fate has found its hero.   \n\n                                              overview  runtime  \\\n925  When Russia's first nuclear submarine malfunct...      138   \n\n                     genres  \\\n925  Thriller|Drama|History   \n\n                                  production_companies release_date  \\\n925  Paramount Pictures|Intermedia Films|National G...   2002-07-19   \n\n     vote_average  release_year    profit                 genres_list  \n925           6.0          2002 -64831034  [Thriller, Drama, History]  ",
      "text/html": "<div>\n<style scoped>\n    .dataframe tbody tr th:only-of-type {\n        vertical-align: middle;\n    }\n\n    .dataframe tbody tr th {\n        vertical-align: top;\n    }\n\n    .dataframe thead th {\n        text-align: right;\n    }\n</style>\n<table border=\"1\" class=\"dataframe\">\n  <thead>\n    <tr style=\"text-align: right;\">\n      <th></th>\n      <th>imdb_id</th>\n      <th>budget</th>\n      <th>revenue</th>\n      <th>original_title</th>\n      <th>cast</th>\n      <th>director</th>\n      <th>tagline</th>\n      <th>overview</th>\n      <th>runtime</th>\n      <th>genres</th>\n      <th>production_companies</th>\n      <th>release_date</th>\n      <th>vote_average</th>\n      <th>release_year</th>\n      <th>profit</th>\n      <th>genres_list</th>\n    </tr>\n  </thead>\n  <tbody>\n    <tr>\n      <th>925</th>\n      <td>tt0267626</td>\n      <td>100000000</td>\n      <td>35168966</td>\n      <td>K-19: The Widowmaker</td>\n      <td>Harrison Ford|Liam Neeson|Peter Sarsgaard|Joss...</td>\n      <td>Kathryn Bigelow</td>\n      <td>Fate has found its hero.</td>\n      <td>When Russia's first nuclear submarine malfunct...</td>\n      <td>138</td>\n      <td>Thriller|Drama|History</td>\n      <td>Paramount Pictures|Intermedia Films|National G...</td>\n      <td>2002-07-19</td>\n      <td>6.0</td>\n      <td>2002</td>\n      <td>-64831034</td>\n      <td>[Thriller, Drama, History]</td>\n    </tr>\n  </tbody>\n</table>\n</div>"
     },
     "execution_count": 48,
     "metadata": {},
     "output_type": "execute_result"
    }
   ],
   "source": [
    "data[data.production_companies.str.contains('Paramount Pictures')].\\\n",
    "    query('profit == profit.min()')\n"
   ],
   "metadata": {
    "collapsed": false,
    "pycharm": {
     "name": "#%%\n"
    }
   }
  },
  {
   "cell_type": "markdown",
   "metadata": {
    "id": "vS8Ur6ddVp_u",
    "colab_type": "text"
   },
   "source": [
    "# 19. Какой год стал самым успешным по суммарным кассовым сборам?"
   ]
  },
  {
   "cell_type": "code",
   "metadata": {
    "trusted": true,
    "id": "Dnbt4GdIVp_v",
    "colab_type": "code",
    "colab": {}
   },
   "source": [
    "answers['19'] = '5. 2015' #+\n"
   ],
   "execution_count": 49,
   "outputs": []
  },
  {
   "cell_type": "code",
   "execution_count": 50,
   "outputs": [
    {
     "data": {
      "text/plain": "release_year\n2015    25449202382\nName: revenue, dtype: int64"
     },
     "execution_count": 50,
     "metadata": {},
     "output_type": "execute_result"
    }
   ],
   "source": [
    "data.groupby(by='release_year').revenue.sum().tail(1)\n"
   ],
   "metadata": {
    "collapsed": false,
    "pycharm": {
     "name": "#%%\n"
    }
   }
  },
  {
   "cell_type": "markdown",
   "metadata": {
    "id": "JAzJh4QAVp_z",
    "colab_type": "text"
   },
   "source": [
    "# 20. Какой самый прибыльный год для студии Warner Bros?"
   ]
  },
  {
   "cell_type": "code",
   "metadata": {
    "trusted": true,
    "id": "wgVu02DEVp_0",
    "colab_type": "code",
    "colab": {}
   },
   "source": [
    "answers['20'] = '1. 2014' #+\n"
   ],
   "execution_count": 51,
   "outputs": []
  },
  {
   "cell_type": "code",
   "execution_count": 52,
   "outputs": [
    {
     "data": {
      "text/plain": "release_year\n2014    2295464519\nName: profit, dtype: int64"
     },
     "execution_count": 52,
     "metadata": {},
     "output_type": "execute_result"
    }
   ],
   "source": [
    "data[data.production_companies.str.contains('Warner Bros')].\\\n",
    "    groupby('release_year').profit.sum().\\\n",
    "    sort_values().\\\n",
    "    tail(1)\n"
   ],
   "metadata": {
    "collapsed": false,
    "pycharm": {
     "name": "#%%\n"
    }
   }
  },
  {
   "cell_type": "markdown",
   "metadata": {
    "id": "8Im1S2HRVp_4",
    "colab_type": "text"
   },
   "source": [
    "# 21. В каком месяце за все годы суммарно вышло больше всего фильмов?"
   ]
  },
  {
   "cell_type": "code",
   "metadata": {
    "trusted": true,
    "id": "lev6TH7gVp_4",
    "colab_type": "code",
    "colab": {}
   },
   "source": [
    "answers['21'] = '4. Сентябрь' #+\n"
   ],
   "execution_count": 53,
   "outputs": []
  },
  {
   "cell_type": "code",
   "execution_count": 54,
   "outputs": [
    {
     "data": {
      "text/plain": "[(9, 227)]"
     },
     "execution_count": 54,
     "metadata": {},
     "output_type": "execute_result"
    }
   ],
   "source": [
    "Counter(data.release_date.dt.month).most_common(1)\n"
   ],
   "metadata": {
    "collapsed": false,
    "pycharm": {
     "name": "#%%\n"
    }
   }
  },
  {
   "cell_type": "markdown",
   "metadata": {
    "id": "uAJsZ_NeVp_7",
    "colab_type": "text"
   },
   "source": [
    "# 22. Сколько суммарно вышло фильмов летом? (за июнь, июль, август)"
   ]
  },
  {
   "cell_type": "code",
   "metadata": {
    "trusted": true,
    "id": "Aa-hEREoVp_8",
    "colab_type": "code",
    "colab": {}
   },
   "source": [
    "answers['22'] = '2. 450' #+\n"
   ],
   "execution_count": 55,
   "outputs": []
  },
  {
   "cell_type": "code",
   "execution_count": 56,
   "outputs": [
    {
     "data": {
      "text/plain": "450"
     },
     "execution_count": 56,
     "metadata": {},
     "output_type": "execute_result"
    }
   ],
   "source": [
    "data[data.release_date.dt.month.isin([6, 7 ,8])].\\\n",
    "    release_date.\\\n",
    "    count()\n"
   ],
   "metadata": {
    "collapsed": false,
    "pycharm": {
     "name": "#%%\n"
    }
   }
  },
  {
   "cell_type": "markdown",
   "metadata": {
    "id": "G94ppOY1VqAA",
    "colab_type": "text"
   },
   "source": [
    "# 23. Для какого режиссера зима – самое продуктивное время года? "
   ]
  },
  {
   "cell_type": "code",
   "metadata": {
    "trusted": true,
    "id": "RhNTsamuVqAB",
    "colab_type": "code",
    "colab": {}
   },
   "source": [
    "answers['23'] = '5. Peter Jackson'\n"
   ],
   "execution_count": 57,
   "outputs": []
  },
  {
   "cell_type": "code",
   "execution_count": 58,
   "outputs": [
    {
     "data": {
      "text/plain": "[('Peter Jackson', 7)]"
     },
     "execution_count": 58,
     "metadata": {},
     "output_type": "execute_result"
    }
   ],
   "source": [
    "Counter(\\\n",
    "    chain.from_iterable(\\\n",
    "        data[data.release_date.dt.month.isin([12, 1 ,2])].\\\n",
    "            director.str.split('|'))).\\\n",
    "    most_common(1)\n"
   ],
   "metadata": {
    "collapsed": false,
    "pycharm": {
     "name": "#%%\n"
    }
   }
  },
  {
   "cell_type": "markdown",
   "metadata": {
    "id": "RBo0JVjVVqAF",
    "colab_type": "text"
   },
   "source": [
    "# 24. Какая студия дает самые длинные названия своим фильмам по количеству символов?"
   ]
  },
  {
   "cell_type": "code",
   "metadata": {
    "trusted": true,
    "id": "QRGS8L0iVqAG",
    "colab_type": "code",
    "colab": {}
   },
   "source": [
    "answers['24'] = '5. Four By Two Productions'\n"
   ],
   "execution_count": 59,
   "outputs": []
  },
  {
   "cell_type": "code",
   "execution_count": 60,
   "outputs": [
    {
     "name": "stderr",
     "output_type": "stream",
     "text": [
      "/Users/serpent/.conda/envs/testgit/lib/python3.8/site-packages/pandas/core/strings.py:2001: UserWarning: This pattern has match groups. To actually get the groups, use str.extract.\n",
      "  return func(self, *args, **kwargs)\n"
     ]
    },
    {
     "data": {
      "text/plain": "[('Four By Two Productions', 83.0)]"
     },
     "execution_count": 60,
     "metadata": {},
     "output_type": "execute_result"
    }
   ],
   "source": [
    "company_counter = Counter()\n",
    "for company in chain.from_iterable(data.production_companies.str.split('|')):\n",
    "    company_counter[company] = \\\n",
    "        data[data.production_companies.str.contains(company)].\\\n",
    "            original_title.str.len().\\\n",
    "            mean()\n",
    "company_counter.most_common(1)\n"
   ],
   "metadata": {
    "collapsed": false,
    "pycharm": {
     "name": "#%%\n"
    }
   }
  },
  {
   "cell_type": "markdown",
   "metadata": {
    "id": "9G0hbvR7VqAK",
    "colab_type": "text"
   },
   "source": [
    "# 25. Описание фильмов какой студии в среднем самые длинные по количеству слов?"
   ]
  },
  {
   "cell_type": "code",
   "metadata": {
    "trusted": true,
    "id": "Ge2GsLNxVqAK",
    "colab_type": "code",
    "colab": {}
   },
   "source": [
    "answers['25'] = '3. Midnight Picture Show'\n"
   ],
   "execution_count": 61,
   "outputs": []
  },
  {
   "cell_type": "code",
   "execution_count": 62,
   "outputs": [
    {
     "data": {
      "text/plain": "[('Midnight Picture Show', 175.0)]"
     },
     "execution_count": 62,
     "metadata": {},
     "output_type": "execute_result"
    }
   ],
   "source": [
    "company_counter = Counter()\n",
    "for company in chain.from_iterable(data.production_companies.str.split('|')):\n",
    "    company_counter[company] = \\\n",
    "        data[data.production_companies.str.contains(company)].\\\n",
    "            overview.str.split()\\\n",
    "            .str.len().\\\n",
    "            mean()\n",
    "company_counter.most_common(1)\n"
   ],
   "metadata": {
    "collapsed": false,
    "pycharm": {
     "name": "#%%\n"
    }
   }
  },
  {
   "cell_type": "markdown",
   "metadata": {
    "id": "FJ1AFt90VqAP",
    "colab_type": "text"
   },
   "source": [
    "# 26. Какие фильмы входят в 1 процент лучших по рейтингу? \n",
    "по vote_average"
   ]
  },
  {
   "cell_type": "code",
   "metadata": {
    "trusted": true,
    "id": "8qmJVq4CVqAQ",
    "colab_type": "code",
    "colab": {}
   },
   "source": [
    "answers['26'] = '1. Inside Out, The Dark Knight, 12 Years a Slave'\n"
   ],
   "execution_count": 63,
   "outputs": []
  },
  {
   "cell_type": "code",
   "execution_count": 64,
   "outputs": [
    {
     "data": {
      "text/plain": "9                                          Inside Out\n34                                               Room\n118                                      Interstellar\n119                           Guardians of the Galaxy\n125                                The Imitation Game\n128                                         Gone Girl\n138                          The Grand Budapest Hotel\n370                                         Inception\n599                                   The Dark Knight\n872                                       The Pianist\n1081    The Lord of the Rings: The Return of the King\n1183                          The Wolf of Wall Street\n1191                                 12 Years a Slave\n1800                                          Memento\nName: original_title, dtype: object"
     },
     "execution_count": 64,
     "metadata": {},
     "output_type": "execute_result"
    }
   ],
   "source": [
    "data.query('vote_average > vote_average.quantile(0.99)').original_title\n"
   ],
   "metadata": {
    "collapsed": false,
    "pycharm": {
     "name": "#%%\n"
    }
   }
  },
  {
   "cell_type": "markdown",
   "metadata": {
    "id": "MdXsUXbCVqAV",
    "colab_type": "text"
   },
   "source": [
    "# 27. Какие актеры чаще всего снимаются в одном фильме вместе?\n"
   ]
  },
  {
   "cell_type": "code",
   "execution_count": 8,
   "outputs": [
    {
     "ename": "NameError",
     "evalue": "name 'answers' is not defined",
     "output_type": "error",
     "traceback": [
      "\u001B[0;31m---------------------------------------------------------------------------\u001B[0m",
      "\u001B[0;31mNameError\u001B[0m                                 Traceback (most recent call last)",
      "\u001B[0;32m<ipython-input-8-b8684ba2eb3c>\u001B[0m in \u001B[0;36m<module>\u001B[0;34m\u001B[0m\n\u001B[0;32m----> 1\u001B[0;31m \u001B[0manswers\u001B[0m\u001B[0;34m[\u001B[0m\u001B[0;34m'27'\u001B[0m\u001B[0;34m]\u001B[0m \u001B[0;34m=\u001B[0m \u001B[0;34m'5. Daniel Radcliffe & Rupert Grint'\u001B[0m\u001B[0;34m\u001B[0m\u001B[0;34m\u001B[0m\u001B[0m\n\u001B[0m\u001B[1;32m      2\u001B[0m \u001B[0;34m\u001B[0m\u001B[0m\n",
      "\u001B[0;31mNameError\u001B[0m: name 'answers' is not defined"
     ]
    }
   ],
   "source": [
    "answers['27'] = '5. Daniel Radcliffe & Rupert Grint'\n"
   ],
   "metadata": {
    "collapsed": false,
    "pycharm": {
     "name": "#%%\n"
    }
   }
  },
  {
   "cell_type": "code",
   "execution_count": 7,
   "outputs": [
    {
     "name": "stderr",
     "output_type": "stream",
     "text": [
      "1889it [00:44, 42.73it/s]\n"
     ]
    },
    {
     "name": "stdout",
     "output_type": "stream",
     "text": [
      "[(('Daniel Radcliffe', 'Rupert Grint'), 8)]\n"
     ]
    }
   ],
   "source": [
    "casts_counter = Counter()\n",
    "for index, row in tqdm(data.iterrows()):\n",
    "    casts_list = row.cast.split('|')\n",
    "    for cast_pair in combinations(chain(casts_list),2):\n",
    "        count_pair = len(\\\n",
    "            data[\\\n",
    "                (data.cast.str.contains(cast_pair[0])) & \\\n",
    "                (data.cast.str.contains(cast_pair[1]))])\n",
    "        casts_counter[cast_pair] = count_pair\n",
    "print(casts_counter.most_common(1))\n"
   ],
   "metadata": {
    "collapsed": false,
    "pycharm": {
     "name": "#%%\n"
    }
   }
  },
  {
   "cell_type": "markdown",
   "metadata": {
    "id": "4ymnxEVoVqAW",
    "colab_type": "text"
   },
   "source": [
    "ВАРИАНТ 2"
   ]
  },
  {
   "cell_type": "code",
   "execution_count": null,
   "outputs": [],
   "source": [],
   "metadata": {
    "collapsed": false,
    "pycharm": {
     "name": "#%%\n"
    }
   }
  },
  {
   "cell_type": "markdown",
   "metadata": {
    "id": "U0nONFnGVqAX",
    "colab_type": "text"
   },
   "source": [
    "# Submission"
   ]
  },
  {
   "cell_type": "code",
   "metadata": {
    "trusted": true,
    "id": "IfcaRO9-VqAX",
    "colab_type": "code",
    "colab": {},
    "outputId": "0f132912-32bb-4196-c98c-abfbc4ad5a5f"
   },
   "source": [
    "# в конце можно посмотреть свои ответы к каждому вопросу\n",
    "answers"
   ],
   "execution_count": 66,
   "outputs": [
    {
     "data": {
      "text/plain": "{'1': '5. Pirates of the Caribbean: On Stranger Tides (tt1298650)',\n '2': '2. Gods and Generals (tt0279111)',\n '3': '3. Winnie the Pooh (tt1449283)',\n '4': '2. 110',\n '5': '1. 107',\n '6': '5. Avatar (tt0499549)',\n '7': '5. The Lone Ranger (tt1210819)',\n '8': '1. 1478',\n '9': '4. The Dark Knight (tt0468569)',\n '10': '5. The Lone Ranger (tt1210819)',\n '11': '3. Drama',\n '12': '1. Drama',\n '13': '5. Peter Jackson',\n '14': '3. Robert Rodriguez',\n '15': '3. Chris Hemsworth',\n '16': '3. Matt Damon',\n '17': '2. Action',\n '18': '1. K-19: The Widowmaker (tt0267626)',\n '19': '5. 2015',\n '20': '1. 2014',\n '21': '4. Сентябрь',\n '22': '2. 450',\n '23': '5. Peter Jackson',\n '24': '5. Four By Two Productions',\n '25': '3. Midnight Picture Show',\n '26': '1. Inside Out, The Dark Knight, 12 Years a Slave',\n '27': ''}"
     },
     "execution_count": 66,
     "metadata": {},
     "output_type": "execute_result"
    }
   ]
  },
  {
   "cell_type": "code",
   "metadata": {
    "trusted": true,
    "id": "SiRmHPl8VqAd",
    "colab_type": "code",
    "colab": {}
   },
   "source": [
    "# и убедиться что ни чего не пропустил)\n",
    "len(answers)"
   ],
   "execution_count": 67,
   "outputs": [
    {
     "data": {
      "text/plain": "27"
     },
     "execution_count": 67,
     "metadata": {},
     "output_type": "execute_result"
    }
   ]
  },
  {
   "cell_type": "code",
   "metadata": {
    "trusted": true,
    "id": "uCfuTkRbVqAg",
    "colab_type": "code",
    "colab": {}
   },
   "source": [
    ""
   ],
   "execution_count": 67,
   "outputs": []
  },
  {
   "cell_type": "code",
   "metadata": {
    "trusted": true,
    "id": "Vwx3NrkSVqAl",
    "colab_type": "code",
    "colab": {}
   },
   "source": [
    ""
   ],
   "execution_count": 67,
   "outputs": []
  }
 ]
}