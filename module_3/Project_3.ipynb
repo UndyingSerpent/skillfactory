{
 "cells": [
  {
   "cell_type": "markdown",
   "metadata": {
    "collapsed": true,
    "pycharm": {
     "name": "#%% md\n"
    }
   },
   "source": [
    "Будем работать с датасетом, содержащим сведения о 40 000 ресторанах Европы,\n",
    "а модель, которую будем обучать, должна будет предсказывать рейтинг ресторана\n",
    "по данным сайта TripAdvisor на основе имеющихся в датасете данных."
   ]
  },
  {
   "cell_type": "markdown",
   "source": [
    "Первоначальная версия датасета состоит из десяти столбцов, содержащих следующую информацию:\n",
    "\n",
    "- Restaurant_id — идентификационный номер ресторана / сети ресторанов;\n",
    "- City — город, в котором находится ресторан;\n",
    "- Cuisine Style — кухня или кухни, к которым можно отнести блюда, предлагаемые в ресторане;\n",
    "- Ranking — место, которое занимает данный ресторан среди всех ресторанов своего города;\n",
    "- Rating — рейтинг ресторана по данным TripAdvisor (именно это значение должна будет предсказывать модель);\n",
    "- Price Range — диапазон цен в ресторане;\n",
    "- Number of Reviews — количество отзывов о ресторане;\n",
    "- Reviews — данные о двух отзывах, которые отображаются на сайте ресторана;\n",
    "- URL_TA — URL страницы ресторана на TripAdvisor;\n",
    "- ID_TA — идентификатор ресторана в базе данных TripAdvisor."
   ],
   "metadata": {
    "collapsed": false,
    "pycharm": {
     "name": "#%% md\n"
    }
   }
  },
  {
   "cell_type": "code",
   "execution_count": 222,
   "outputs": [],
   "source": [
    "# import section\n",
    "import pandas as pd\n",
    "import numpy as np\n",
    "import ast\n",
    "import matplotlib.pyplot as plt\n",
    "import seaborn as sns\n",
    "\n"
   ],
   "metadata": {
    "collapsed": false,
    "pycharm": {
     "name": "#%%\n"
    }
   }
  },
  {
   "cell_type": "code",
   "execution_count": 223,
   "outputs": [],
   "source": [
    "#display.[max_categories, max_columns, max_colwidth, max_info_columns, max_info_rows, max_rows, min_rows]\n",
    "pd.set_option('display.max_rows', 50) # показывать указанное количество строк\n",
    "pd.set_option('display.max_columns', 50) # показывать указанное количество колонок"
   ],
   "metadata": {
    "collapsed": false,
    "pycharm": {
     "name": "#%%\n"
    }
   }
  },
  {
   "cell_type": "code",
   "execution_count": 224,
   "outputs": [],
   "source": [
    "df = pd.read_csv('main_task.csv')"
   ],
   "metadata": {
    "collapsed": false,
    "pycharm": {
     "name": "#%%\n"
    }
   }
  },
  {
   "cell_type": "code",
   "execution_count": 225,
   "outputs": [
    {
     "name": "stdout",
     "output_type": "stream",
     "text": [
      "<class 'pandas.core.frame.DataFrame'>\n",
      "RangeIndex: 40000 entries, 0 to 39999\n",
      "Data columns (total 10 columns):\n",
      " #   Column             Non-Null Count  Dtype  \n",
      "---  ------             --------------  -----  \n",
      " 0   Restaurant_id      40000 non-null  object \n",
      " 1   City               40000 non-null  object \n",
      " 2   Cuisine Style      30717 non-null  object \n",
      " 3   Ranking            40000 non-null  float64\n",
      " 4   Rating             40000 non-null  float64\n",
      " 5   Price Range        26114 non-null  object \n",
      " 6   Number of Reviews  37457 non-null  float64\n",
      " 7   Reviews            40000 non-null  object \n",
      " 8   URL_TA             40000 non-null  object \n",
      " 9   ID_TA              40000 non-null  object \n",
      "dtypes: float64(3), object(7)\n",
      "memory usage: 3.1+ MB\n"
     ]
    }
   ],
   "source": [
    "df.info()"
   ],
   "metadata": {
    "collapsed": false,
    "pycharm": {
     "name": "#%%\n"
    }
   }
  },
  {
   "cell_type": "code",
   "execution_count": 226,
   "outputs": [
    {
     "data": {
      "text/plain": "  Restaurant_id       City                                      Cuisine Style  \\\n0       id_5569      Paris            ['European', 'French', 'International']   \n1       id_1535  Stockholm                                                NaN   \n2        id_352     London  ['Japanese', 'Sushi', 'Asian', 'Grill', 'Veget...   \n3       id_3456     Berlin                                                NaN   \n4        id_615     Munich  ['German', 'Central European', 'Vegetarian Fri...   \n\n   Ranking  Rating Price Range  Number of Reviews  \\\n0   5570.0     3.5    $$ - $$$              194.0   \n1   1537.0     4.0         NaN               10.0   \n2    353.0     4.5        $$$$              688.0   \n3   3458.0     5.0         NaN                3.0   \n4    621.0     4.0    $$ - $$$               84.0   \n\n                                             Reviews  \\\n0  [['Good food at your doorstep', 'A good hotel ...   \n1  [['Unique cuisine', 'Delicious Nepalese food']...   \n2  [['Catch up with friends', 'Not exceptional'],...   \n3                                           [[], []]   \n4  [['Best place to try a Bavarian food', 'Nice b...   \n\n                                              URL_TA     ID_TA  \n0  /Restaurant_Review-g187147-d1912643-Reviews-R_...  d1912643  \n1  /Restaurant_Review-g189852-d7992032-Reviews-Bu...  d7992032  \n2  /Restaurant_Review-g186338-d8632781-Reviews-RO...  d8632781  \n3  /Restaurant_Review-g187323-d1358776-Reviews-Es...  d1358776  \n4  /Restaurant_Review-g187309-d6864963-Reviews-Au...  d6864963  ",
      "text/html": "<div>\n<style scoped>\n    .dataframe tbody tr th:only-of-type {\n        vertical-align: middle;\n    }\n\n    .dataframe tbody tr th {\n        vertical-align: top;\n    }\n\n    .dataframe thead th {\n        text-align: right;\n    }\n</style>\n<table border=\"1\" class=\"dataframe\">\n  <thead>\n    <tr style=\"text-align: right;\">\n      <th></th>\n      <th>Restaurant_id</th>\n      <th>City</th>\n      <th>Cuisine Style</th>\n      <th>Ranking</th>\n      <th>Rating</th>\n      <th>Price Range</th>\n      <th>Number of Reviews</th>\n      <th>Reviews</th>\n      <th>URL_TA</th>\n      <th>ID_TA</th>\n    </tr>\n  </thead>\n  <tbody>\n    <tr>\n      <th>0</th>\n      <td>id_5569</td>\n      <td>Paris</td>\n      <td>['European', 'French', 'International']</td>\n      <td>5570.0</td>\n      <td>3.5</td>\n      <td>$$ - $$$</td>\n      <td>194.0</td>\n      <td>[['Good food at your doorstep', 'A good hotel ...</td>\n      <td>/Restaurant_Review-g187147-d1912643-Reviews-R_...</td>\n      <td>d1912643</td>\n    </tr>\n    <tr>\n      <th>1</th>\n      <td>id_1535</td>\n      <td>Stockholm</td>\n      <td>NaN</td>\n      <td>1537.0</td>\n      <td>4.0</td>\n      <td>NaN</td>\n      <td>10.0</td>\n      <td>[['Unique cuisine', 'Delicious Nepalese food']...</td>\n      <td>/Restaurant_Review-g189852-d7992032-Reviews-Bu...</td>\n      <td>d7992032</td>\n    </tr>\n    <tr>\n      <th>2</th>\n      <td>id_352</td>\n      <td>London</td>\n      <td>['Japanese', 'Sushi', 'Asian', 'Grill', 'Veget...</td>\n      <td>353.0</td>\n      <td>4.5</td>\n      <td>$$$$</td>\n      <td>688.0</td>\n      <td>[['Catch up with friends', 'Not exceptional'],...</td>\n      <td>/Restaurant_Review-g186338-d8632781-Reviews-RO...</td>\n      <td>d8632781</td>\n    </tr>\n    <tr>\n      <th>3</th>\n      <td>id_3456</td>\n      <td>Berlin</td>\n      <td>NaN</td>\n      <td>3458.0</td>\n      <td>5.0</td>\n      <td>NaN</td>\n      <td>3.0</td>\n      <td>[[], []]</td>\n      <td>/Restaurant_Review-g187323-d1358776-Reviews-Es...</td>\n      <td>d1358776</td>\n    </tr>\n    <tr>\n      <th>4</th>\n      <td>id_615</td>\n      <td>Munich</td>\n      <td>['German', 'Central European', 'Vegetarian Fri...</td>\n      <td>621.0</td>\n      <td>4.0</td>\n      <td>$$ - $$$</td>\n      <td>84.0</td>\n      <td>[['Best place to try a Bavarian food', 'Nice b...</td>\n      <td>/Restaurant_Review-g187309-d6864963-Reviews-Au...</td>\n      <td>d6864963</td>\n    </tr>\n  </tbody>\n</table>\n</div>"
     },
     "execution_count": 226,
     "metadata": {},
     "output_type": "execute_result"
    }
   ],
   "source": [
    "df.head()"
   ],
   "metadata": {
    "collapsed": false,
    "pycharm": {
     "name": "#%%\n"
    }
   }
  },
  {
   "cell_type": "code",
   "execution_count": 227,
   "outputs": [],
   "source": [
    "#ToDo Очистка данных\n",
    "# Ваш код по очистке данных и генерации новых признаков\n",
    "# При необходимости добавьте ячейки"
   ],
   "metadata": {
    "collapsed": false,
    "pycharm": {
     "name": "#%%\n"
    }
   }
  },
  {
   "cell_type": "code",
   "execution_count": 228,
   "outputs": [
    {
     "data": {
      "text/plain": "      Restaurant_id      City  \\\n8           id_2690    Vienna   \n21          id_5844    Madrid   \n32          id_1327  Budapest   \n102         id_1409  Budapest   \n108         id_2047    Prague   \n...             ...       ...   \n39965       id_5720      Rome   \n39972       id_2009    Prague   \n39986       id_7274    Madrid   \n39988       id_4968    Berlin   \n39989       id_8887    London   \n\n                                           Cuisine Style  Ranking  Rating  \\\n8                                                    NaN   2692.0     4.0   \n21                                                   NaN   5847.0     4.0   \n32                                                   NaN   1328.0     5.0   \n102                  ['French', 'European', 'Hungarian']   1410.0     5.0   \n108                         ['Italian', 'Mediterranean']   2050.0     5.0   \n...                                                  ...      ...     ...   \n39965                                                NaN   5722.0     5.0   \n39972  ['Cafe', 'Delicatessen', 'Healthy', 'Wine Bar'...   2012.0     5.0   \n39986                                                NaN   7279.0     3.0   \n39988                                                NaN   4970.0     4.0   \n39989                                  ['International']   8896.0     5.0   \n\n      Price Range  Number of Reviews  \\\n8             NaN                NaN   \n21            NaN                NaN   \n32            NaN                NaN   \n102           NaN                NaN   \n108      $$ - $$$                NaN   \n...           ...                ...   \n39965         NaN                NaN   \n39972           $                NaN   \n39986         NaN                NaN   \n39988         NaN                NaN   \n39989         NaN                NaN   \n\n                                                 Reviews  \\\n8                                               [[], []]   \n21                                              [[], []]   \n32     [['Absolutely amazing, tasty, fresh, cheap Ch....   \n102                                             [[], []]   \n108                                             [[], []]   \n...                                                  ...   \n39965                                           [[], []]   \n39972           [['Personal expirence'], ['10/27/2017']]   \n39986                                           [[], []]   \n39988                                           [[], []]   \n39989           [['I love this place!'], ['08/24/2015']]   \n\n                                                  URL_TA      ID_TA  \n8      /Restaurant_Review-g190454-d12845029-Reviews-G...  d12845029  \n21     /Restaurant_Review-g187514-d10058810-Reviews-B...  d10058810  \n32     /Restaurant_Review-g274887-d8791087-Reviews-Bu...   d8791087  \n102    /Restaurant_Review-g274887-d13197631-Reviews-L...  d13197631  \n108    /Restaurant_Review-g274707-d12243659-Reviews-T...  d12243659  \n...                                                  ...        ...  \n39965  /Restaurant_Review-g187791-d793376-Reviews-Wes...    d793376  \n39972  /Restaurant_Review-g274707-d12981295-Reviews-M...  d12981295  \n39986  /Restaurant_Review-g187514-d12182212-Reviews-C...  d12182212  \n39988  /Restaurant_Review-g187323-d7761701-Reviews-Ar...   d7761701  \n39989  /Restaurant_Review-g186338-d5550626-Reviews-Th...   d5550626  \n\n[2543 rows x 10 columns]",
      "text/html": "<div>\n<style scoped>\n    .dataframe tbody tr th:only-of-type {\n        vertical-align: middle;\n    }\n\n    .dataframe tbody tr th {\n        vertical-align: top;\n    }\n\n    .dataframe thead th {\n        text-align: right;\n    }\n</style>\n<table border=\"1\" class=\"dataframe\">\n  <thead>\n    <tr style=\"text-align: right;\">\n      <th></th>\n      <th>Restaurant_id</th>\n      <th>City</th>\n      <th>Cuisine Style</th>\n      <th>Ranking</th>\n      <th>Rating</th>\n      <th>Price Range</th>\n      <th>Number of Reviews</th>\n      <th>Reviews</th>\n      <th>URL_TA</th>\n      <th>ID_TA</th>\n    </tr>\n  </thead>\n  <tbody>\n    <tr>\n      <th>8</th>\n      <td>id_2690</td>\n      <td>Vienna</td>\n      <td>NaN</td>\n      <td>2692.0</td>\n      <td>4.0</td>\n      <td>NaN</td>\n      <td>NaN</td>\n      <td>[[], []]</td>\n      <td>/Restaurant_Review-g190454-d12845029-Reviews-G...</td>\n      <td>d12845029</td>\n    </tr>\n    <tr>\n      <th>21</th>\n      <td>id_5844</td>\n      <td>Madrid</td>\n      <td>NaN</td>\n      <td>5847.0</td>\n      <td>4.0</td>\n      <td>NaN</td>\n      <td>NaN</td>\n      <td>[[], []]</td>\n      <td>/Restaurant_Review-g187514-d10058810-Reviews-B...</td>\n      <td>d10058810</td>\n    </tr>\n    <tr>\n      <th>32</th>\n      <td>id_1327</td>\n      <td>Budapest</td>\n      <td>NaN</td>\n      <td>1328.0</td>\n      <td>5.0</td>\n      <td>NaN</td>\n      <td>NaN</td>\n      <td>[['Absolutely amazing, tasty, fresh, cheap Ch....</td>\n      <td>/Restaurant_Review-g274887-d8791087-Reviews-Bu...</td>\n      <td>d8791087</td>\n    </tr>\n    <tr>\n      <th>102</th>\n      <td>id_1409</td>\n      <td>Budapest</td>\n      <td>['French', 'European', 'Hungarian']</td>\n      <td>1410.0</td>\n      <td>5.0</td>\n      <td>NaN</td>\n      <td>NaN</td>\n      <td>[[], []]</td>\n      <td>/Restaurant_Review-g274887-d13197631-Reviews-L...</td>\n      <td>d13197631</td>\n    </tr>\n    <tr>\n      <th>108</th>\n      <td>id_2047</td>\n      <td>Prague</td>\n      <td>['Italian', 'Mediterranean']</td>\n      <td>2050.0</td>\n      <td>5.0</td>\n      <td>$$ - $$$</td>\n      <td>NaN</td>\n      <td>[[], []]</td>\n      <td>/Restaurant_Review-g274707-d12243659-Reviews-T...</td>\n      <td>d12243659</td>\n    </tr>\n    <tr>\n      <th>...</th>\n      <td>...</td>\n      <td>...</td>\n      <td>...</td>\n      <td>...</td>\n      <td>...</td>\n      <td>...</td>\n      <td>...</td>\n      <td>...</td>\n      <td>...</td>\n      <td>...</td>\n    </tr>\n    <tr>\n      <th>39965</th>\n      <td>id_5720</td>\n      <td>Rome</td>\n      <td>NaN</td>\n      <td>5722.0</td>\n      <td>5.0</td>\n      <td>NaN</td>\n      <td>NaN</td>\n      <td>[[], []]</td>\n      <td>/Restaurant_Review-g187791-d793376-Reviews-Wes...</td>\n      <td>d793376</td>\n    </tr>\n    <tr>\n      <th>39972</th>\n      <td>id_2009</td>\n      <td>Prague</td>\n      <td>['Cafe', 'Delicatessen', 'Healthy', 'Wine Bar'...</td>\n      <td>2012.0</td>\n      <td>5.0</td>\n      <td>$</td>\n      <td>NaN</td>\n      <td>[['Personal expirence'], ['10/27/2017']]</td>\n      <td>/Restaurant_Review-g274707-d12981295-Reviews-M...</td>\n      <td>d12981295</td>\n    </tr>\n    <tr>\n      <th>39986</th>\n      <td>id_7274</td>\n      <td>Madrid</td>\n      <td>NaN</td>\n      <td>7279.0</td>\n      <td>3.0</td>\n      <td>NaN</td>\n      <td>NaN</td>\n      <td>[[], []]</td>\n      <td>/Restaurant_Review-g187514-d12182212-Reviews-C...</td>\n      <td>d12182212</td>\n    </tr>\n    <tr>\n      <th>39988</th>\n      <td>id_4968</td>\n      <td>Berlin</td>\n      <td>NaN</td>\n      <td>4970.0</td>\n      <td>4.0</td>\n      <td>NaN</td>\n      <td>NaN</td>\n      <td>[[], []]</td>\n      <td>/Restaurant_Review-g187323-d7761701-Reviews-Ar...</td>\n      <td>d7761701</td>\n    </tr>\n    <tr>\n      <th>39989</th>\n      <td>id_8887</td>\n      <td>London</td>\n      <td>['International']</td>\n      <td>8896.0</td>\n      <td>5.0</td>\n      <td>NaN</td>\n      <td>NaN</td>\n      <td>[['I love this place!'], ['08/24/2015']]</td>\n      <td>/Restaurant_Review-g186338-d5550626-Reviews-Th...</td>\n      <td>d5550626</td>\n    </tr>\n  </tbody>\n</table>\n<p>2543 rows × 10 columns</p>\n</div>"
     },
     "execution_count": 228,
     "metadata": {},
     "output_type": "execute_result"
    }
   ],
   "source": [
    "df[df['Number of Reviews'].isna()]"
   ],
   "metadata": {
    "collapsed": false,
    "pycharm": {
     "name": "#%%\n"
    }
   }
  },
  {
   "cell_type": "code",
   "execution_count": 229,
   "outputs": [],
   "source": [
    "df_numberreviews = df.groupby('City')['Number of Reviews'].median()"
   ],
   "metadata": {
    "collapsed": false,
    "pycharm": {
     "name": "#%%\n"
    }
   }
  },
  {
   "cell_type": "code",
   "execution_count": 229,
   "outputs": [],
   "source": [],
   "metadata": {
    "collapsed": false,
    "pycharm": {
     "name": "#%%\n"
    }
   }
  },
  {
   "cell_type": "code",
   "execution_count": 230,
   "outputs": [],
   "source": [
    "def fill_number_review(row):\n",
    "    if pd.isnull(row['Number of Reviews']):\n",
    "        return df_numberreviews[row['City']]\n",
    "    return row['Number of Reviews']"
   ],
   "metadata": {
    "collapsed": false,
    "pycharm": {
     "name": "#%%\n"
    }
   }
  },
  {
   "cell_type": "code",
   "execution_count": 231,
   "outputs": [],
   "source": [
    "df['Number of Reviews'] = df.apply(fill_number_review, axis=1)"
   ],
   "metadata": {
    "collapsed": false,
    "pycharm": {
     "name": "#%%\n"
    }
   }
  },
  {
   "cell_type": "code",
   "execution_count": 231,
   "outputs": [],
   "source": [],
   "metadata": {
    "collapsed": false,
    "pycharm": {
     "name": "#%%\n"
    }
   }
  },
  {
   "cell_type": "code",
   "execution_count": 232,
   "outputs": [],
   "source": [
    "# Посчитаем в скольких гордах представлен ресторан\n",
    "city_grp = pd.DataFrame(df.groupby('Restaurant_id')['City'].count())"
   ],
   "metadata": {
    "collapsed": false,
    "pycharm": {
     "name": "#%%\n"
    }
   }
  },
  {
   "cell_type": "code",
   "execution_count": 232,
   "outputs": [],
   "source": [],
   "metadata": {
    "collapsed": false,
    "pycharm": {
     "name": "#%%\n"
    }
   }
  },
  {
   "cell_type": "code",
   "execution_count": 233,
   "outputs": [],
   "source": [
    "city_grp.reset_index(inplace=True)"
   ],
   "metadata": {
    "collapsed": false,
    "pycharm": {
     "name": "#%%\n"
    }
   }
  },
  {
   "cell_type": "code",
   "execution_count": 234,
   "outputs": [],
   "source": [
    "city_grp.columns = ['Restaurant_id', 'CityCnt']"
   ],
   "metadata": {
    "collapsed": false,
    "pycharm": {
     "name": "#%%\n"
    }
   }
  },
  {
   "cell_type": "code",
   "execution_count": 235,
   "outputs": [],
   "source": [
    "df = df.merge(city_grp, how='left', on='Restaurant_id')"
   ],
   "metadata": {
    "collapsed": false,
    "pycharm": {
     "name": "#%%\n"
    }
   }
  },
  {
   "cell_type": "code",
   "execution_count": 236,
   "outputs": [],
   "source": [
    "# Посчитаем сколько ресторонов в городе"
   ],
   "metadata": {
    "collapsed": false,
    "pycharm": {
     "name": "#%%\n"
    }
   }
  },
  {
   "cell_type": "code",
   "execution_count": 237,
   "outputs": [],
   "source": [
    "RestCnt = pd.DataFrame(df.groupby('City')['ID_TA'].count())"
   ],
   "metadata": {
    "collapsed": false,
    "pycharm": {
     "name": "#%%\n"
    }
   }
  },
  {
   "cell_type": "code",
   "execution_count": 238,
   "outputs": [],
   "source": [
    "RestCnt.reset_index(inplace=True)"
   ],
   "metadata": {
    "collapsed": false,
    "pycharm": {
     "name": "#%%\n"
    }
   }
  },
  {
   "cell_type": "code",
   "execution_count": 239,
   "outputs": [],
   "source": [
    "RestCnt.columns = ['City', 'RestCnt']"
   ],
   "metadata": {
    "collapsed": false,
    "pycharm": {
     "name": "#%%\n"
    }
   }
  },
  {
   "cell_type": "code",
   "execution_count": 240,
   "outputs": [],
   "source": [
    "df = df.merge(RestCnt, how='left', on='City')"
   ],
   "metadata": {
    "collapsed": false,
    "pycharm": {
     "name": "#%%\n"
    }
   }
  },
  {
   "cell_type": "code",
   "execution_count": 240,
   "outputs": [],
   "source": [],
   "metadata": {
    "collapsed": false,
    "pycharm": {
     "name": "#%%\n"
    }
   }
  },
  {
   "cell_type": "code",
   "execution_count": 241,
   "outputs": [
    {
     "data": {
      "text/plain": "London        5757\nParis         4897\nMadrid        3108\nBarcelona     2734\nBerlin        2155\nMilan         2133\nRome          2078\nPrague        1443\nLisbon        1300\nVienna        1166\nAmsterdam     1086\nBrussels      1060\nHamburg        949\nMunich         893\nLyon           892\nStockholm      820\nBudapest       816\nWarsaw         727\nDublin         673\nCopenhagen     659\nAthens         628\nEdinburgh      596\nZurich         538\nOporto         513\nGeneva         481\nKrakow         443\nOslo           385\nHelsinki       376\nBratislava     301\nLuxembourg     210\nLjubljana      183\nName: City, dtype: int64"
     },
     "execution_count": 241,
     "metadata": {},
     "output_type": "execute_result"
    }
   ],
   "source": [
    "df['City'].value_counts()"
   ],
   "metadata": {
    "collapsed": false,
    "pycharm": {
     "name": "#%%\n"
    }
   }
  },
  {
   "cell_type": "code",
   "execution_count": 242,
   "outputs": [
    {
     "data": {
      "text/plain": "2734.0"
     },
     "execution_count": 242,
     "metadata": {},
     "output_type": "execute_result"
    }
   ],
   "source": [
    "np.percentile(list(df['City'].value_counts()),90)"
   ],
   "metadata": {
    "collapsed": false,
    "pycharm": {
     "name": "#%%\n"
    }
   }
  },
  {
   "cell_type": "code",
   "execution_count": 243,
   "outputs": [
    {
     "data": {
      "text/plain": "London       5757\nParis        4897\nMadrid       3108\nBarcelona    2734\nBerlin       2155\nName: City, dtype: int64"
     },
     "execution_count": 243,
     "metadata": {},
     "output_type": "execute_result"
    }
   ],
   "source": [
    "df['City'].value_counts().head(5)"
   ],
   "metadata": {
    "collapsed": false,
    "pycharm": {
     "name": "#%%\n"
    }
   }
  },
  {
   "cell_type": "code",
   "execution_count": 244,
   "outputs": [
    {
     "data": {
      "text/plain": "31"
     },
     "execution_count": 244,
     "metadata": {},
     "output_type": "execute_result"
    }
   ],
   "source": [
    "len(df['City'].value_counts())"
   ],
   "metadata": {
    "collapsed": false,
    "pycharm": {
     "name": "#%%\n"
    }
   }
  },
  {
   "cell_type": "code",
   "execution_count": 245,
   "outputs": [
    {
     "data": {
      "text/plain": "['Italian']                                                                                                                    1032\n['French']                                                                                                                      805\n['Spanish']                                                                                                                     695\n['French', 'European']                                                                                                          405\n['Cafe']                                                                                                                        403\n                                                                                                                               ... \n['Bar', 'Cafe', 'Pub', 'Wine Bar', 'Street Food']                                                                                 1\n['Italian', 'International', 'Mediterranean', 'Vegan Options', 'Vegetarian Friendly', 'Gluten Free Options']                      1\n['Mediterranean', 'European', 'Delicatessen', 'Portuguese', 'Vegan Options']                                                      1\n['International', 'Mediterranean', 'European', 'Portuguese', 'Vegetarian Friendly', 'Vegan Options', 'Gluten Free Options']       1\n['European', 'Russian', 'Czech']                                                                                                  1\nName: Cuisine Style, Length: 9007, dtype: int64"
     },
     "execution_count": 245,
     "metadata": {},
     "output_type": "execute_result"
    }
   ],
   "source": [
    "df['Cuisine Style'].value_counts()"
   ],
   "metadata": {
    "collapsed": false,
    "pycharm": {
     "name": "#%%\n"
    }
   }
  },
  {
   "cell_type": "code",
   "execution_count": 246,
   "outputs": [
    {
     "data": {
      "text/plain": "$$ - $$$    18412\n$            6279\n$$$$         1423\nName: Price Range, dtype: int64"
     },
     "execution_count": 246,
     "metadata": {},
     "output_type": "execute_result"
    }
   ],
   "source": [
    "df['Price Range'].value_counts()"
   ],
   "metadata": {
    "collapsed": false,
    "pycharm": {
     "name": "#%%\n"
    }
   }
  },
  {
   "cell_type": "code",
   "execution_count": 247,
   "outputs": [],
   "source": [
    "# Преобразуем ценовой сегмент в ординарный тип\n",
    "prcrng = {'$':'1', '$$ - $$$':'2', '$$$$':'3'}"
   ],
   "metadata": {
    "collapsed": false,
    "pycharm": {
     "name": "#%%\n"
    }
   }
  },
  {
   "cell_type": "code",
   "execution_count": 248,
   "outputs": [],
   "source": [
    "df['PriceRNG'] = df['Price Range'].map(prcrng)"
   ],
   "metadata": {
    "collapsed": false,
    "pycharm": {
     "name": "#%%\n"
    }
   }
  },
  {
   "cell_type": "code",
   "execution_count": 248,
   "outputs": [],
   "source": [],
   "metadata": {
    "collapsed": false,
    "pycharm": {
     "name": "#%%\n"
    }
   }
  },
  {
   "cell_type": "code",
   "execution_count": 249,
   "outputs": [
    {
     "data": {
      "text/plain": "18412"
     },
     "execution_count": 249,
     "metadata": {},
     "output_type": "execute_result"
    }
   ],
   "source": [
    "# Сколько ресторанов относятся к среднему ценовому сегменту?\n",
    "len(df[df['Price Range']=='$$ - $$$'])"
   ],
   "metadata": {
    "collapsed": false,
    "pycharm": {
     "name": "#%%\n"
    }
   }
  },
  {
   "cell_type": "code",
   "execution_count": 250,
   "outputs": [],
   "source": [
    "# Заполним пропуски в типах кохонь\n",
    "df['Cuisine Style'].fillna('None', inplace=True)"
   ],
   "metadata": {
    "collapsed": false,
    "pycharm": {
     "name": "#%%\n"
    }
   }
  },
  {
   "cell_type": "code",
   "execution_count": 251,
   "outputs": [],
   "source": [
    "# Создадим столбец со списком из типов кухонь\n",
    "df['CS'] = df['Cuisine Style'].apply(lambda style: ast.literal_eval(style))"
   ],
   "metadata": {
    "collapsed": false,
    "pycharm": {
     "name": "#%%\n"
    }
   }
  },
  {
   "cell_type": "code",
   "execution_count": 252,
   "outputs": [],
   "source": [
    "# Взорвем, что бы посчитать количество типов кухонь и найти кухню, представленную в наибольшем кол-ве ресторанов\n",
    "df_explode = df.explode('CS')"
   ],
   "metadata": {
    "collapsed": false,
    "pycharm": {
     "name": "#%%\n"
    }
   }
  },
  {
   "cell_type": "code",
   "execution_count": 253,
   "outputs": [
    {
     "data": {
      "text/plain": "      Restaurant_id       City  \\\n0           id_5569      Paris   \n0           id_5569      Paris   \n0           id_5569      Paris   \n1           id_1535  Stockholm   \n2            id_352     London   \n...             ...        ...   \n39998        id_640     Warsaw   \n39998        id_640     Warsaw   \n39998        id_640     Warsaw   \n39998        id_640     Warsaw   \n39999       id_4824      Milan   \n\n                                           Cuisine Style  Ranking  Rating  \\\n0                ['European', 'French', 'International']   5570.0     3.5   \n0                ['European', 'French', 'International']   5570.0     3.5   \n0                ['European', 'French', 'International']   5570.0     3.5   \n1                                                   None   1537.0     4.0   \n2      ['Japanese', 'Sushi', 'Asian', 'Grill', 'Veget...    353.0     4.5   \n...                                                  ...      ...     ...   \n39998  ['Polish', 'European', 'Eastern European', 'Ce...    641.0     4.0   \n39998  ['Polish', 'European', 'Eastern European', 'Ce...    641.0     4.0   \n39998  ['Polish', 'European', 'Eastern European', 'Ce...    641.0     4.0   \n39998  ['Polish', 'European', 'Eastern European', 'Ce...    641.0     4.0   \n39999                                        ['Spanish']   4827.0     3.0   \n\n      Price Range  Number of Reviews  \\\n0        $$ - $$$              194.0   \n0        $$ - $$$              194.0   \n0        $$ - $$$              194.0   \n1             NaN               10.0   \n2            $$$$              688.0   \n...           ...                ...   \n39998    $$ - $$$               70.0   \n39998    $$ - $$$               70.0   \n39998    $$ - $$$               70.0   \n39998    $$ - $$$               70.0   \n39999    $$ - $$$              260.0   \n\n                                                 Reviews  \\\n0      [['Good food at your doorstep', 'A good hotel ...   \n0      [['Good food at your doorstep', 'A good hotel ...   \n0      [['Good food at your doorstep', 'A good hotel ...   \n1      [['Unique cuisine', 'Delicious Nepalese food']...   \n2      [['Catch up with friends', 'Not exceptional'],...   \n...                                                  ...   \n39998  [['Underground restaurant', 'Oldest Restaurant...   \n39998  [['Underground restaurant', 'Oldest Restaurant...   \n39998  [['Underground restaurant', 'Oldest Restaurant...   \n39998  [['Underground restaurant', 'Oldest Restaurant...   \n39999  [['Average', 'Nice an informal'], ['01/31/2016...   \n\n                                                  URL_TA     ID_TA  CityCnt  \\\n0      /Restaurant_Review-g187147-d1912643-Reviews-R_...  d1912643        3   \n0      /Restaurant_Review-g187147-d1912643-Reviews-R_...  d1912643        3   \n0      /Restaurant_Review-g187147-d1912643-Reviews-R_...  d1912643        3   \n1      /Restaurant_Review-g189852-d7992032-Reviews-Bu...  d7992032       10   \n2      /Restaurant_Review-g186338-d8632781-Reviews-RO...  d8632781        8   \n...                                                  ...       ...      ...   \n39998  /Restaurant_Review-g274856-d1100838-Reviews-Ho...  d1100838        8   \n39998  /Restaurant_Review-g274856-d1100838-Reviews-Ho...  d1100838        8   \n39998  /Restaurant_Review-g274856-d1100838-Reviews-Ho...  d1100838        8   \n39998  /Restaurant_Review-g274856-d1100838-Reviews-Ho...  d1100838        8   \n39999  /Restaurant_Review-g187849-d1109020-Reviews-Ta...  d1109020        4   \n\n       RestCnt PriceRNG                   CS  \n0         4897        2             European  \n0         4897        2               French  \n0         4897        2        International  \n1          820      NaN                 None  \n2         5757        3             Japanese  \n...        ...      ...                  ...  \n39998      727        2             European  \n39998      727        2     Eastern European  \n39998      727        2     Central European  \n39998      727        2  Vegetarian Friendly  \n39999     2133        2              Spanish  \n\n[104896 rows x 14 columns]",
      "text/html": "<div>\n<style scoped>\n    .dataframe tbody tr th:only-of-type {\n        vertical-align: middle;\n    }\n\n    .dataframe tbody tr th {\n        vertical-align: top;\n    }\n\n    .dataframe thead th {\n        text-align: right;\n    }\n</style>\n<table border=\"1\" class=\"dataframe\">\n  <thead>\n    <tr style=\"text-align: right;\">\n      <th></th>\n      <th>Restaurant_id</th>\n      <th>City</th>\n      <th>Cuisine Style</th>\n      <th>Ranking</th>\n      <th>Rating</th>\n      <th>Price Range</th>\n      <th>Number of Reviews</th>\n      <th>Reviews</th>\n      <th>URL_TA</th>\n      <th>ID_TA</th>\n      <th>CityCnt</th>\n      <th>RestCnt</th>\n      <th>PriceRNG</th>\n      <th>CS</th>\n    </tr>\n  </thead>\n  <tbody>\n    <tr>\n      <th>0</th>\n      <td>id_5569</td>\n      <td>Paris</td>\n      <td>['European', 'French', 'International']</td>\n      <td>5570.0</td>\n      <td>3.5</td>\n      <td>$$ - $$$</td>\n      <td>194.0</td>\n      <td>[['Good food at your doorstep', 'A good hotel ...</td>\n      <td>/Restaurant_Review-g187147-d1912643-Reviews-R_...</td>\n      <td>d1912643</td>\n      <td>3</td>\n      <td>4897</td>\n      <td>2</td>\n      <td>European</td>\n    </tr>\n    <tr>\n      <th>0</th>\n      <td>id_5569</td>\n      <td>Paris</td>\n      <td>['European', 'French', 'International']</td>\n      <td>5570.0</td>\n      <td>3.5</td>\n      <td>$$ - $$$</td>\n      <td>194.0</td>\n      <td>[['Good food at your doorstep', 'A good hotel ...</td>\n      <td>/Restaurant_Review-g187147-d1912643-Reviews-R_...</td>\n      <td>d1912643</td>\n      <td>3</td>\n      <td>4897</td>\n      <td>2</td>\n      <td>French</td>\n    </tr>\n    <tr>\n      <th>0</th>\n      <td>id_5569</td>\n      <td>Paris</td>\n      <td>['European', 'French', 'International']</td>\n      <td>5570.0</td>\n      <td>3.5</td>\n      <td>$$ - $$$</td>\n      <td>194.0</td>\n      <td>[['Good food at your doorstep', 'A good hotel ...</td>\n      <td>/Restaurant_Review-g187147-d1912643-Reviews-R_...</td>\n      <td>d1912643</td>\n      <td>3</td>\n      <td>4897</td>\n      <td>2</td>\n      <td>International</td>\n    </tr>\n    <tr>\n      <th>1</th>\n      <td>id_1535</td>\n      <td>Stockholm</td>\n      <td>None</td>\n      <td>1537.0</td>\n      <td>4.0</td>\n      <td>NaN</td>\n      <td>10.0</td>\n      <td>[['Unique cuisine', 'Delicious Nepalese food']...</td>\n      <td>/Restaurant_Review-g189852-d7992032-Reviews-Bu...</td>\n      <td>d7992032</td>\n      <td>10</td>\n      <td>820</td>\n      <td>NaN</td>\n      <td>None</td>\n    </tr>\n    <tr>\n      <th>2</th>\n      <td>id_352</td>\n      <td>London</td>\n      <td>['Japanese', 'Sushi', 'Asian', 'Grill', 'Veget...</td>\n      <td>353.0</td>\n      <td>4.5</td>\n      <td>$$$$</td>\n      <td>688.0</td>\n      <td>[['Catch up with friends', 'Not exceptional'],...</td>\n      <td>/Restaurant_Review-g186338-d8632781-Reviews-RO...</td>\n      <td>d8632781</td>\n      <td>8</td>\n      <td>5757</td>\n      <td>3</td>\n      <td>Japanese</td>\n    </tr>\n    <tr>\n      <th>...</th>\n      <td>...</td>\n      <td>...</td>\n      <td>...</td>\n      <td>...</td>\n      <td>...</td>\n      <td>...</td>\n      <td>...</td>\n      <td>...</td>\n      <td>...</td>\n      <td>...</td>\n      <td>...</td>\n      <td>...</td>\n      <td>...</td>\n      <td>...</td>\n    </tr>\n    <tr>\n      <th>39998</th>\n      <td>id_640</td>\n      <td>Warsaw</td>\n      <td>['Polish', 'European', 'Eastern European', 'Ce...</td>\n      <td>641.0</td>\n      <td>4.0</td>\n      <td>$$ - $$$</td>\n      <td>70.0</td>\n      <td>[['Underground restaurant', 'Oldest Restaurant...</td>\n      <td>/Restaurant_Review-g274856-d1100838-Reviews-Ho...</td>\n      <td>d1100838</td>\n      <td>8</td>\n      <td>727</td>\n      <td>2</td>\n      <td>European</td>\n    </tr>\n    <tr>\n      <th>39998</th>\n      <td>id_640</td>\n      <td>Warsaw</td>\n      <td>['Polish', 'European', 'Eastern European', 'Ce...</td>\n      <td>641.0</td>\n      <td>4.0</td>\n      <td>$$ - $$$</td>\n      <td>70.0</td>\n      <td>[['Underground restaurant', 'Oldest Restaurant...</td>\n      <td>/Restaurant_Review-g274856-d1100838-Reviews-Ho...</td>\n      <td>d1100838</td>\n      <td>8</td>\n      <td>727</td>\n      <td>2</td>\n      <td>Eastern European</td>\n    </tr>\n    <tr>\n      <th>39998</th>\n      <td>id_640</td>\n      <td>Warsaw</td>\n      <td>['Polish', 'European', 'Eastern European', 'Ce...</td>\n      <td>641.0</td>\n      <td>4.0</td>\n      <td>$$ - $$$</td>\n      <td>70.0</td>\n      <td>[['Underground restaurant', 'Oldest Restaurant...</td>\n      <td>/Restaurant_Review-g274856-d1100838-Reviews-Ho...</td>\n      <td>d1100838</td>\n      <td>8</td>\n      <td>727</td>\n      <td>2</td>\n      <td>Central European</td>\n    </tr>\n    <tr>\n      <th>39998</th>\n      <td>id_640</td>\n      <td>Warsaw</td>\n      <td>['Polish', 'European', 'Eastern European', 'Ce...</td>\n      <td>641.0</td>\n      <td>4.0</td>\n      <td>$$ - $$$</td>\n      <td>70.0</td>\n      <td>[['Underground restaurant', 'Oldest Restaurant...</td>\n      <td>/Restaurant_Review-g274856-d1100838-Reviews-Ho...</td>\n      <td>d1100838</td>\n      <td>8</td>\n      <td>727</td>\n      <td>2</td>\n      <td>Vegetarian Friendly</td>\n    </tr>\n    <tr>\n      <th>39999</th>\n      <td>id_4824</td>\n      <td>Milan</td>\n      <td>['Spanish']</td>\n      <td>4827.0</td>\n      <td>3.0</td>\n      <td>$$ - $$$</td>\n      <td>260.0</td>\n      <td>[['Average', 'Nice an informal'], ['01/31/2016...</td>\n      <td>/Restaurant_Review-g187849-d1109020-Reviews-Ta...</td>\n      <td>d1109020</td>\n      <td>4</td>\n      <td>2133</td>\n      <td>2</td>\n      <td>Spanish</td>\n    </tr>\n  </tbody>\n</table>\n<p>104896 rows × 14 columns</p>\n</div>"
     },
     "execution_count": 253,
     "metadata": {},
     "output_type": "execute_result"
    }
   ],
   "source": [
    "df_explode"
   ],
   "metadata": {
    "collapsed": false,
    "pycharm": {
     "name": "#%%\n"
    }
   }
  },
  {
   "cell_type": "code",
   "execution_count": 254,
   "outputs": [
    {
     "data": {
      "text/plain": "Vegetarian Friendly    11189\nEuropean               10060\nMediterranean           6277\nItalian                 5964\nVegan Options           4486\n                       ...  \nBurmese                    1\nLatvian                    1\nSalvadoran                 1\nXinjiang                   1\nYunnan                     1\nName: CS, Length: 125, dtype: int64"
     },
     "execution_count": 254,
     "metadata": {},
     "output_type": "execute_result"
    }
   ],
   "source": [
    "df_explode['CS'].value_counts()"
   ],
   "metadata": {
    "collapsed": false,
    "pycharm": {
     "name": "#%%\n"
    }
   }
  },
  {
   "cell_type": "code",
   "execution_count": 255,
   "outputs": [
    {
     "data": {
      "text/plain": "2077.0000000000055"
     },
     "execution_count": 255,
     "metadata": {},
     "output_type": "execute_result"
    }
   ],
   "source": [
    "np.percentile(list(df_explode['CS'].value_counts()),90)"
   ],
   "metadata": {
    "collapsed": false,
    "pycharm": {
     "name": "#%%\n"
    }
   }
  },
  {
   "cell_type": "code",
   "execution_count": 256,
   "outputs": [
    {
     "data": {
      "text/plain": "Vegetarian Friendly    11189\nEuropean               10060\nMediterranean           6277\nItalian                 5964\nVegan Options           4486\nGluten Free Options     4113\nBar                     3297\nFrench                  3190\nAsian                   3011\nPizza                   2849\nSpanish                 2798\nPub                     2449\nCafe                    2325\nFast Food               1705\nBritish                 1595\nName: CS, dtype: int64"
     },
     "execution_count": 256,
     "metadata": {},
     "output_type": "execute_result"
    }
   ],
   "source": [
    "df_explode['CS'].value_counts().head(15)"
   ],
   "metadata": {
    "collapsed": false,
    "pycharm": {
     "name": "#%%\n"
    }
   }
  },
  {
   "cell_type": "code",
   "execution_count": 257,
   "outputs": [],
   "source": [
    "# Создадим столбец, с колиством кухонь в ресторане\n",
    "df['CS_Sum'] = df['CS'].str.len()\n"
   ],
   "metadata": {
    "collapsed": false,
    "pycharm": {
     "name": "#%%\n"
    }
   }
  },
  {
   "cell_type": "code",
   "execution_count": 257,
   "outputs": [],
   "source": [],
   "metadata": {
    "collapsed": false,
    "pycharm": {
     "name": "#%%\n"
    }
   }
  },
  {
   "cell_type": "code",
   "execution_count": 258,
   "outputs": [],
   "source": [
    "#DUMMY переменные"
   ],
   "metadata": {
    "collapsed": false,
    "pycharm": {
     "name": "#%%\n"
    }
   }
  },
  {
   "cell_type": "code",
   "execution_count": 258,
   "outputs": [],
   "source": [],
   "metadata": {
    "collapsed": false,
    "pycharm": {
     "name": "#%%\n"
    }
   }
  },
  {
   "cell_type": "code",
   "execution_count": 259,
   "outputs": [],
   "source": [
    "#Города"
   ],
   "metadata": {
    "collapsed": false,
    "pycharm": {
     "name": "#%%\n"
    }
   }
  },
  {
   "cell_type": "code",
   "execution_count": 259,
   "outputs": [],
   "source": [],
   "metadata": {
    "collapsed": false,
    "pycharm": {
     "name": "#%%\n"
    }
   }
  },
  {
   "cell_type": "code",
   "execution_count": 260,
   "outputs": [],
   "source": [
    "dummy_city = pd.get_dummies(df['City'])"
   ],
   "metadata": {
    "collapsed": false,
    "pycharm": {
     "name": "#%%\n"
    }
   }
  },
  {
   "cell_type": "code",
   "execution_count": 261,
   "outputs": [],
   "source": [
    "df = pd.concat([df, dummy_city], axis=1)"
   ],
   "metadata": {
    "collapsed": false,
    "pycharm": {
     "name": "#%%\n"
    }
   }
  },
  {
   "cell_type": "code",
   "execution_count": 262,
   "outputs": [
    {
     "name": "stdout",
     "output_type": "stream",
     "text": [
      "<class 'pandas.core.frame.DataFrame'>\n",
      "Int64Index: 40000 entries, 0 to 39999\n",
      "Data columns (total 46 columns):\n",
      " #   Column             Non-Null Count  Dtype  \n",
      "---  ------             --------------  -----  \n",
      " 0   Restaurant_id      40000 non-null  object \n",
      " 1   City               40000 non-null  object \n",
      " 2   Cuisine Style      40000 non-null  object \n",
      " 3   Ranking            40000 non-null  float64\n",
      " 4   Rating             40000 non-null  float64\n",
      " 5   Price Range        26114 non-null  object \n",
      " 6   Number of Reviews  40000 non-null  float64\n",
      " 7   Reviews            40000 non-null  object \n",
      " 8   URL_TA             40000 non-null  object \n",
      " 9   ID_TA              40000 non-null  object \n",
      " 10  CityCnt            40000 non-null  int64  \n",
      " 11  RestCnt            40000 non-null  int64  \n",
      " 12  PriceRNG           26114 non-null  object \n",
      " 13  CS                 30717 non-null  object \n",
      " 14  CS_Sum             30717 non-null  float64\n",
      " 15  Amsterdam          40000 non-null  uint8  \n",
      " 16  Athens             40000 non-null  uint8  \n",
      " 17  Barcelona          40000 non-null  uint8  \n",
      " 18  Berlin             40000 non-null  uint8  \n",
      " 19  Bratislava         40000 non-null  uint8  \n",
      " 20  Brussels           40000 non-null  uint8  \n",
      " 21  Budapest           40000 non-null  uint8  \n",
      " 22  Copenhagen         40000 non-null  uint8  \n",
      " 23  Dublin             40000 non-null  uint8  \n",
      " 24  Edinburgh          40000 non-null  uint8  \n",
      " 25  Geneva             40000 non-null  uint8  \n",
      " 26  Hamburg            40000 non-null  uint8  \n",
      " 27  Helsinki           40000 non-null  uint8  \n",
      " 28  Krakow             40000 non-null  uint8  \n",
      " 29  Lisbon             40000 non-null  uint8  \n",
      " 30  Ljubljana          40000 non-null  uint8  \n",
      " 31  London             40000 non-null  uint8  \n",
      " 32  Luxembourg         40000 non-null  uint8  \n",
      " 33  Lyon               40000 non-null  uint8  \n",
      " 34  Madrid             40000 non-null  uint8  \n",
      " 35  Milan              40000 non-null  uint8  \n",
      " 36  Munich             40000 non-null  uint8  \n",
      " 37  Oporto             40000 non-null  uint8  \n",
      " 38  Oslo               40000 non-null  uint8  \n",
      " 39  Paris              40000 non-null  uint8  \n",
      " 40  Prague             40000 non-null  uint8  \n",
      " 41  Rome               40000 non-null  uint8  \n",
      " 42  Stockholm          40000 non-null  uint8  \n",
      " 43  Vienna             40000 non-null  uint8  \n",
      " 44  Warsaw             40000 non-null  uint8  \n",
      " 45  Zurich             40000 non-null  uint8  \n",
      "dtypes: float64(4), int64(2), object(9), uint8(31)\n",
      "memory usage: 6.1+ MB\n"
     ]
    }
   ],
   "source": [
    "df.info()"
   ],
   "metadata": {
    "collapsed": false,
    "pycharm": {
     "name": "#%%\n"
    }
   }
  },
  {
   "cell_type": "code",
   "execution_count": 263,
   "outputs": [],
   "source": [
    "#Кухни\n",
    "df = df.join(pd.get_dummies(df_explode['CS']).sum(level=0))"
   ],
   "metadata": {
    "collapsed": false,
    "pycharm": {
     "name": "#%%\n"
    }
   }
  },
  {
   "cell_type": "code",
   "execution_count": 263,
   "outputs": [],
   "source": [],
   "metadata": {
    "collapsed": false,
    "pycharm": {
     "name": "#%%\n"
    }
   }
  },
  {
   "cell_type": "code",
   "execution_count": 264,
   "outputs": [],
   "source": [
    "# Если не была указана кухня, то считаем , что одна точно есть\n",
    "df['CS_Sum'].fillna(1, inplace=True)"
   ],
   "metadata": {
    "collapsed": false,
    "pycharm": {
     "name": "#%%\n"
    }
   }
  },
  {
   "cell_type": "code",
   "execution_count": 265,
   "outputs": [
    {
     "data": {
      "text/plain": "2.6"
     },
     "execution_count": 265,
     "metadata": {},
     "output_type": "execute_result"
    }
   ],
   "source": [
    "# посчитаем среднее количество кухонь в ресторане\n",
    "round(df['CS_Sum'].mean(),1)"
   ],
   "metadata": {
    "collapsed": false,
    "pycharm": {
     "name": "#%%\n"
    }
   }
  },
  {
   "cell_type": "code",
   "execution_count": 266,
   "outputs": [
    {
     "data": {
      "text/plain": "0"
     },
     "execution_count": 266,
     "metadata": {},
     "output_type": "execute_result"
    }
   ],
   "source": [
    "# Заполним пропуски в отзывах\n",
    "#df['Reviews'].fillna('None', inplace=True)\n",
    "df.Reviews.isna().sum()"
   ],
   "metadata": {
    "collapsed": false,
    "pycharm": {
     "name": "#%%\n"
    }
   }
  },
  {
   "cell_type": "code",
   "execution_count": 266,
   "outputs": [],
   "source": [],
   "metadata": {
    "collapsed": false,
    "pycharm": {
     "name": "#%%\n"
    }
   }
  },
  {
   "cell_type": "code",
   "execution_count": 267,
   "outputs": [],
   "source": [
    "# Есть строки, где в списке встречается 'nan', заменим его\n",
    "df_nan = df[df['Reviews'].str.contains('nan')].Reviews"
   ],
   "metadata": {
    "collapsed": false,
    "pycharm": {
     "name": "#%%\n"
    }
   }
  },
  {
   "cell_type": "code",
   "execution_count": 268,
   "outputs": [
    {
     "name": "stderr",
     "output_type": "stream",
     "text": [
      "<ipython-input-268-c2af0e4a00f4>:1: SettingWithCopyWarning: \n",
      "A value is trying to be set on a copy of a slice from a DataFrame\n",
      "\n",
      "See the caveats in the documentation: https://pandas.pydata.org/pandas-docs/stable/user_guide/indexing.html#returning-a-view-versus-a-copy\n",
      "  df['Reviews'][5315] = df['Reviews'][5315].replace('nan', \"''\")\n"
     ]
    }
   ],
   "source": [
    "df['Reviews'][5315] = df['Reviews'][5315].replace('nan', \"''\")"
   ],
   "metadata": {
    "collapsed": false,
    "pycharm": {
     "name": "#%%\n"
    }
   }
  },
  {
   "cell_type": "code",
   "execution_count": 269,
   "outputs": [
    {
     "name": "stderr",
     "output_type": "stream",
     "text": [
      "<ipython-input-269-671022b22779>:1: SettingWithCopyWarning: \n",
      "A value is trying to be set on a copy of a slice from a DataFrame\n",
      "\n",
      "See the caveats in the documentation: https://pandas.pydata.org/pandas-docs/stable/user_guide/indexing.html#returning-a-view-versus-a-copy\n",
      "  df['Reviews'][22958] = df['Reviews'][22958].replace('nan', \"''\")\n"
     ]
    }
   ],
   "source": [
    "df['Reviews'][22958] = df['Reviews'][22958].replace('nan', \"''\")\n"
   ],
   "metadata": {
    "collapsed": false,
    "pycharm": {
     "name": "#%%\n"
    }
   }
  },
  {
   "cell_type": "code",
   "execution_count": 270,
   "outputs": [],
   "source": [
    "# Преобразуем в список\n",
    "df['RevList'] = df['Reviews'].apply(lambda rev: ast.literal_eval(rev))"
   ],
   "metadata": {
    "collapsed": false,
    "pycharm": {
     "name": "#%%\n"
    }
   }
  },
  {
   "cell_type": "code",
   "execution_count": 270,
   "outputs": [],
   "source": [],
   "metadata": {
    "collapsed": false,
    "pycharm": {
     "name": "#%%\n"
    }
   }
  },
  {
   "cell_type": "code",
   "execution_count": 271,
   "outputs": [],
   "source": [
    "# Достанем отзывы\n",
    "df['Rev'] = df['RevList'].apply(lambda rev: rev[0])"
   ],
   "metadata": {
    "collapsed": false,
    "pycharm": {
     "name": "#%%\n"
    }
   }
  },
  {
   "cell_type": "code",
   "execution_count": 272,
   "outputs": [],
   "source": [
    "# Достанем даты отзывово\n",
    "df['Date'] = df['RevList'].apply(lambda rev: rev[1])"
   ],
   "metadata": {
    "collapsed": false,
    "pycharm": {
     "name": "#%%\n"
    }
   }
  },
  {
   "cell_type": "code",
   "execution_count": 273,
   "outputs": [],
   "source": [
    "# Посмотрим на длины списков\n",
    "df['RevLen'] = df['Rev'].apply(lambda rev: len(rev))"
   ],
   "metadata": {
    "collapsed": false,
    "pycharm": {
     "name": "#%%\n"
    }
   }
  },
  {
   "cell_type": "code",
   "execution_count": 274,
   "outputs": [],
   "source": [
    "df['DateLen'] = df['Date'].apply(lambda dat: len(dat))"
   ],
   "metadata": {
    "collapsed": false,
    "pycharm": {
     "name": "#%%\n"
    }
   }
  },
  {
   "cell_type": "code",
   "execution_count": 275,
   "outputs": [
    {
     "data": {
      "text/plain": "2    28973\n0     6471\n1     4556\nName: RevLen, dtype: int64"
     },
     "execution_count": 275,
     "metadata": {},
     "output_type": "execute_result"
    }
   ],
   "source": [
    "df['RevLen'].value_counts()"
   ],
   "metadata": {
    "collapsed": false,
    "pycharm": {
     "name": "#%%\n"
    }
   }
  },
  {
   "cell_type": "code",
   "execution_count": 276,
   "outputs": [
    {
     "data": {
      "text/plain": "2    28973\n0     6471\n1     4556\nName: DateLen, dtype: int64"
     },
     "execution_count": 276,
     "metadata": {},
     "output_type": "execute_result"
    }
   ],
   "source": [
    "df['DateLen'].value_counts()"
   ],
   "metadata": {
    "collapsed": false,
    "pycharm": {
     "name": "#%%\n"
    }
   }
  },
  {
   "cell_type": "code",
   "execution_count": 277,
   "outputs": [],
   "source": [
    "# Есть пустые списки - нет отзывов\n",
    "# Есть список тольколь с одним отзывом\n",
    "# Есть список с двумя отзывами"
   ],
   "metadata": {
    "collapsed": false,
    "pycharm": {
     "name": "#%%\n"
    }
   }
  },
  {
   "cell_type": "code",
   "execution_count": 278,
   "outputs": [],
   "source": [
    "df['Dat1'] = df['Date'].apply(lambda dat: pd.to_datetime(dat[0]) if len(dat)>0 else np.nan)"
   ],
   "metadata": {
    "collapsed": false,
    "pycharm": {
     "name": "#%%\n"
    }
   }
  },
  {
   "cell_type": "code",
   "execution_count": 279,
   "outputs": [],
   "source": [
    "df['Dat2'] = df['Date'].apply(lambda dat: pd.to_datetime(dat[1]) if len(dat)>1 else np.nan)"
   ],
   "metadata": {
    "collapsed": false,
    "pycharm": {
     "name": "#%%\n"
    }
   }
  },
  {
   "cell_type": "code",
   "execution_count": 280,
   "outputs": [
    {
     "name": "stdout",
     "output_type": "stream",
     "text": [
      "2018-02-26 00:00:00\n",
      "2018-02-26 00:00:00\n",
      "2017-05-05 00:27:42.083569408\n",
      "2017-02-24 18:15:22.210333952\n",
      "2004-04-21 00:00:00\n",
      "2007-11-14 00:00:00\n",
      "2017-05-05 00:27:42.083569408\n",
      "2017-02-24 18:15:22.210333952\n"
     ]
    },
    {
     "data": {
      "text/plain": "(None, None)"
     },
     "execution_count": 280,
     "metadata": {},
     "output_type": "execute_result"
    }
   ],
   "source": [
    "# Псмотрим на дату самого свежего отзыва\n",
    "print(df['Dat1'].max()) , print(df['Dat2'].max())\n",
    "print(df['Dat1'].mean()) , print(df['Dat2'].mean())\n",
    "# На дату самого старого\n",
    "print(df['Dat1'].min()) , print(df['Dat2'].min())\n",
    "print(df['Dat1'].mean()) , print(df['Dat2'].mean())\n"
   ],
   "metadata": {
    "collapsed": false,
    "pycharm": {
     "name": "#%%\n"
    }
   }
  },
  {
   "cell_type": "code",
   "execution_count": 2,
   "outputs": [
    {
     "name": "stdout",
     "output_type": "stream",
     "text": [
      "Collecting textblob\r\n",
      "  Downloading textblob-0.15.3-py2.py3-none-any.whl (636 kB)\r\n",
      "\u001B[K     |████████████████████████████████| 636 kB 1.2 MB/s eta 0:00:01\r\n",
      "\u001B[?25hCollecting nltk>=3.1\r\n",
      "  Downloading nltk-3.5.zip (1.4 MB)\r\n",
      "\u001B[K     |████████████████████████████████| 1.4 MB 1.1 MB/s eta 0:00:01\r\n",
      "\u001B[?25hRequirement already satisfied: joblib in /Users/serpent/.conda/envs/testgit/lib/python3.9/site-packages (from nltk>=3.1->textblob) (1.0.0)\r\n",
      "Requirement already satisfied: tqdm in /Users/serpent/.conda/envs/testgit/lib/python3.9/site-packages (from nltk>=3.1->textblob) (4.56.0)\r\n",
      "Collecting click\r\n",
      "  Downloading click-7.1.2-py2.py3-none-any.whl (82 kB)\r\n",
      "\u001B[K     |████████████████████████████████| 82 kB 1.4 MB/s eta 0:00:011\r\n",
      "\u001B[?25hCollecting regex\r\n",
      "  Downloading regex-2020.11.13-cp39-cp39-macosx_10_9_x86_64.whl (284 kB)\r\n",
      "\u001B[K     |████████████████████████████████| 284 kB 2.4 MB/s eta 0:00:01\r\n",
      "\u001B[?25hBuilding wheels for collected packages: nltk\r\n",
      "  Building wheel for nltk (setup.py) ... \u001B[?25l-\b \b\\\b \b|\b \b/\b \b-\b \b\\\b \b|\b \b/\b \bdone\r\n",
      "\u001B[?25h  Created wheel for nltk: filename=nltk-3.5-py3-none-any.whl size=1434675 sha256=04ec0089d29ab4316b4f417bb0e1f5e01a12aeaf3a9d20aab53a180361a5dbc9\r\n",
      "  Stored in directory: /Users/serpent/Library/Caches/pip/wheels/13/ae/bb/5e2a232ebaa1d2f38dd5f587e9fc4cf6ccb12758d14dac14d8\r\n",
      "Successfully built nltk\r\n",
      "Installing collected packages: regex, click, nltk, textblob\r\n",
      "Successfully installed click-7.1.2 nltk-3.5 regex-2020.11.13 textblob-0.15.3\r\n"
     ]
    }
   ],
   "source": [
    "#Анализ тональности\n",
    "! pip install -U textblob"
   ],
   "metadata": {
    "collapsed": false,
    "pycharm": {
     "name": "#%%\n"
    }
   }
  },
  {
   "cell_type": "code",
   "execution_count": 3,
   "outputs": [
    {
     "name": "stdout",
     "output_type": "stream",
     "text": [
      "[nltk_data] Downloading package brown to /Users/serpent/nltk_data...\r\n",
      "[nltk_data]   Unzipping corpora/brown.zip.\r\n",
      "[nltk_data] Downloading package punkt to /Users/serpent/nltk_data...\r\n",
      "[nltk_data]   Unzipping tokenizers/punkt.zip.\r\n",
      "[nltk_data] Downloading package wordnet to /Users/serpent/nltk_data...\r\n",
      "[nltk_data]   Unzipping corpora/wordnet.zip.\r\n",
      "[nltk_data] Downloading package averaged_perceptron_tagger to\r\n",
      "[nltk_data]     /Users/serpent/nltk_data...\r\n",
      "[nltk_data]   Unzipping taggers/averaged_perceptron_tagger.zip.\r\n",
      "[nltk_data] Downloading package conll2000 to\r\n",
      "[nltk_data]     /Users/serpent/nltk_data...\r\n",
      "[nltk_data]   Unzipping corpora/conll2000.zip.\r\n",
      "[nltk_data] Downloading package movie_reviews to\r\n",
      "[nltk_data]     /Users/serpent/nltk_data...\r\n",
      "[nltk_data]   Unzipping corpora/movie_reviews.zip.\r\n",
      "Finished.\r\n"
     ]
    }
   ],
   "source": [
    "! python -m textblob.download_corpora"
   ],
   "metadata": {
    "collapsed": false,
    "pycharm": {
     "name": "#%%\n"
    }
   }
  },
  {
   "cell_type": "code",
   "execution_count": 4,
   "outputs": [],
   "source": [
    "from textblob import TextBlob\n"
   ],
   "metadata": {
    "collapsed": false,
    "pycharm": {
     "name": "#%%\n"
    }
   }
  },
  {
   "cell_type": "code",
   "execution_count": 6,
   "outputs": [
    {
     "name": "stdout",
     "output_type": "stream",
     "text": [
      "0.5\n"
     ]
    }
   ],
   "source": [
    "sentence = '''The platform provides universal access to the world's best education, partnering with top universities and organizations to offer courses online.'''\n",
    "\n",
    "analysisPol = TextBlob(sentence).polarity\n",
    "print(analysisPol)"
   ],
   "metadata": {
    "collapsed": false,
    "pycharm": {
     "name": "#%%\n"
    }
   }
  },
  {
   "cell_type": "code",
   "execution_count": null,
   "outputs": [],
   "source": [],
   "metadata": {
    "collapsed": false,
    "pycharm": {
     "name": "#%%\n"
    }
   }
  },
  {
   "cell_type": "code",
   "execution_count": null,
   "outputs": [],
   "source": [],
   "metadata": {
    "collapsed": false,
    "pycharm": {
     "name": "#%%\n"
    }
   }
  },
  {
   "cell_type": "code",
   "execution_count": 281,
   "outputs": [],
   "source": [
    "# Посмотрим на разницу дат между публикацией отзывов\n",
    "df['DatInterval'] = df['Dat1'] - df['Dat2']"
   ],
   "metadata": {
    "collapsed": false,
    "pycharm": {
     "name": "#%%\n"
    }
   }
  },
  {
   "cell_type": "code",
   "execution_count": 204,
   "outputs": [
    {
     "data": {
      "text/plain": "Timedelta('3207 days 00:00:00')"
     },
     "execution_count": 204,
     "metadata": {},
     "output_type": "execute_result"
    }
   ],
   "source": [
    "df['DatInterval'].max()"
   ],
   "metadata": {
    "collapsed": false,
    "pycharm": {
     "name": "#%%\n"
    }
   }
  },
  {
   "cell_type": "code",
   "execution_count": 205,
   "outputs": [
    {
     "data": {
      "text/plain": "      Restaurant_id       City  \\\n0           id_5569      Paris   \n1           id_1535  Stockholm   \n2            id_352     London   \n3           id_3456     Berlin   \n4            id_615     Munich   \n...             ...        ...   \n39995        id_499      Milan   \n39996       id_6340      Paris   \n39997       id_1649  Stockholm   \n39998        id_640     Warsaw   \n39999       id_4824      Milan   \n\n                                           Cuisine Style  Ranking  Rating  \\\n0                ['European', 'French', 'International']   5570.0     3.5   \n1                                                   None   1537.0     4.0   \n2      ['Japanese', 'Sushi', 'Asian', 'Grill', 'Veget...    353.0     4.5   \n3                                                   None   3458.0     5.0   \n4      ['German', 'Central European', 'Vegetarian Fri...    621.0     4.0   \n...                                                  ...      ...     ...   \n39995  ['Italian', 'Vegetarian Friendly', 'Vegan Opti...    500.0     4.5   \n39996  ['French', 'American', 'Bar', 'European', 'Veg...   6341.0     3.5   \n39997                              ['Japanese', 'Sushi']   1652.0     4.5   \n39998  ['Polish', 'European', 'Eastern European', 'Ce...    641.0     4.0   \n39999                                        ['Spanish']   4827.0     3.0   \n\n      Price Range  Number of Reviews  \\\n0        $$ - $$$              194.0   \n1             NaN               10.0   \n2            $$$$              688.0   \n3             NaN                3.0   \n4        $$ - $$$               84.0   \n...           ...                ...   \n39995    $$ - $$$               79.0   \n39996    $$ - $$$              542.0   \n39997         NaN                4.0   \n39998    $$ - $$$               70.0   \n39999    $$ - $$$              260.0   \n\n                                                 Reviews  \\\n0      [['Good food at your doorstep', 'A good hotel ...   \n1      [['Unique cuisine', 'Delicious Nepalese food']...   \n2      [['Catch up with friends', 'Not exceptional'],...   \n3                                               [[], []]   \n4      [['Best place to try a Bavarian food', 'Nice b...   \n...                                                  ...   \n39995  [['The real Italian experience!', 'Wonderful f...   \n39996  [['Parisian atmosphere', 'Bit pricey but inter...   \n39997  [['Good by swedish standards', 'A hidden jewel...   \n39998  [['Underground restaurant', 'Oldest Restaurant...   \n39999  [['Average', 'Nice an informal'], ['01/31/2016...   \n\n                                                  URL_TA     ID_TA  CityCnt  \\\n0      /Restaurant_Review-g187147-d1912643-Reviews-R_...  d1912643        3   \n1      /Restaurant_Review-g189852-d7992032-Reviews-Bu...  d7992032       10   \n2      /Restaurant_Review-g186338-d8632781-Reviews-RO...  d8632781        8   \n3      /Restaurant_Review-g187323-d1358776-Reviews-Es...  d1358776        4   \n4      /Restaurant_Review-g187309-d6864963-Reviews-Au...  d6864963       14   \n...                                                  ...       ...      ...   \n39995  /Restaurant_Review-g187849-d2104414-Reviews-Ro...  d2104414       14   \n39996  /Restaurant_Review-g187147-d1800036-Reviews-La...  d1800036        2   \n39997  /Restaurant_Review-g189852-d947615-Reviews-Sus...   d947615       10   \n39998  /Restaurant_Review-g274856-d1100838-Reviews-Ho...  d1100838        8   \n39999  /Restaurant_Review-g187849-d1109020-Reviews-Ta...  d1109020        4   \n\n       RestCnt PriceRNG                                                 CS  \\\n0         4897        2                  [European, French, International]   \n1          820      NaN                                               None   \n2         5757        3  [Japanese, Sushi, Asian, Grill, Vegetarian Fri...   \n3         2155      NaN                                               None   \n4          893        2    [German, Central European, Vegetarian Friendly]   \n...        ...      ...                                                ...   \n39995     2133        2  [Italian, Vegetarian Friendly, Vegan Options, ...   \n39996     4897        2  [French, American, Bar, European, Vegetarian F...   \n39997      820      NaN                                  [Japanese, Sushi]   \n39998      727        2  [Polish, European, Eastern European, Central E...   \n39999     2133        2                                          [Spanish]   \n\n       CS_Sum  Amsterdam  Athens  Barcelona  Berlin  Bratislava  Brussels  \\\n0         3.0          0       0          0       0           0         0   \n1         1.0          0       0          0       0           0         0   \n2         7.0          0       0          0       0           0         0   \n3         1.0          0       0          0       1           0         0   \n4         3.0          0       0          0       0           0         0   \n...       ...        ...     ...        ...     ...         ...       ...   \n39995     4.0          0       0          0       0           0         0   \n39996     5.0          0       0          0       0           0         0   \n39997     2.0          0       0          0       0           0         0   \n39998     5.0          0       0          0       0           0         0   \n39999     1.0          0       0          0       0           0         0   \n\n       Budapest  Copenhagen  Dublin  Edinburgh  ...  Swedish  Swiss  \\\n0             0           0       0          0  ...        0      0   \n1             0           0       0          0  ...        0      0   \n2             0           0       0          0  ...        0      0   \n3             0           0       0          0  ...        0      0   \n4             0           0       0          0  ...        0      0   \n...         ...         ...     ...        ...  ...      ...    ...   \n39995         0           0       0          0  ...        0      0   \n39996         0           0       0          0  ...        0      0   \n39997         0           0       0          0  ...        0      0   \n39998         0           0       0          0  ...        0      0   \n39999         0           0       0          0  ...        0      0   \n\n       Taiwanese  Thai  Tibetan  Tunisian  Turkish  Ukrainian  Uzbek  \\\n0              0     0        0         0        0          0      0   \n1              0     0        0         0        0          0      0   \n2              0     0        0         0        0          0      0   \n3              0     0        0         0        0          0      0   \n4              0     0        0         0        0          0      0   \n...          ...   ...      ...       ...      ...        ...    ...   \n39995          0     0        0         0        0          0      0   \n39996          0     0        0         0        0          0      0   \n39997          0     0        0         0        0          0      0   \n39998          0     0        0         0        0          0      0   \n39999          0     0        0         0        0          0      0   \n\n       Vegan Options  Vegetarian Friendly  Venezuelan  Vietnamese  Welsh  \\\n0                  0                    0           0           0      0   \n1                  0                    0           0           0      0   \n2                  1                    1           0           0      0   \n3                  0                    0           0           0      0   \n4                  0                    1           0           0      0   \n...              ...                  ...         ...         ...    ...   \n39995              1                    1           0           0      0   \n39996              0                    1           0           0      0   \n39997              0                    0           0           0      0   \n39998              0                    1           0           0      0   \n39999              0                    0           0           0      0   \n\n       Wine Bar  Xinjiang  Yunnan  \\\n0             0         0       0   \n1             0         0       0   \n2             0         0       0   \n3             0         0       0   \n4             0         0       0   \n...         ...       ...     ...   \n39995         0         0       0   \n39996         0         0       0   \n39997         0         0       0   \n39998         0         0       0   \n39999         0         0       0   \n\n                                                 RevList  \\\n0      [[Good food at your doorstep, A good hotel res...   \n1      [[Unique cuisine, Delicious Nepalese food], [0...   \n2      [[Catch up with friends, Not exceptional], [01...   \n3                                               [[], []]   \n4      [[Best place to try a Bavarian food, Nice buil...   \n...                                                  ...   \n39995  [[The real Italian experience!, Wonderful food...   \n39996  [[Parisian atmosphere, Bit pricey but interest...   \n39997  [[Good by swedish standards, A hidden jewel in...   \n39998  [[Underground restaurant, Oldest Restaurant in...   \n39999  [[Average, Nice an informal], [01/31/2016, 07/...   \n\n                                                     Rev  \\\n0      [Good food at your doorstep, A good hotel rest...   \n1              [Unique cuisine, Delicious Nepalese food]   \n2               [Catch up with friends, Not exceptional]   \n3                                                     []   \n4      [Best place to try a Bavarian food, Nice build...   \n...                                                  ...   \n39995  [The real Italian experience!, Wonderful food,...   \n39996  [Parisian atmosphere, Bit pricey but interesti...   \n39997  [Good by swedish standards, A hidden jewel in ...   \n39998  [Underground restaurant, Oldest Restaurant in ...   \n39999                        [Average, Nice an informal]   \n\n                           Date  RevLen  DateLen       Dat1       Dat2  \\\n0      [12/31/2017, 11/20/2017]       2        2 2017-12-31 2017-11-20   \n1      [07/06/2017, 06/19/2016]       2        2 2017-07-06 2016-06-19   \n2      [01/08/2018, 01/06/2018]       2        2 2018-01-08 2018-01-06   \n3                            []       0        0        NaT        NaT   \n4      [11/18/2017, 02/19/2017]       2        2 2017-11-18 2017-02-19   \n...                         ...     ...      ...        ...        ...   \n39995  [12/16/2017, 11/12/2017]       2        2 2017-12-16 2017-11-12   \n39996  [12/21/2017, 12/12/2017]       2        2 2017-12-21 2017-12-12   \n39997  [11/03/2016, 04/12/2008]       2        2 2016-11-03 2008-04-12   \n39998  [07/11/2017, 06/18/2017]       2        2 2017-07-11 2017-06-18   \n39999  [01/31/2016, 07/04/2012]       2        2 2016-01-31 2012-07-04   \n\n       DatInterval  \n0          41 days  \n1         382 days  \n2           2 days  \n3              NaT  \n4         272 days  \n...            ...  \n39995      34 days  \n39996       9 days  \n39997    3127 days  \n39998      23 days  \n39999    1306 days  \n\n[40000 rows x 179 columns]",
      "text/html": "<div>\n<style scoped>\n    .dataframe tbody tr th:only-of-type {\n        vertical-align: middle;\n    }\n\n    .dataframe tbody tr th {\n        vertical-align: top;\n    }\n\n    .dataframe thead th {\n        text-align: right;\n    }\n</style>\n<table border=\"1\" class=\"dataframe\">\n  <thead>\n    <tr style=\"text-align: right;\">\n      <th></th>\n      <th>Restaurant_id</th>\n      <th>City</th>\n      <th>Cuisine Style</th>\n      <th>Ranking</th>\n      <th>Rating</th>\n      <th>Price Range</th>\n      <th>Number of Reviews</th>\n      <th>Reviews</th>\n      <th>URL_TA</th>\n      <th>ID_TA</th>\n      <th>CityCnt</th>\n      <th>RestCnt</th>\n      <th>PriceRNG</th>\n      <th>CS</th>\n      <th>CS_Sum</th>\n      <th>Amsterdam</th>\n      <th>Athens</th>\n      <th>Barcelona</th>\n      <th>Berlin</th>\n      <th>Bratislava</th>\n      <th>Brussels</th>\n      <th>Budapest</th>\n      <th>Copenhagen</th>\n      <th>Dublin</th>\n      <th>Edinburgh</th>\n      <th>...</th>\n      <th>Swedish</th>\n      <th>Swiss</th>\n      <th>Taiwanese</th>\n      <th>Thai</th>\n      <th>Tibetan</th>\n      <th>Tunisian</th>\n      <th>Turkish</th>\n      <th>Ukrainian</th>\n      <th>Uzbek</th>\n      <th>Vegan Options</th>\n      <th>Vegetarian Friendly</th>\n      <th>Venezuelan</th>\n      <th>Vietnamese</th>\n      <th>Welsh</th>\n      <th>Wine Bar</th>\n      <th>Xinjiang</th>\n      <th>Yunnan</th>\n      <th>RevList</th>\n      <th>Rev</th>\n      <th>Date</th>\n      <th>RevLen</th>\n      <th>DateLen</th>\n      <th>Dat1</th>\n      <th>Dat2</th>\n      <th>DatInterval</th>\n    </tr>\n  </thead>\n  <tbody>\n    <tr>\n      <th>0</th>\n      <td>id_5569</td>\n      <td>Paris</td>\n      <td>['European', 'French', 'International']</td>\n      <td>5570.0</td>\n      <td>3.5</td>\n      <td>$$ - $$$</td>\n      <td>194.0</td>\n      <td>[['Good food at your doorstep', 'A good hotel ...</td>\n      <td>/Restaurant_Review-g187147-d1912643-Reviews-R_...</td>\n      <td>d1912643</td>\n      <td>3</td>\n      <td>4897</td>\n      <td>2</td>\n      <td>[European, French, International]</td>\n      <td>3.0</td>\n      <td>0</td>\n      <td>0</td>\n      <td>0</td>\n      <td>0</td>\n      <td>0</td>\n      <td>0</td>\n      <td>0</td>\n      <td>0</td>\n      <td>0</td>\n      <td>0</td>\n      <td>...</td>\n      <td>0</td>\n      <td>0</td>\n      <td>0</td>\n      <td>0</td>\n      <td>0</td>\n      <td>0</td>\n      <td>0</td>\n      <td>0</td>\n      <td>0</td>\n      <td>0</td>\n      <td>0</td>\n      <td>0</td>\n      <td>0</td>\n      <td>0</td>\n      <td>0</td>\n      <td>0</td>\n      <td>0</td>\n      <td>[[Good food at your doorstep, A good hotel res...</td>\n      <td>[Good food at your doorstep, A good hotel rest...</td>\n      <td>[12/31/2017, 11/20/2017]</td>\n      <td>2</td>\n      <td>2</td>\n      <td>2017-12-31</td>\n      <td>2017-11-20</td>\n      <td>41 days</td>\n    </tr>\n    <tr>\n      <th>1</th>\n      <td>id_1535</td>\n      <td>Stockholm</td>\n      <td>None</td>\n      <td>1537.0</td>\n      <td>4.0</td>\n      <td>NaN</td>\n      <td>10.0</td>\n      <td>[['Unique cuisine', 'Delicious Nepalese food']...</td>\n      <td>/Restaurant_Review-g189852-d7992032-Reviews-Bu...</td>\n      <td>d7992032</td>\n      <td>10</td>\n      <td>820</td>\n      <td>NaN</td>\n      <td>None</td>\n      <td>1.0</td>\n      <td>0</td>\n      <td>0</td>\n      <td>0</td>\n      <td>0</td>\n      <td>0</td>\n      <td>0</td>\n      <td>0</td>\n      <td>0</td>\n      <td>0</td>\n      <td>0</td>\n      <td>...</td>\n      <td>0</td>\n      <td>0</td>\n      <td>0</td>\n      <td>0</td>\n      <td>0</td>\n      <td>0</td>\n      <td>0</td>\n      <td>0</td>\n      <td>0</td>\n      <td>0</td>\n      <td>0</td>\n      <td>0</td>\n      <td>0</td>\n      <td>0</td>\n      <td>0</td>\n      <td>0</td>\n      <td>0</td>\n      <td>[[Unique cuisine, Delicious Nepalese food], [0...</td>\n      <td>[Unique cuisine, Delicious Nepalese food]</td>\n      <td>[07/06/2017, 06/19/2016]</td>\n      <td>2</td>\n      <td>2</td>\n      <td>2017-07-06</td>\n      <td>2016-06-19</td>\n      <td>382 days</td>\n    </tr>\n    <tr>\n      <th>2</th>\n      <td>id_352</td>\n      <td>London</td>\n      <td>['Japanese', 'Sushi', 'Asian', 'Grill', 'Veget...</td>\n      <td>353.0</td>\n      <td>4.5</td>\n      <td>$$$$</td>\n      <td>688.0</td>\n      <td>[['Catch up with friends', 'Not exceptional'],...</td>\n      <td>/Restaurant_Review-g186338-d8632781-Reviews-RO...</td>\n      <td>d8632781</td>\n      <td>8</td>\n      <td>5757</td>\n      <td>3</td>\n      <td>[Japanese, Sushi, Asian, Grill, Vegetarian Fri...</td>\n      <td>7.0</td>\n      <td>0</td>\n      <td>0</td>\n      <td>0</td>\n      <td>0</td>\n      <td>0</td>\n      <td>0</td>\n      <td>0</td>\n      <td>0</td>\n      <td>0</td>\n      <td>0</td>\n      <td>...</td>\n      <td>0</td>\n      <td>0</td>\n      <td>0</td>\n      <td>0</td>\n      <td>0</td>\n      <td>0</td>\n      <td>0</td>\n      <td>0</td>\n      <td>0</td>\n      <td>1</td>\n      <td>1</td>\n      <td>0</td>\n      <td>0</td>\n      <td>0</td>\n      <td>0</td>\n      <td>0</td>\n      <td>0</td>\n      <td>[[Catch up with friends, Not exceptional], [01...</td>\n      <td>[Catch up with friends, Not exceptional]</td>\n      <td>[01/08/2018, 01/06/2018]</td>\n      <td>2</td>\n      <td>2</td>\n      <td>2018-01-08</td>\n      <td>2018-01-06</td>\n      <td>2 days</td>\n    </tr>\n    <tr>\n      <th>3</th>\n      <td>id_3456</td>\n      <td>Berlin</td>\n      <td>None</td>\n      <td>3458.0</td>\n      <td>5.0</td>\n      <td>NaN</td>\n      <td>3.0</td>\n      <td>[[], []]</td>\n      <td>/Restaurant_Review-g187323-d1358776-Reviews-Es...</td>\n      <td>d1358776</td>\n      <td>4</td>\n      <td>2155</td>\n      <td>NaN</td>\n      <td>None</td>\n      <td>1.0</td>\n      <td>0</td>\n      <td>0</td>\n      <td>0</td>\n      <td>1</td>\n      <td>0</td>\n      <td>0</td>\n      <td>0</td>\n      <td>0</td>\n      <td>0</td>\n      <td>0</td>\n      <td>...</td>\n      <td>0</td>\n      <td>0</td>\n      <td>0</td>\n      <td>0</td>\n      <td>0</td>\n      <td>0</td>\n      <td>0</td>\n      <td>0</td>\n      <td>0</td>\n      <td>0</td>\n      <td>0</td>\n      <td>0</td>\n      <td>0</td>\n      <td>0</td>\n      <td>0</td>\n      <td>0</td>\n      <td>0</td>\n      <td>[[], []]</td>\n      <td>[]</td>\n      <td>[]</td>\n      <td>0</td>\n      <td>0</td>\n      <td>NaT</td>\n      <td>NaT</td>\n      <td>NaT</td>\n    </tr>\n    <tr>\n      <th>4</th>\n      <td>id_615</td>\n      <td>Munich</td>\n      <td>['German', 'Central European', 'Vegetarian Fri...</td>\n      <td>621.0</td>\n      <td>4.0</td>\n      <td>$$ - $$$</td>\n      <td>84.0</td>\n      <td>[['Best place to try a Bavarian food', 'Nice b...</td>\n      <td>/Restaurant_Review-g187309-d6864963-Reviews-Au...</td>\n      <td>d6864963</td>\n      <td>14</td>\n      <td>893</td>\n      <td>2</td>\n      <td>[German, Central European, Vegetarian Friendly]</td>\n      <td>3.0</td>\n      <td>0</td>\n      <td>0</td>\n      <td>0</td>\n      <td>0</td>\n      <td>0</td>\n      <td>0</td>\n      <td>0</td>\n      <td>0</td>\n      <td>0</td>\n      <td>0</td>\n      <td>...</td>\n      <td>0</td>\n      <td>0</td>\n      <td>0</td>\n      <td>0</td>\n      <td>0</td>\n      <td>0</td>\n      <td>0</td>\n      <td>0</td>\n      <td>0</td>\n      <td>0</td>\n      <td>1</td>\n      <td>0</td>\n      <td>0</td>\n      <td>0</td>\n      <td>0</td>\n      <td>0</td>\n      <td>0</td>\n      <td>[[Best place to try a Bavarian food, Nice buil...</td>\n      <td>[Best place to try a Bavarian food, Nice build...</td>\n      <td>[11/18/2017, 02/19/2017]</td>\n      <td>2</td>\n      <td>2</td>\n      <td>2017-11-18</td>\n      <td>2017-02-19</td>\n      <td>272 days</td>\n    </tr>\n    <tr>\n      <th>...</th>\n      <td>...</td>\n      <td>...</td>\n      <td>...</td>\n      <td>...</td>\n      <td>...</td>\n      <td>...</td>\n      <td>...</td>\n      <td>...</td>\n      <td>...</td>\n      <td>...</td>\n      <td>...</td>\n      <td>...</td>\n      <td>...</td>\n      <td>...</td>\n      <td>...</td>\n      <td>...</td>\n      <td>...</td>\n      <td>...</td>\n      <td>...</td>\n      <td>...</td>\n      <td>...</td>\n      <td>...</td>\n      <td>...</td>\n      <td>...</td>\n      <td>...</td>\n      <td>...</td>\n      <td>...</td>\n      <td>...</td>\n      <td>...</td>\n      <td>...</td>\n      <td>...</td>\n      <td>...</td>\n      <td>...</td>\n      <td>...</td>\n      <td>...</td>\n      <td>...</td>\n      <td>...</td>\n      <td>...</td>\n      <td>...</td>\n      <td>...</td>\n      <td>...</td>\n      <td>...</td>\n      <td>...</td>\n      <td>...</td>\n      <td>...</td>\n      <td>...</td>\n      <td>...</td>\n      <td>...</td>\n      <td>...</td>\n      <td>...</td>\n      <td>...</td>\n    </tr>\n    <tr>\n      <th>39995</th>\n      <td>id_499</td>\n      <td>Milan</td>\n      <td>['Italian', 'Vegetarian Friendly', 'Vegan Opti...</td>\n      <td>500.0</td>\n      <td>4.5</td>\n      <td>$$ - $$$</td>\n      <td>79.0</td>\n      <td>[['The real Italian experience!', 'Wonderful f...</td>\n      <td>/Restaurant_Review-g187849-d2104414-Reviews-Ro...</td>\n      <td>d2104414</td>\n      <td>14</td>\n      <td>2133</td>\n      <td>2</td>\n      <td>[Italian, Vegetarian Friendly, Vegan Options, ...</td>\n      <td>4.0</td>\n      <td>0</td>\n      <td>0</td>\n      <td>0</td>\n      <td>0</td>\n      <td>0</td>\n      <td>0</td>\n      <td>0</td>\n      <td>0</td>\n      <td>0</td>\n      <td>0</td>\n      <td>...</td>\n      <td>0</td>\n      <td>0</td>\n      <td>0</td>\n      <td>0</td>\n      <td>0</td>\n      <td>0</td>\n      <td>0</td>\n      <td>0</td>\n      <td>0</td>\n      <td>1</td>\n      <td>1</td>\n      <td>0</td>\n      <td>0</td>\n      <td>0</td>\n      <td>0</td>\n      <td>0</td>\n      <td>0</td>\n      <td>[[The real Italian experience!, Wonderful food...</td>\n      <td>[The real Italian experience!, Wonderful food,...</td>\n      <td>[12/16/2017, 11/12/2017]</td>\n      <td>2</td>\n      <td>2</td>\n      <td>2017-12-16</td>\n      <td>2017-11-12</td>\n      <td>34 days</td>\n    </tr>\n    <tr>\n      <th>39996</th>\n      <td>id_6340</td>\n      <td>Paris</td>\n      <td>['French', 'American', 'Bar', 'European', 'Veg...</td>\n      <td>6341.0</td>\n      <td>3.5</td>\n      <td>$$ - $$$</td>\n      <td>542.0</td>\n      <td>[['Parisian atmosphere', 'Bit pricey but inter...</td>\n      <td>/Restaurant_Review-g187147-d1800036-Reviews-La...</td>\n      <td>d1800036</td>\n      <td>2</td>\n      <td>4897</td>\n      <td>2</td>\n      <td>[French, American, Bar, European, Vegetarian F...</td>\n      <td>5.0</td>\n      <td>0</td>\n      <td>0</td>\n      <td>0</td>\n      <td>0</td>\n      <td>0</td>\n      <td>0</td>\n      <td>0</td>\n      <td>0</td>\n      <td>0</td>\n      <td>0</td>\n      <td>...</td>\n      <td>0</td>\n      <td>0</td>\n      <td>0</td>\n      <td>0</td>\n      <td>0</td>\n      <td>0</td>\n      <td>0</td>\n      <td>0</td>\n      <td>0</td>\n      <td>0</td>\n      <td>1</td>\n      <td>0</td>\n      <td>0</td>\n      <td>0</td>\n      <td>0</td>\n      <td>0</td>\n      <td>0</td>\n      <td>[[Parisian atmosphere, Bit pricey but interest...</td>\n      <td>[Parisian atmosphere, Bit pricey but interesti...</td>\n      <td>[12/21/2017, 12/12/2017]</td>\n      <td>2</td>\n      <td>2</td>\n      <td>2017-12-21</td>\n      <td>2017-12-12</td>\n      <td>9 days</td>\n    </tr>\n    <tr>\n      <th>39997</th>\n      <td>id_1649</td>\n      <td>Stockholm</td>\n      <td>['Japanese', 'Sushi']</td>\n      <td>1652.0</td>\n      <td>4.5</td>\n      <td>NaN</td>\n      <td>4.0</td>\n      <td>[['Good by swedish standards', 'A hidden jewel...</td>\n      <td>/Restaurant_Review-g189852-d947615-Reviews-Sus...</td>\n      <td>d947615</td>\n      <td>10</td>\n      <td>820</td>\n      <td>NaN</td>\n      <td>[Japanese, Sushi]</td>\n      <td>2.0</td>\n      <td>0</td>\n      <td>0</td>\n      <td>0</td>\n      <td>0</td>\n      <td>0</td>\n      <td>0</td>\n      <td>0</td>\n      <td>0</td>\n      <td>0</td>\n      <td>0</td>\n      <td>...</td>\n      <td>0</td>\n      <td>0</td>\n      <td>0</td>\n      <td>0</td>\n      <td>0</td>\n      <td>0</td>\n      <td>0</td>\n      <td>0</td>\n      <td>0</td>\n      <td>0</td>\n      <td>0</td>\n      <td>0</td>\n      <td>0</td>\n      <td>0</td>\n      <td>0</td>\n      <td>0</td>\n      <td>0</td>\n      <td>[[Good by swedish standards, A hidden jewel in...</td>\n      <td>[Good by swedish standards, A hidden jewel in ...</td>\n      <td>[11/03/2016, 04/12/2008]</td>\n      <td>2</td>\n      <td>2</td>\n      <td>2016-11-03</td>\n      <td>2008-04-12</td>\n      <td>3127 days</td>\n    </tr>\n    <tr>\n      <th>39998</th>\n      <td>id_640</td>\n      <td>Warsaw</td>\n      <td>['Polish', 'European', 'Eastern European', 'Ce...</td>\n      <td>641.0</td>\n      <td>4.0</td>\n      <td>$$ - $$$</td>\n      <td>70.0</td>\n      <td>[['Underground restaurant', 'Oldest Restaurant...</td>\n      <td>/Restaurant_Review-g274856-d1100838-Reviews-Ho...</td>\n      <td>d1100838</td>\n      <td>8</td>\n      <td>727</td>\n      <td>2</td>\n      <td>[Polish, European, Eastern European, Central E...</td>\n      <td>5.0</td>\n      <td>0</td>\n      <td>0</td>\n      <td>0</td>\n      <td>0</td>\n      <td>0</td>\n      <td>0</td>\n      <td>0</td>\n      <td>0</td>\n      <td>0</td>\n      <td>0</td>\n      <td>...</td>\n      <td>0</td>\n      <td>0</td>\n      <td>0</td>\n      <td>0</td>\n      <td>0</td>\n      <td>0</td>\n      <td>0</td>\n      <td>0</td>\n      <td>0</td>\n      <td>0</td>\n      <td>1</td>\n      <td>0</td>\n      <td>0</td>\n      <td>0</td>\n      <td>0</td>\n      <td>0</td>\n      <td>0</td>\n      <td>[[Underground restaurant, Oldest Restaurant in...</td>\n      <td>[Underground restaurant, Oldest Restaurant in ...</td>\n      <td>[07/11/2017, 06/18/2017]</td>\n      <td>2</td>\n      <td>2</td>\n      <td>2017-07-11</td>\n      <td>2017-06-18</td>\n      <td>23 days</td>\n    </tr>\n    <tr>\n      <th>39999</th>\n      <td>id_4824</td>\n      <td>Milan</td>\n      <td>['Spanish']</td>\n      <td>4827.0</td>\n      <td>3.0</td>\n      <td>$$ - $$$</td>\n      <td>260.0</td>\n      <td>[['Average', 'Nice an informal'], ['01/31/2016...</td>\n      <td>/Restaurant_Review-g187849-d1109020-Reviews-Ta...</td>\n      <td>d1109020</td>\n      <td>4</td>\n      <td>2133</td>\n      <td>2</td>\n      <td>[Spanish]</td>\n      <td>1.0</td>\n      <td>0</td>\n      <td>0</td>\n      <td>0</td>\n      <td>0</td>\n      <td>0</td>\n      <td>0</td>\n      <td>0</td>\n      <td>0</td>\n      <td>0</td>\n      <td>0</td>\n      <td>...</td>\n      <td>0</td>\n      <td>0</td>\n      <td>0</td>\n      <td>0</td>\n      <td>0</td>\n      <td>0</td>\n      <td>0</td>\n      <td>0</td>\n      <td>0</td>\n      <td>0</td>\n      <td>0</td>\n      <td>0</td>\n      <td>0</td>\n      <td>0</td>\n      <td>0</td>\n      <td>0</td>\n      <td>0</td>\n      <td>[[Average, Nice an informal], [01/31/2016, 07/...</td>\n      <td>[Average, Nice an informal]</td>\n      <td>[01/31/2016, 07/04/2012]</td>\n      <td>2</td>\n      <td>2</td>\n      <td>2016-01-31</td>\n      <td>2012-07-04</td>\n      <td>1306 days</td>\n    </tr>\n  </tbody>\n</table>\n<p>40000 rows × 179 columns</p>\n</div>"
     },
     "execution_count": 205,
     "metadata": {},
     "output_type": "execute_result"
    }
   ],
   "source": [
    "df"
   ],
   "metadata": {
    "collapsed": false,
    "pycharm": {
     "name": "#%%\n"
    }
   }
  },
  {
   "cell_type": "code",
   "execution_count": 282,
   "outputs": [
    {
     "data": {
      "text/plain": "Timestamp('2018-02-26 00:00:00')"
     },
     "execution_count": 282,
     "metadata": {},
     "output_type": "execute_result"
    }
   ],
   "source": [],
   "metadata": {
    "collapsed": false,
    "pycharm": {
     "name": "#%%\n"
    }
   }
  },
  {
   "cell_type": "code",
   "execution_count": 284,
   "outputs": [],
   "source": [
    "import datetime"
   ],
   "metadata": {
    "collapsed": false,
    "pycharm": {
     "name": "#%%\n"
    }
   }
  },
  {
   "cell_type": "code",
   "execution_count": 288,
   "outputs": [
    {
     "data": {
      "text/plain": "Timedelta('-1101 days +12:05:16.109198')"
     },
     "execution_count": 288,
     "metadata": {},
     "output_type": "execute_result"
    }
   ],
   "source": [
    "df['Dat2'].max() - datetime.datetime.now()"
   ],
   "metadata": {
    "collapsed": false,
    "pycharm": {
     "name": "#%%\n"
    }
   }
  },
  {
   "cell_type": "code",
   "execution_count": null,
   "outputs": [],
   "source": [],
   "metadata": {
    "collapsed": false,
    "pycharm": {
     "name": "#%%\n"
    }
   }
  },
  {
   "cell_type": "code",
   "execution_count": 283,
   "outputs": [
    {
     "ename": "NameError",
     "evalue": "name 'dt' is not defined",
     "output_type": "error",
     "traceback": [
      "\u001B[0;31m---------------------------------------------------------------------------\u001B[0m",
      "\u001B[0;31mNameError\u001B[0m                                 Traceback (most recent call last)",
      "\u001B[0;32m<ipython-input-283-6ff3bf87ba14>\u001B[0m in \u001B[0;36m<module>\u001B[0;34m\u001B[0m\n\u001B[0;32m----> 1\u001B[0;31m \u001B[0mdt\u001B[0m\u001B[0;34m.\u001B[0m\u001B[0mnow\u001B[0m\u001B[0;34m(\u001B[0m\u001B[0;34m)\u001B[0m\u001B[0;34m\u001B[0m\u001B[0;34m\u001B[0m\u001B[0m\n\u001B[0m",
      "\u001B[0;31mNameError\u001B[0m: name 'dt' is not defined"
     ]
    }
   ],
   "source": [
    "dt.now()"
   ],
   "metadata": {
    "collapsed": false,
    "pycharm": {
     "name": "#%%\n"
    }
   }
  },
  {
   "cell_type": "code",
   "execution_count": null,
   "outputs": [],
   "source": [],
   "metadata": {
    "collapsed": false,
    "pycharm": {
     "name": "#%%\n"
    }
   }
  },
  {
   "cell_type": "code",
   "execution_count": null,
   "outputs": [],
   "source": [],
   "metadata": {
    "collapsed": false,
    "pycharm": {
     "name": "#%%\n"
    }
   }
  },
  {
   "cell_type": "code",
   "execution_count": null,
   "outputs": [],
   "source": [],
   "metadata": {
    "collapsed": false,
    "pycharm": {
     "name": "#%%\n"
    }
   }
  },
  {
   "cell_type": "code",
   "execution_count": 206,
   "outputs": [
    {
     "name": "stdout",
     "output_type": "stream",
     "text": [
      "<class 'pandas.core.frame.DataFrame'>\n",
      "Int64Index: 40000 entries, 0 to 39999\n",
      "Columns: 179 entries, Restaurant_id to DatInterval\n",
      "dtypes: datetime64[ns](2), float64(4), int64(4), object(12), timedelta64[ns](1), uint8(156)\n",
      "memory usage: 14.3+ MB\n"
     ]
    }
   ],
   "source": [
    "df.info()"
   ],
   "metadata": {
    "collapsed": false,
    "pycharm": {
     "name": "#%%\n"
    }
   }
  },
  {
   "cell_type": "code",
   "execution_count": 207,
   "outputs": [],
   "source": [
    "# Преобразуем типы\n",
    "df = df.apply(pd.to_numeric, errors='ignore')"
   ],
   "metadata": {
    "collapsed": false,
    "pycharm": {
     "name": "#%%\n"
    }
   }
  },
  {
   "cell_type": "code",
   "execution_count": 208,
   "outputs": [
    {
     "name": "stdout",
     "output_type": "stream",
     "text": [
      "<class 'pandas.core.frame.DataFrame'>\n",
      "Int64Index: 40000 entries, 0 to 39999\n",
      "Columns: 179 entries, Restaurant_id to DatInterval\n",
      "dtypes: float64(5), int64(7), object(11), uint8(156)\n",
      "memory usage: 14.3+ MB\n"
     ]
    }
   ],
   "source": [
    "df.info()\n"
   ],
   "metadata": {
    "collapsed": false,
    "pycharm": {
     "name": "#%%\n"
    }
   }
  },
  {
   "cell_type": "code",
   "execution_count": 208,
   "outputs": [],
   "source": [],
   "metadata": {
    "collapsed": false,
    "pycharm": {
     "name": "#%%\n"
    }
   }
  },
  {
   "cell_type": "code",
   "execution_count": 208,
   "outputs": [],
   "source": [],
   "metadata": {
    "collapsed": false,
    "pycharm": {
     "name": "#%%\n"
    }
   }
  },
  {
   "cell_type": "code",
   "execution_count": 208,
   "outputs": [],
   "source": [],
   "metadata": {
    "collapsed": false,
    "pycharm": {
     "name": "#%%\n"
    }
   }
  },
  {
   "cell_type": "code",
   "execution_count": 208,
   "outputs": [],
   "source": [],
   "metadata": {
    "collapsed": false,
    "pycharm": {
     "name": "#%%\n"
    }
   }
  },
  {
   "cell_type": "code",
   "execution_count": 209,
   "outputs": [
    {
     "name": "stdout",
     "output_type": "stream",
     "text": [
      "Удаление колонки: Restaurant_id\n",
      "Удаление колонки: City\n",
      "Удаление колонки: Cuisine Style\n",
      "Удаление колонки: Price Range\n",
      "Удаление колонки: Reviews\n",
      "Удаление колонки: URL_TA\n",
      "Удаление колонки: ID_TA\n",
      "Удаление колонки: CS\n",
      "Удаление колонки: RevList\n",
      "Удаление колонки: Rev\n",
      "Удаление колонки: Date\n"
     ]
    }
   ],
   "source": [
    "# Удаление колокон с типом Object\n",
    "for column in df.columns:\n",
    "    if df[column].dtype == 'O' :\n",
    "        print ('Удаление колонки:',column)\n",
    "        df.drop(columns=column, inplace=True)"
   ],
   "metadata": {
    "collapsed": false,
    "pycharm": {
     "name": "#%%\n"
    }
   }
  },
  {
   "cell_type": "code",
   "execution_count": 209,
   "outputs": [],
   "source": [],
   "metadata": {
    "collapsed": false,
    "pycharm": {
     "name": "#%%\n"
    }
   }
  },
  {
   "cell_type": "code",
   "execution_count": 210,
   "outputs": [],
   "source": [
    "# Заполнение всех пропусков 0\n",
    "df.fillna(0, inplace=True)"
   ],
   "metadata": {
    "collapsed": false,
    "pycharm": {
     "name": "#%%\n"
    }
   }
  },
  {
   "cell_type": "code",
   "execution_count": 211,
   "outputs": [
    {
     "name": "stdout",
     "output_type": "stream",
     "text": [
      "<class 'pandas.core.frame.DataFrame'>\n",
      "Int64Index: 40000 entries, 0 to 39999\n",
      "Columns: 168 entries, Ranking to DatInterval\n",
      "dtypes: float64(5), int64(7), uint8(156)\n",
      "memory usage: 10.9 MB\n"
     ]
    }
   ],
   "source": [
    "df.info()"
   ],
   "metadata": {
    "collapsed": false,
    "pycharm": {
     "name": "#%%\n"
    }
   }
  },
  {
   "cell_type": "code",
   "execution_count": 211,
   "outputs": [],
   "source": [
    "\n"
   ],
   "metadata": {
    "collapsed": false,
    "pycharm": {
     "name": "#%%\n"
    }
   }
  },
  {
   "cell_type": "markdown",
   "source": [
    "# Разбиваем датафрейм на части, необходимые для обучения и тестирования модели"
   ],
   "metadata": {
    "collapsed": false
   }
  },
  {
   "cell_type": "code",
   "execution_count": 212,
   "outputs": [],
   "source": [
    "# Х - данные с информацией о ресторанах, у - целевая переменная (рейтинги ресторанов)\n",
    "#X = df.drop(['Restaurant_id', 'Rating'], axis = 1)\n",
    "X = df.drop(['Rating'], axis = 1)\n",
    "y = df['Rating']"
   ],
   "metadata": {
    "collapsed": false,
    "pycharm": {
     "name": "#%%\n"
    }
   }
  },
  {
   "cell_type": "code",
   "execution_count": 213,
   "outputs": [],
   "source": [
    "# Загружаем специальный инструмент для разбивки:\n",
    "from sklearn.model_selection import train_test_split\n"
   ],
   "metadata": {
    "collapsed": false,
    "pycharm": {
     "name": "#%%\n"
    }
   }
  },
  {
   "cell_type": "code",
   "execution_count": 214,
   "outputs": [],
   "source": [
    "# Наборы данных с меткой \"train\" будут использоваться для обучения модели, \"test\" - для тестирования.\n",
    "# Для тестирования мы будем использовать 25% от исходного датасета.\n",
    "X_train, X_test, y_train, y_test = train_test_split(X, y, test_size=0.25)"
   ],
   "metadata": {
    "collapsed": false,
    "pycharm": {
     "name": "#%%\n"
    }
   }
  },
  {
   "cell_type": "markdown",
   "source": [
    "# Создаём, обучаем и тестируем модель"
   ],
   "metadata": {
    "collapsed": false
   }
  },
  {
   "cell_type": "code",
   "execution_count": 215,
   "outputs": [],
   "source": [
    "# Импортируем необходимые библиотеки:\n",
    "from sklearn.ensemble import RandomForestRegressor # инструмент для создания и обучения модели\n",
    "from sklearn import metrics # инструменты для оценки точности модели"
   ],
   "metadata": {
    "collapsed": false,
    "pycharm": {
     "name": "#%%\n"
    }
   }
  },
  {
   "cell_type": "code",
   "execution_count": 216,
   "outputs": [],
   "source": [
    "# Создаём модель\n",
    "regr = RandomForestRegressor(n_estimators=100)\n"
   ],
   "metadata": {
    "collapsed": false,
    "pycharm": {
     "name": "#%%\n"
    }
   }
  },
  {
   "cell_type": "code",
   "execution_count": 217,
   "outputs": [
    {
     "data": {
      "text/plain": "RandomForestRegressor()"
     },
     "execution_count": 217,
     "metadata": {},
     "output_type": "execute_result"
    }
   ],
   "source": [
    "# Обучаем модель на тестовом наборе данных\n",
    "regr.fit(X_train, y_train)\n"
   ],
   "metadata": {
    "collapsed": false,
    "pycharm": {
     "name": "#%%\n"
    }
   }
  },
  {
   "cell_type": "code",
   "execution_count": 218,
   "outputs": [],
   "source": [
    "# Используем обученную модель для предсказания рейтинга ресторанов в тестовой выборке.\n",
    "# Предсказанные значения записываем в переменную y_pred\n",
    "y_pred = regr.predict(X_test)\n"
   ],
   "metadata": {
    "collapsed": false,
    "pycharm": {
     "name": "#%%\n"
    }
   }
  },
  {
   "cell_type": "code",
   "execution_count": 219,
   "outputs": [],
   "source": [
    "# Округлим кратно .5\n",
    "y_pred = np.around(y_pred*2)/2\n"
   ],
   "metadata": {
    "collapsed": false,
    "pycharm": {
     "name": "#%%\n"
    }
   }
  },
  {
   "cell_type": "code",
   "execution_count": 220,
   "outputs": [
    {
     "name": "stdout",
     "output_type": "stream",
     "text": [
      "MAE: 0.1788\n"
     ]
    }
   ],
   "source": [
    "# Сравниваем предсказанные значения (y_pred) с реальными (y_test), и смотрим насколько они в среднем отличаются\n",
    "# Метрика называется Mean Absolute Error (MAE) и показывает среднее отклонение предсказанных значений от фактических.\n",
    "print('MAE:', metrics.mean_absolute_error(y_test, y_pred))"
   ],
   "metadata": {
    "collapsed": false,
    "pycharm": {
     "name": "#%%\n"
    }
   }
  },
  {
   "cell_type": "code",
   "execution_count": 220,
   "outputs": [],
   "source": [],
   "metadata": {
    "collapsed": false,
    "pycharm": {
     "name": "#%%\n"
    }
   }
  },
  {
   "cell_type": "code",
   "execution_count": 221,
   "outputs": [
    {
     "data": {
      "text/plain": "<AxesSubplot:>"
     },
     "execution_count": 221,
     "metadata": {},
     "output_type": "execute_result"
    },
    {
     "data": {
      "text/plain": "<Figure size 720x720 with 1 Axes>",
      "image/png": "[encoded data removed]"
     },
     "metadata": {},
     "output_type": "display_data"
    }
   ],
   "source": [
    "# Взял из BaseLine\n",
    "# в RandomForestRegressor есть возможность вывести самые важные признаки для модели\n",
    "sns.set()\n",
    "plt.rcParams['figure.figsize'] = (10,10)\n",
    "feat_importances = pd.Series(regr.feature_importances_, index=X.columns)\n",
    "feat_importances.nlargest(15).plot(kind='barh')"
   ],
   "metadata": {
    "collapsed": false,
    "pycharm": {
     "name": "#%%\n"
    }
   }
  },
  {
   "cell_type": "code",
   "execution_count": 244,
   "outputs": [],
   "source": [],
   "metadata": {
    "collapsed": false,
    "pycharm": {
     "name": "#%%\n"
    }
   }
  },
  {
   "cell_type": "code",
   "execution_count": 244,
   "outputs": [],
   "source": [],
   "metadata": {
    "collapsed": false,
    "pycharm": {
     "name": "#%%\n"
    }
   }
  }
 ],
 "metadata": {
  "kernelspec": {
   "display_name": "Python 3",
   "language": "python",
   "name": "python3"
  },
  "language_info": {
   "codemirror_mode": {
    "name": "ipython",
    "version": 2
   },
   "file_extension": ".py",
   "mimetype": "text/x-python",
   "name": "python",
   "nbconvert_exporter": "python",
   "pygments_lexer": "ipython2",
   "version": "2.7.6"
  }
 },
 "nbformat": 4,
 "nbformat_minor": 0
}