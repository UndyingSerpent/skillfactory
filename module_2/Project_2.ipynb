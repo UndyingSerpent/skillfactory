{
 "cells": [
  {
   "cell_type": "code",
   "execution_count": 2,
   "metadata": {
    "collapsed": true
   },
   "outputs": [],
   "source": [
    "import pandas as pd\n",
    "import matplotlib.pyplot as plt\n",
    "import seaborn as sns\n",
    "import numpy as np\n",
    "from itertools import combinations\n",
    "from scipy.stats import ttest_ind"
   ]
  },
  {
   "cell_type": "code",
   "execution_count": 3,
   "outputs": [],
   "source": [
    "#display.[max_categories, max_columns, max_colwidth, max_info_columns, max_info_rows, max_rows, min_rows]\n",
    "pd.set_option('display.max_rows', 50) # показывать указанное количество строк\n",
    "pd.set_option('display.max_columns', 50) # показывать указанное количество колонок"
   ],
   "metadata": {
    "collapsed": false,
    "pycharm": {
     "name": "#%%\n"
    }
   }
  },
  {
   "cell_type": "code",
   "execution_count": 4,
   "outputs": [],
   "source": [
    "students = pd.read_csv('stud_math.csv')"
   ],
   "metadata": {
    "collapsed": false,
    "pycharm": {
     "name": "#%%\n"
    }
   }
  },
  {
   "cell_type": "code",
   "execution_count": 5,
   "outputs": [
    {
     "name": "stdout",
     "output_type": "stream",
     "text": [
      "<class 'pandas.core.frame.DataFrame'>\n",
      "RangeIndex: 395 entries, 0 to 394\n",
      "Data columns (total 30 columns):\n",
      " #   Column               Non-Null Count  Dtype  \n",
      "---  ------               --------------  -----  \n",
      " 0   school               395 non-null    object \n",
      " 1   sex                  395 non-null    object \n",
      " 2   age                  395 non-null    int64  \n",
      " 3   address              378 non-null    object \n",
      " 4   famsize              368 non-null    object \n",
      " 5   Pstatus              350 non-null    object \n",
      " 6   Medu                 392 non-null    float64\n",
      " 7   Fedu                 371 non-null    float64\n",
      " 8   Mjob                 376 non-null    object \n",
      " 9   Fjob                 359 non-null    object \n",
      " 10  reason               378 non-null    object \n",
      " 11  guardian             364 non-null    object \n",
      " 12  traveltime           367 non-null    float64\n",
      " 13  studytime            388 non-null    float64\n",
      " 14  failures             373 non-null    float64\n",
      " 15  schoolsup            386 non-null    object \n",
      " 16  famsup               356 non-null    object \n",
      " 17  paid                 355 non-null    object \n",
      " 18  activities           381 non-null    object \n",
      " 19  nursery              379 non-null    object \n",
      " 20  studytime, granular  388 non-null    float64\n",
      " 21  higher               375 non-null    object \n",
      " 22  internet             361 non-null    object \n",
      " 23  romantic             364 non-null    object \n",
      " 24  famrel               368 non-null    float64\n",
      " 25  freetime             384 non-null    float64\n",
      " 26  goout                387 non-null    float64\n",
      " 27  health               380 non-null    float64\n",
      " 28  absences             383 non-null    float64\n",
      " 29  score                389 non-null    float64\n",
      "dtypes: float64(12), int64(1), object(17)\n",
      "memory usage: 92.7+ KB\n"
     ]
    }
   ],
   "source": [
    "students.info()"
   ],
   "metadata": {
    "collapsed": false,
    "pycharm": {
     "name": "#%%\n"
    }
   }
  },
  {
   "cell_type": "code",
   "execution_count": 6,
   "outputs": [
    {
     "data": {
      "text/plain": "  school sex  age address famsize Pstatus  Medu  Fedu      Mjob     Fjob  \\\n0     GP   F   18       U     NaN       A   4.0   4.0   at_home  teacher   \n1     GP   F   17       U     GT3     NaN   1.0   1.0   at_home    other   \n2     GP   F   15       U     LE3       T   1.0   1.0   at_home    other   \n3     GP   F   15       U     GT3       T   4.0   2.0    health      NaN   \n4     GP   F   16       U     GT3       T   3.0   3.0     other    other   \n5     GP   M   16       U     LE3       T   4.0   3.0  services    other   \n6     GP   M   16     NaN     LE3       T   2.0   2.0     other    other   \n7     GP   F   17       U     GT3       A   4.0   4.0     other  teacher   \n8     GP   M   15       U     LE3       A   3.0   2.0  services    other   \n9     GP   M   15       U     NaN     NaN   3.0   4.0     other    other   \n\n       reason guardian  traveltime  studytime  failures schoolsup famsup paid  \\\n0      course   mother         2.0        2.0       0.0       yes     no   no   \n1      course   father         1.0        2.0       0.0        no    yes   no   \n2       other   mother         1.0        2.0       3.0       yes     no  NaN   \n3        home   mother         1.0        3.0       0.0        no    yes  yes   \n4        home   father         1.0        2.0       0.0        no    yes  yes   \n5  reputation   mother         1.0        2.0       0.0        no    yes  yes   \n6        home   mother         1.0        2.0       0.0        no     no   no   \n7        home   mother         2.0        2.0       0.0       yes    yes   no   \n8        home   mother         1.0        2.0       0.0        no    yes  yes   \n9        home   mother         1.0        2.0       0.0        no    yes  yes   \n\n  activities nursery  studytime, granular higher internet romantic  famrel  \\\n0         no     yes                 -6.0    yes      NaN       no     4.0   \n1         no      no                 -6.0    yes      yes       no     5.0   \n2         no     yes                 -6.0    yes      yes      NaN     4.0   \n3        yes     yes                 -9.0    yes      yes      yes     3.0   \n4         no     yes                 -6.0    yes       no       no     4.0   \n5        yes     yes                 -6.0    yes      yes       no     5.0   \n6         no     yes                 -6.0    yes      yes       no     4.0   \n7         no     yes                 -6.0    yes       no       no     4.0   \n8         no     yes                 -6.0    yes      yes       no     NaN   \n9        yes     yes                 -6.0    yes      yes       no     5.0   \n\n   freetime  goout  health  absences  score  \n0       3.0    4.0     3.0       6.0   30.0  \n1       3.0    3.0     3.0       4.0   30.0  \n2       3.0    2.0     3.0      10.0   50.0  \n3       2.0    2.0     5.0       2.0   75.0  \n4       3.0    2.0     5.0       4.0   50.0  \n5       4.0    2.0     5.0      10.0   75.0  \n6       4.0    4.0     3.0       0.0   55.0  \n7       1.0    4.0     1.0       6.0   30.0  \n8       2.0    2.0     1.0       0.0   95.0  \n9       5.0    1.0     5.0       0.0   75.0  ",
      "text/html": "<div>\n<style scoped>\n    .dataframe tbody tr th:only-of-type {\n        vertical-align: middle;\n    }\n\n    .dataframe tbody tr th {\n        vertical-align: top;\n    }\n\n    .dataframe thead th {\n        text-align: right;\n    }\n</style>\n<table border=\"1\" class=\"dataframe\">\n  <thead>\n    <tr style=\"text-align: right;\">\n      <th></th>\n      <th>school</th>\n      <th>sex</th>\n      <th>age</th>\n      <th>address</th>\n      <th>famsize</th>\n      <th>Pstatus</th>\n      <th>Medu</th>\n      <th>Fedu</th>\n      <th>Mjob</th>\n      <th>Fjob</th>\n      <th>reason</th>\n      <th>guardian</th>\n      <th>traveltime</th>\n      <th>studytime</th>\n      <th>failures</th>\n      <th>schoolsup</th>\n      <th>famsup</th>\n      <th>paid</th>\n      <th>activities</th>\n      <th>nursery</th>\n      <th>studytime, granular</th>\n      <th>higher</th>\n      <th>internet</th>\n      <th>romantic</th>\n      <th>famrel</th>\n      <th>freetime</th>\n      <th>goout</th>\n      <th>health</th>\n      <th>absences</th>\n      <th>score</th>\n    </tr>\n  </thead>\n  <tbody>\n    <tr>\n      <th>0</th>\n      <td>GP</td>\n      <td>F</td>\n      <td>18</td>\n      <td>U</td>\n      <td>NaN</td>\n      <td>A</td>\n      <td>4.0</td>\n      <td>4.0</td>\n      <td>at_home</td>\n      <td>teacher</td>\n      <td>course</td>\n      <td>mother</td>\n      <td>2.0</td>\n      <td>2.0</td>\n      <td>0.0</td>\n      <td>yes</td>\n      <td>no</td>\n      <td>no</td>\n      <td>no</td>\n      <td>yes</td>\n      <td>-6.0</td>\n      <td>yes</td>\n      <td>NaN</td>\n      <td>no</td>\n      <td>4.0</td>\n      <td>3.0</td>\n      <td>4.0</td>\n      <td>3.0</td>\n      <td>6.0</td>\n      <td>30.0</td>\n    </tr>\n    <tr>\n      <th>1</th>\n      <td>GP</td>\n      <td>F</td>\n      <td>17</td>\n      <td>U</td>\n      <td>GT3</td>\n      <td>NaN</td>\n      <td>1.0</td>\n      <td>1.0</td>\n      <td>at_home</td>\n      <td>other</td>\n      <td>course</td>\n      <td>father</td>\n      <td>1.0</td>\n      <td>2.0</td>\n      <td>0.0</td>\n      <td>no</td>\n      <td>yes</td>\n      <td>no</td>\n      <td>no</td>\n      <td>no</td>\n      <td>-6.0</td>\n      <td>yes</td>\n      <td>yes</td>\n      <td>no</td>\n      <td>5.0</td>\n      <td>3.0</td>\n      <td>3.0</td>\n      <td>3.0</td>\n      <td>4.0</td>\n      <td>30.0</td>\n    </tr>\n    <tr>\n      <th>2</th>\n      <td>GP</td>\n      <td>F</td>\n      <td>15</td>\n      <td>U</td>\n      <td>LE3</td>\n      <td>T</td>\n      <td>1.0</td>\n      <td>1.0</td>\n      <td>at_home</td>\n      <td>other</td>\n      <td>other</td>\n      <td>mother</td>\n      <td>1.0</td>\n      <td>2.0</td>\n      <td>3.0</td>\n      <td>yes</td>\n      <td>no</td>\n      <td>NaN</td>\n      <td>no</td>\n      <td>yes</td>\n      <td>-6.0</td>\n      <td>yes</td>\n      <td>yes</td>\n      <td>NaN</td>\n      <td>4.0</td>\n      <td>3.0</td>\n      <td>2.0</td>\n      <td>3.0</td>\n      <td>10.0</td>\n      <td>50.0</td>\n    </tr>\n    <tr>\n      <th>3</th>\n      <td>GP</td>\n      <td>F</td>\n      <td>15</td>\n      <td>U</td>\n      <td>GT3</td>\n      <td>T</td>\n      <td>4.0</td>\n      <td>2.0</td>\n      <td>health</td>\n      <td>NaN</td>\n      <td>home</td>\n      <td>mother</td>\n      <td>1.0</td>\n      <td>3.0</td>\n      <td>0.0</td>\n      <td>no</td>\n      <td>yes</td>\n      <td>yes</td>\n      <td>yes</td>\n      <td>yes</td>\n      <td>-9.0</td>\n      <td>yes</td>\n      <td>yes</td>\n      <td>yes</td>\n      <td>3.0</td>\n      <td>2.0</td>\n      <td>2.0</td>\n      <td>5.0</td>\n      <td>2.0</td>\n      <td>75.0</td>\n    </tr>\n    <tr>\n      <th>4</th>\n      <td>GP</td>\n      <td>F</td>\n      <td>16</td>\n      <td>U</td>\n      <td>GT3</td>\n      <td>T</td>\n      <td>3.0</td>\n      <td>3.0</td>\n      <td>other</td>\n      <td>other</td>\n      <td>home</td>\n      <td>father</td>\n      <td>1.0</td>\n      <td>2.0</td>\n      <td>0.0</td>\n      <td>no</td>\n      <td>yes</td>\n      <td>yes</td>\n      <td>no</td>\n      <td>yes</td>\n      <td>-6.0</td>\n      <td>yes</td>\n      <td>no</td>\n      <td>no</td>\n      <td>4.0</td>\n      <td>3.0</td>\n      <td>2.0</td>\n      <td>5.0</td>\n      <td>4.0</td>\n      <td>50.0</td>\n    </tr>\n    <tr>\n      <th>5</th>\n      <td>GP</td>\n      <td>M</td>\n      <td>16</td>\n      <td>U</td>\n      <td>LE3</td>\n      <td>T</td>\n      <td>4.0</td>\n      <td>3.0</td>\n      <td>services</td>\n      <td>other</td>\n      <td>reputation</td>\n      <td>mother</td>\n      <td>1.0</td>\n      <td>2.0</td>\n      <td>0.0</td>\n      <td>no</td>\n      <td>yes</td>\n      <td>yes</td>\n      <td>yes</td>\n      <td>yes</td>\n      <td>-6.0</td>\n      <td>yes</td>\n      <td>yes</td>\n      <td>no</td>\n      <td>5.0</td>\n      <td>4.0</td>\n      <td>2.0</td>\n      <td>5.0</td>\n      <td>10.0</td>\n      <td>75.0</td>\n    </tr>\n    <tr>\n      <th>6</th>\n      <td>GP</td>\n      <td>M</td>\n      <td>16</td>\n      <td>NaN</td>\n      <td>LE3</td>\n      <td>T</td>\n      <td>2.0</td>\n      <td>2.0</td>\n      <td>other</td>\n      <td>other</td>\n      <td>home</td>\n      <td>mother</td>\n      <td>1.0</td>\n      <td>2.0</td>\n      <td>0.0</td>\n      <td>no</td>\n      <td>no</td>\n      <td>no</td>\n      <td>no</td>\n      <td>yes</td>\n      <td>-6.0</td>\n      <td>yes</td>\n      <td>yes</td>\n      <td>no</td>\n      <td>4.0</td>\n      <td>4.0</td>\n      <td>4.0</td>\n      <td>3.0</td>\n      <td>0.0</td>\n      <td>55.0</td>\n    </tr>\n    <tr>\n      <th>7</th>\n      <td>GP</td>\n      <td>F</td>\n      <td>17</td>\n      <td>U</td>\n      <td>GT3</td>\n      <td>A</td>\n      <td>4.0</td>\n      <td>4.0</td>\n      <td>other</td>\n      <td>teacher</td>\n      <td>home</td>\n      <td>mother</td>\n      <td>2.0</td>\n      <td>2.0</td>\n      <td>0.0</td>\n      <td>yes</td>\n      <td>yes</td>\n      <td>no</td>\n      <td>no</td>\n      <td>yes</td>\n      <td>-6.0</td>\n      <td>yes</td>\n      <td>no</td>\n      <td>no</td>\n      <td>4.0</td>\n      <td>1.0</td>\n      <td>4.0</td>\n      <td>1.0</td>\n      <td>6.0</td>\n      <td>30.0</td>\n    </tr>\n    <tr>\n      <th>8</th>\n      <td>GP</td>\n      <td>M</td>\n      <td>15</td>\n      <td>U</td>\n      <td>LE3</td>\n      <td>A</td>\n      <td>3.0</td>\n      <td>2.0</td>\n      <td>services</td>\n      <td>other</td>\n      <td>home</td>\n      <td>mother</td>\n      <td>1.0</td>\n      <td>2.0</td>\n      <td>0.0</td>\n      <td>no</td>\n      <td>yes</td>\n      <td>yes</td>\n      <td>no</td>\n      <td>yes</td>\n      <td>-6.0</td>\n      <td>yes</td>\n      <td>yes</td>\n      <td>no</td>\n      <td>NaN</td>\n      <td>2.0</td>\n      <td>2.0</td>\n      <td>1.0</td>\n      <td>0.0</td>\n      <td>95.0</td>\n    </tr>\n    <tr>\n      <th>9</th>\n      <td>GP</td>\n      <td>M</td>\n      <td>15</td>\n      <td>U</td>\n      <td>NaN</td>\n      <td>NaN</td>\n      <td>3.0</td>\n      <td>4.0</td>\n      <td>other</td>\n      <td>other</td>\n      <td>home</td>\n      <td>mother</td>\n      <td>1.0</td>\n      <td>2.0</td>\n      <td>0.0</td>\n      <td>no</td>\n      <td>yes</td>\n      <td>yes</td>\n      <td>yes</td>\n      <td>yes</td>\n      <td>-6.0</td>\n      <td>yes</td>\n      <td>yes</td>\n      <td>no</td>\n      <td>5.0</td>\n      <td>5.0</td>\n      <td>1.0</td>\n      <td>5.0</td>\n      <td>0.0</td>\n      <td>75.0</td>\n    </tr>\n  </tbody>\n</table>\n</div>"
     },
     "execution_count": 6,
     "metadata": {},
     "output_type": "execute_result"
    }
   ],
   "source": [
    "students.head(10)"
   ],
   "metadata": {
    "collapsed": false,
    "pycharm": {
     "name": "#%%\n"
    }
   }
  },
  {
   "cell_type": "code",
   "execution_count": 7,
   "outputs": [
    {
     "data": {
      "text/plain": "              age        Medu        Fedu  traveltime   studytime    failures  \\\ncount  395.000000  392.000000  371.000000  367.000000  388.000000  373.000000   \nmean    16.696203    2.750000    2.614555    1.438692    2.038660    0.337802   \nstd      1.276043    1.098127    2.228732    0.694181    0.842078    0.743135   \nmin     15.000000    0.000000    0.000000    1.000000    1.000000    0.000000   \n25%     16.000000    2.000000    2.000000    1.000000    1.000000    0.000000   \n50%     17.000000    3.000000    2.000000    1.000000    2.000000    0.000000   \n75%     18.000000    4.000000    3.000000    2.000000    2.000000    0.000000   \nmax     22.000000    4.000000   40.000000    4.000000    4.000000    3.000000   \n\n       studytime, granular      famrel    freetime       goout      health  \\\ncount           388.000000  368.000000  384.000000  387.000000  380.000000   \nmean             -6.115979    3.937500    3.231771    3.105943    3.531579   \nstd               2.526235    0.927277    0.993940    1.115896    1.396019   \nmin             -12.000000   -1.000000    1.000000    1.000000    1.000000   \n25%              -6.000000    4.000000    3.000000    2.000000    3.000000   \n50%              -6.000000    4.000000    3.000000    3.000000    4.000000   \n75%              -3.000000    5.000000    4.000000    4.000000    5.000000   \nmax              -3.000000    5.000000    5.000000    5.000000    5.000000   \n\n         absences       score  \ncount  383.000000  389.000000  \nmean     7.279373   52.262211  \nstd     23.465197   22.919022  \nmin      0.000000    0.000000  \n25%      0.000000   40.000000  \n50%      4.000000   55.000000  \n75%      8.000000   70.000000  \nmax    385.000000  100.000000  ",
      "text/html": "<div>\n<style scoped>\n    .dataframe tbody tr th:only-of-type {\n        vertical-align: middle;\n    }\n\n    .dataframe tbody tr th {\n        vertical-align: top;\n    }\n\n    .dataframe thead th {\n        text-align: right;\n    }\n</style>\n<table border=\"1\" class=\"dataframe\">\n  <thead>\n    <tr style=\"text-align: right;\">\n      <th></th>\n      <th>age</th>\n      <th>Medu</th>\n      <th>Fedu</th>\n      <th>traveltime</th>\n      <th>studytime</th>\n      <th>failures</th>\n      <th>studytime, granular</th>\n      <th>famrel</th>\n      <th>freetime</th>\n      <th>goout</th>\n      <th>health</th>\n      <th>absences</th>\n      <th>score</th>\n    </tr>\n  </thead>\n  <tbody>\n    <tr>\n      <th>count</th>\n      <td>395.000000</td>\n      <td>392.000000</td>\n      <td>371.000000</td>\n      <td>367.000000</td>\n      <td>388.000000</td>\n      <td>373.000000</td>\n      <td>388.000000</td>\n      <td>368.000000</td>\n      <td>384.000000</td>\n      <td>387.000000</td>\n      <td>380.000000</td>\n      <td>383.000000</td>\n      <td>389.000000</td>\n    </tr>\n    <tr>\n      <th>mean</th>\n      <td>16.696203</td>\n      <td>2.750000</td>\n      <td>2.614555</td>\n      <td>1.438692</td>\n      <td>2.038660</td>\n      <td>0.337802</td>\n      <td>-6.115979</td>\n      <td>3.937500</td>\n      <td>3.231771</td>\n      <td>3.105943</td>\n      <td>3.531579</td>\n      <td>7.279373</td>\n      <td>52.262211</td>\n    </tr>\n    <tr>\n      <th>std</th>\n      <td>1.276043</td>\n      <td>1.098127</td>\n      <td>2.228732</td>\n      <td>0.694181</td>\n      <td>0.842078</td>\n      <td>0.743135</td>\n      <td>2.526235</td>\n      <td>0.927277</td>\n      <td>0.993940</td>\n      <td>1.115896</td>\n      <td>1.396019</td>\n      <td>23.465197</td>\n      <td>22.919022</td>\n    </tr>\n    <tr>\n      <th>min</th>\n      <td>15.000000</td>\n      <td>0.000000</td>\n      <td>0.000000</td>\n      <td>1.000000</td>\n      <td>1.000000</td>\n      <td>0.000000</td>\n      <td>-12.000000</td>\n      <td>-1.000000</td>\n      <td>1.000000</td>\n      <td>1.000000</td>\n      <td>1.000000</td>\n      <td>0.000000</td>\n      <td>0.000000</td>\n    </tr>\n    <tr>\n      <th>25%</th>\n      <td>16.000000</td>\n      <td>2.000000</td>\n      <td>2.000000</td>\n      <td>1.000000</td>\n      <td>1.000000</td>\n      <td>0.000000</td>\n      <td>-6.000000</td>\n      <td>4.000000</td>\n      <td>3.000000</td>\n      <td>2.000000</td>\n      <td>3.000000</td>\n      <td>0.000000</td>\n      <td>40.000000</td>\n    </tr>\n    <tr>\n      <th>50%</th>\n      <td>17.000000</td>\n      <td>3.000000</td>\n      <td>2.000000</td>\n      <td>1.000000</td>\n      <td>2.000000</td>\n      <td>0.000000</td>\n      <td>-6.000000</td>\n      <td>4.000000</td>\n      <td>3.000000</td>\n      <td>3.000000</td>\n      <td>4.000000</td>\n      <td>4.000000</td>\n      <td>55.000000</td>\n    </tr>\n    <tr>\n      <th>75%</th>\n      <td>18.000000</td>\n      <td>4.000000</td>\n      <td>3.000000</td>\n      <td>2.000000</td>\n      <td>2.000000</td>\n      <td>0.000000</td>\n      <td>-3.000000</td>\n      <td>5.000000</td>\n      <td>4.000000</td>\n      <td>4.000000</td>\n      <td>5.000000</td>\n      <td>8.000000</td>\n      <td>70.000000</td>\n    </tr>\n    <tr>\n      <th>max</th>\n      <td>22.000000</td>\n      <td>4.000000</td>\n      <td>40.000000</td>\n      <td>4.000000</td>\n      <td>4.000000</td>\n      <td>3.000000</td>\n      <td>-3.000000</td>\n      <td>5.000000</td>\n      <td>5.000000</td>\n      <td>5.000000</td>\n      <td>5.000000</td>\n      <td>385.000000</td>\n      <td>100.000000</td>\n    </tr>\n  </tbody>\n</table>\n</div>"
     },
     "execution_count": 7,
     "metadata": {},
     "output_type": "execute_result"
    }
   ],
   "source": [
    "students.describe()"
   ],
   "metadata": {
    "collapsed": false,
    "pycharm": {
     "name": "#%%\n"
    }
   }
  },
  {
   "cell_type": "markdown",
   "source": [
    "Посмотрим на переменные, которые содержит датасет:\n",
    "\n",
    "1. school — аббревиатура школы, в которой учится ученик\n",
    "2. sex — пол ученика ('F' - женский, 'M' - мужской)\n",
    "3. age — возраст ученика (от 15 до 22)\n",
    "4. address — тип адреса ученика ('U' - городской, 'R' - за городом)\n",
    "5. famsize — размер семьи('LE3' <= 3, 'GT3' >3)\n",
    "6. Pstatus — статус совместного жилья родителей ('T' - живут вместе 'A' - раздельно)\n",
    "7. Medu — образование матери (0 - нет, 1 - 4 класса, 2 - 5-9 классы, 3 - среднее специальное или 11 классов, 4 - высшее)\n",
    "8. Fedu — образование отца (0 - нет, 1 - 4 класса, 2 - 5-9 классы, 3 - среднее специальное или 11 классов, 4 - высшее)\n",
    "9. Mjob — работа матери ('teacher' - учитель, 'health' - сфера здравоохранения, 'services' - гос служба, 'at_home' - не работает, 'other' - другое)\n",
    "10. Fjob — работа отца ('teacher' - учитель, 'health' - сфера здравоохранения, 'services' - гос служба, 'at_home' - не работает, 'other' - другое)\n",
    "11. reason — причина выбора школы ('home' - близость к дому, 'reputation' - репутация школы, 'course' - образовательная программа, 'other' - другое)\n",
    "12. guardian — опекун ('mother' - мать, 'father' - отец, 'other' - другое)\n",
    "13. traveltime — время в пути до школы (1 - <15 мин., 2 - 15-30 мин., 3 - 30-60 мин., 4 - >60 мин.)\n",
    "14. studytime — время на учёбу помимо школы в неделю (1 - <2 часов, 2 - 2-5 часов, 3 - 5-10 часов, 4 - >10 часов)\n",
    "15. failures — количество внеучебных неудач (n, если 1<=n<=3, иначе 0)\n",
    "16. schoolsup — дополнительная образовательная поддержка (yes или no)\n",
    "17. famsup — семейная образовательная поддержка (yes или no)\n",
    "18. paid — дополнительные платные занятия по математике (yes или no)\n",
    "19. activities — дополнительные внеучебные занятия (yes или no)\n",
    "20. nursery — посещал детский сад (yes или no)\n",
    "21. higher — хочет получить высшее образование (yes или no)\n",
    "22. internet — наличие интернета дома (yes или no)\n",
    "23. romantic — в романтических отношениях (yes или no)\n",
    "24. famrel — семейные отношения (от 1 - очень плохо до 5 - очень хорошо)\n",
    "25. freetime — свободное время после школы (от 1 - очень мало до 5 - очень много)\n",
    "26. goout — проведение времени с друзьями (от 1 - очень мало до 5 - очень много)\n",
    "27. health — текущее состояние здоровья (от 1 - очень плохо до 5 - очень хорошо)\n",
    "28. absences — количество пропущенных занятий\n",
    "29. score — баллы по госэкзамену по математике"
   ],
   "metadata": {
    "collapsed": false,
    "pycharm": {
     "name": "#%% md\n"
    }
   }
  },
  {
   "cell_type": "code",
   "execution_count": 7,
   "outputs": [],
   "source": [],
   "metadata": {
    "collapsed": false,
    "pycharm": {
     "name": "#%%\n"
    }
   }
  },
  {
   "cell_type": "markdown",
   "source": [
    "1. Проведите первичную обработку данных. Так как данных много, стоит написать функции, которые можно применять к столбцам определённого типа."
   ],
   "metadata": {
    "collapsed": false,
    "pycharm": {
     "name": "#%% md\n"
    }
   }
  },
  {
   "cell_type": "markdown",
   "source": [
    "2. Посмотрите на распределение признака для числовых переменных, устраните выбросы."
   ],
   "metadata": {
    "collapsed": false
   }
  },
  {
   "cell_type": "markdown",
   "source": [
    "3. Оцените количество уникальных значений для номинативных переменных."
   ],
   "metadata": {
    "collapsed": false
   }
  },
  {
   "cell_type": "markdown",
   "source": [
    "4. По необходимости преобразуйте данные"
   ],
   "metadata": {
    "collapsed": false
   }
  },
  {
   "cell_type": "markdown",
   "source": [
    "5. Проведите корреляционный анализ количественных переменных"
   ],
   "metadata": {
    "collapsed": false
   }
  },
  {
   "cell_type": "markdown",
   "source": [
    "6. Отберите не коррелирующие переменные."
   ],
   "metadata": {
    "collapsed": false
   }
  },
  {
   "cell_type": "markdown",
   "source": [
    "7. Проанализируйте номинативные переменные и устраните те, которые не влияют на предсказываемую величину (в нашем случае — на переменную score)."
   ],
   "metadata": {
    "collapsed": false
   }
  },
  {
   "cell_type": "markdown",
   "source": [
    "8. Не забудьте сформулировать выводы относительно качества данных и тех переменных, которые вы будете использовать в дальнейшем построении модели."
   ],
   "metadata": {
    "collapsed": false
   }
  },
  {
   "cell_type": "code",
   "execution_count": 7,
   "outputs": [],
   "source": [],
   "metadata": {
    "collapsed": false,
    "pycharm": {
     "name": "#%%\n"
    }
   }
  },
  {
   "cell_type": "code",
   "execution_count": 8,
   "outputs": [],
   "source": [
    "# Для удобства использования переименуем названия столбцов\n",
    "# Уберем длинные нзвания и заглавные буквы\n",
    "students.columns = [column_name.lower() for column_name in students.columns]\n",
    "students.rename({'studytime, granular':'studytimegranular'}, axis='columns', inplace=True)"
   ],
   "metadata": {
    "collapsed": false,
    "pycharm": {
     "name": "#%%\n"
    }
   }
  },
  {
   "cell_type": "markdown",
   "source": [
    "# scool\n",
    "аббревиатура школы, в которой учится ученик"
   ],
   "metadata": {
    "collapsed": false,
    "pycharm": {
     "name": "#%% md\n"
    }
   }
  },
  {
   "cell_type": "code",
   "execution_count": 9,
   "outputs": [
    {
     "data": {
      "text/plain": "GP    349\nMS     46\nName: school, dtype: int64"
     },
     "execution_count": 9,
     "metadata": {},
     "output_type": "execute_result"
    }
   ],
   "source": [
    "students.school.value_counts()"
   ],
   "metadata": {
    "collapsed": false,
    "pycharm": {
     "name": "#%%\n"
    }
   }
  },
  {
   "cell_type": "code",
   "execution_count": 10,
   "outputs": [
    {
     "name": "stdout",
     "output_type": "stream",
     "text": [
      "<class 'pandas.core.frame.DataFrame'>\n",
      "RangeIndex: 395 entries, 0 to 394\n",
      "Data columns (total 1 columns):\n",
      " #   Column  Non-Null Count  Dtype \n",
      "---  ------  --------------  ----- \n",
      " 0   school  395 non-null    object\n",
      "dtypes: object(1)\n",
      "memory usage: 3.2+ KB\n"
     ]
    }
   ],
   "source": [
    "students.loc[:, ['school']].info()"
   ],
   "metadata": {
    "collapsed": false,
    "pycharm": {
     "name": "#%%\n"
    }
   }
  },
  {
   "cell_type": "markdown",
   "source": [
    "Пропусков нет.\n",
    "Всего два уникальных значения, при чем \"GP\" сильно больше"
   ],
   "metadata": {
    "collapsed": false,
    "pycharm": {
     "name": "#%% md\n"
    }
   }
  },
  {
   "cell_type": "markdown",
   "source": [
    "# sex\n",
    "пол ученика ('F' - женский, 'M' - мужской)"
   ],
   "metadata": {
    "collapsed": false,
    "pycharm": {
     "name": "#%% md\n"
    }
   }
  },
  {
   "cell_type": "code",
   "execution_count": 11,
   "outputs": [
    {
     "data": {
      "text/plain": "F    208\nM    187\nName: sex, dtype: int64"
     },
     "execution_count": 11,
     "metadata": {},
     "output_type": "execute_result"
    }
   ],
   "source": [
    "students.sex.value_counts()"
   ],
   "metadata": {
    "collapsed": false,
    "pycharm": {
     "name": "#%%\n"
    }
   }
  },
  {
   "cell_type": "code",
   "execution_count": 12,
   "outputs": [
    {
     "name": "stdout",
     "output_type": "stream",
     "text": [
      "<class 'pandas.core.frame.DataFrame'>\n",
      "RangeIndex: 395 entries, 0 to 394\n",
      "Data columns (total 1 columns):\n",
      " #   Column  Non-Null Count  Dtype \n",
      "---  ------  --------------  ----- \n",
      " 0   sex     395 non-null    object\n",
      "dtypes: object(1)\n",
      "memory usage: 3.2+ KB\n"
     ]
    }
   ],
   "source": [
    "students.loc[:, ['sex']].info()"
   ],
   "metadata": {
    "collapsed": false,
    "pycharm": {
     "name": "#%%\n"
    }
   }
  },
  {
   "cell_type": "markdown",
   "source": [
    "Пропусков нет.\n",
    "Всего два уникальных значения.\n",
    "Учеников женского пола немного больше."
   ],
   "metadata": {
    "collapsed": false,
    "pycharm": {
     "name": "#%% md\n"
    }
   }
  },
  {
   "cell_type": "markdown",
   "source": [
    "# age\n",
    "возраст ученика (от 15 до 22)"
   ],
   "metadata": {
    "collapsed": false,
    "pycharm": {
     "name": "#%% md\n"
    }
   }
  },
  {
   "cell_type": "markdown",
   "source": [
    "Числовое значение и без пропусков.\n",
    "Посмотрим на распределение."
   ],
   "metadata": {
    "collapsed": false,
    "pycharm": {
     "name": "#%% md\n"
    }
   }
  },
  {
   "cell_type": "code",
   "execution_count": 13,
   "outputs": [
    {
     "data": {
      "text/plain": "<AxesSubplot:xlabel='age', ylabel='Count'>"
     },
     "execution_count": 13,
     "metadata": {},
     "output_type": "execute_result"
    },
    {
     "data": {
      "text/plain": "<Figure size 432x288 with 1 Axes>",
      "image/png": "[encoded data removed]"
     },
     "metadata": {
      "needs_background": "light"
     },
     "output_type": "display_data"
    }
   ],
   "source": [
    "sns.histplot(x=students.age, bins=8)"
   ],
   "metadata": {
    "collapsed": false,
    "pycharm": {
     "name": "#%%\n"
    }
   }
  },
  {
   "cell_type": "code",
   "execution_count": 14,
   "outputs": [
    {
     "data": {
      "text/plain": "count    395.000000\nmean      16.696203\nstd        1.276043\nmin       15.000000\n25%       16.000000\n50%       17.000000\n75%       18.000000\nmax       22.000000\nName: age, dtype: float64"
     },
     "execution_count": 14,
     "metadata": {},
     "output_type": "execute_result"
    }
   ],
   "source": [
    "students.age.describe()"
   ],
   "metadata": {
    "collapsed": false,
    "pycharm": {
     "name": "#%%\n"
    }
   }
  },
  {
   "cell_type": "code",
   "execution_count": 15,
   "outputs": [
    {
     "data": {
      "text/plain": "16    104\n17     98\n18     82\n15     82\n19     24\n20      3\n22      1\n21      1\nName: age, dtype: int64"
     },
     "execution_count": 15,
     "metadata": {},
     "output_type": "execute_result"
    }
   ],
   "source": [
    "students.age.value_counts()"
   ],
   "metadata": {
    "collapsed": false,
    "pycharm": {
     "name": "#%%\n"
    }
   }
  },
  {
   "cell_type": "code",
   "execution_count": 16,
   "outputs": [
    {
     "data": {
      "text/plain": "<AxesSubplot:xlabel='age'>"
     },
     "execution_count": 16,
     "metadata": {},
     "output_type": "execute_result"
    },
    {
     "data": {
      "text/plain": "<Figure size 432x288 with 1 Axes>",
      "image/png": "[encoded data removed]"
     },
     "metadata": {
      "needs_background": "light"
     },
     "output_type": "display_data"
    }
   ],
   "source": [
    "sns.boxplot(x=students.age)"
   ],
   "metadata": {
    "collapsed": false,
    "pycharm": {
     "name": "#%%\n"
    }
   }
  },
  {
   "cell_type": "markdown",
   "source": [
    "Значение 22 года встречается один раз и находится за правым усом (Q3 + 1.5 * IQR), что является выбросом."
   ],
   "metadata": {
    "collapsed": false,
    "pycharm": {
     "name": "#%% md\n"
    }
   }
  },
  {
   "cell_type": "code",
   "execution_count": 17,
   "outputs": [
    {
     "name": "stdout",
     "output_type": "stream",
     "text": [
      "25-й перцентиль: 16.0, 75-й перцентиль: 18.0, IQR: 2.0,  Границы выбросов: [13.0, 21.0].\n"
     ]
    }
   ],
   "source": [
    "median = students.age.median() #медиана\n",
    "\n",
    "perc25 = students.age.quantile(0.25) # Q1\n",
    "perc75 = students.age.quantile(0.75) # Q3\n",
    "IQR = perc75 - perc25 #межквартильных размах\n",
    "\n",
    "print(\n",
    "'25-й перцентиль: {},'.format(perc25),\n",
    "'75-й перцентиль: {},'.format(perc75),\n",
    "\"IQR: {}, \".format(IQR),\n",
    "\"Границы выбросов: [{f}, {l}].\".format(f=perc25 - 1.5*IQR, l=perc75 + 1.5*IQR))"
   ],
   "metadata": {
    "collapsed": false,
    "pycharm": {
     "name": "#%%\n"
    }
   }
  },
  {
   "cell_type": "markdown",
   "source": [
    "Но здравый смысл подсказывает нам, что в соответствии со школьной системой в США, все что > 19 лет - выбросы"
   ],
   "metadata": {
    "collapsed": false,
    "pycharm": {
     "name": "#%% md\n"
    }
   }
  },
  {
   "cell_type": "code",
   "execution_count": 18,
   "outputs": [
    {
     "data": {
      "text/plain": "    school sex  age address famsize pstatus  medu  fedu      mjob      fjob  \\\n247     GP   M   22       U     GT3       T   3.0   1.0  services  services   \n306     GP   M   20       U     GT3       A   3.0   2.0  services     other   \n376     MS   F   20     NaN     GT3       T   4.0   2.0    health     other   \n390     MS   M   20       U     LE3       A   2.0   2.0  services  services   \n392     MS   M   21       R     GT3       T   1.0   1.0     other     other   \n\n     reason guardian  traveltime  studytime  failures schoolsup famsup paid  \\\n247   other   mother         1.0        1.0       3.0        no     no   no   \n306  course    other         1.0        1.0       0.0        no     no   no   \n376  course      NaN         2.0        3.0       2.0        no    yes  yes   \n390  course      NaN         1.0        2.0       2.0        no    yes  yes   \n392  course      NaN         1.0        1.0       3.0       NaN     no   no   \n\n    activities nursery  studytimegranular higher internet romantic  famrel  \\\n247         no      no               -3.0     no      yes      yes     5.0   \n306        yes     yes               -3.0    yes       no       no     5.0   \n376         no      no               -9.0    yes      yes      yes     5.0   \n390         no     yes               -6.0    yes       no       no     5.0   \n392         no      no               -3.0    NaN       no       no     5.0   \n\n     freetime  goout  health  absences  score  \n247       4.0    5.0     1.0      16.0   40.0  \n306       5.0    3.0     5.0       0.0   90.0  \n376       4.0    3.0     3.0       4.0   75.0  \n390       5.0    4.0     4.0     212.0   45.0  \n392       5.0    3.0     3.0       3.0   35.0  ",
      "text/html": "<div>\n<style scoped>\n    .dataframe tbody tr th:only-of-type {\n        vertical-align: middle;\n    }\n\n    .dataframe tbody tr th {\n        vertical-align: top;\n    }\n\n    .dataframe thead th {\n        text-align: right;\n    }\n</style>\n<table border=\"1\" class=\"dataframe\">\n  <thead>\n    <tr style=\"text-align: right;\">\n      <th></th>\n      <th>school</th>\n      <th>sex</th>\n      <th>age</th>\n      <th>address</th>\n      <th>famsize</th>\n      <th>pstatus</th>\n      <th>medu</th>\n      <th>fedu</th>\n      <th>mjob</th>\n      <th>fjob</th>\n      <th>reason</th>\n      <th>guardian</th>\n      <th>traveltime</th>\n      <th>studytime</th>\n      <th>failures</th>\n      <th>schoolsup</th>\n      <th>famsup</th>\n      <th>paid</th>\n      <th>activities</th>\n      <th>nursery</th>\n      <th>studytimegranular</th>\n      <th>higher</th>\n      <th>internet</th>\n      <th>romantic</th>\n      <th>famrel</th>\n      <th>freetime</th>\n      <th>goout</th>\n      <th>health</th>\n      <th>absences</th>\n      <th>score</th>\n    </tr>\n  </thead>\n  <tbody>\n    <tr>\n      <th>247</th>\n      <td>GP</td>\n      <td>M</td>\n      <td>22</td>\n      <td>U</td>\n      <td>GT3</td>\n      <td>T</td>\n      <td>3.0</td>\n      <td>1.0</td>\n      <td>services</td>\n      <td>services</td>\n      <td>other</td>\n      <td>mother</td>\n      <td>1.0</td>\n      <td>1.0</td>\n      <td>3.0</td>\n      <td>no</td>\n      <td>no</td>\n      <td>no</td>\n      <td>no</td>\n      <td>no</td>\n      <td>-3.0</td>\n      <td>no</td>\n      <td>yes</td>\n      <td>yes</td>\n      <td>5.0</td>\n      <td>4.0</td>\n      <td>5.0</td>\n      <td>1.0</td>\n      <td>16.0</td>\n      <td>40.0</td>\n    </tr>\n    <tr>\n      <th>306</th>\n      <td>GP</td>\n      <td>M</td>\n      <td>20</td>\n      <td>U</td>\n      <td>GT3</td>\n      <td>A</td>\n      <td>3.0</td>\n      <td>2.0</td>\n      <td>services</td>\n      <td>other</td>\n      <td>course</td>\n      <td>other</td>\n      <td>1.0</td>\n      <td>1.0</td>\n      <td>0.0</td>\n      <td>no</td>\n      <td>no</td>\n      <td>no</td>\n      <td>yes</td>\n      <td>yes</td>\n      <td>-3.0</td>\n      <td>yes</td>\n      <td>no</td>\n      <td>no</td>\n      <td>5.0</td>\n      <td>5.0</td>\n      <td>3.0</td>\n      <td>5.0</td>\n      <td>0.0</td>\n      <td>90.0</td>\n    </tr>\n    <tr>\n      <th>376</th>\n      <td>MS</td>\n      <td>F</td>\n      <td>20</td>\n      <td>NaN</td>\n      <td>GT3</td>\n      <td>T</td>\n      <td>4.0</td>\n      <td>2.0</td>\n      <td>health</td>\n      <td>other</td>\n      <td>course</td>\n      <td>NaN</td>\n      <td>2.0</td>\n      <td>3.0</td>\n      <td>2.0</td>\n      <td>no</td>\n      <td>yes</td>\n      <td>yes</td>\n      <td>no</td>\n      <td>no</td>\n      <td>-9.0</td>\n      <td>yes</td>\n      <td>yes</td>\n      <td>yes</td>\n      <td>5.0</td>\n      <td>4.0</td>\n      <td>3.0</td>\n      <td>3.0</td>\n      <td>4.0</td>\n      <td>75.0</td>\n    </tr>\n    <tr>\n      <th>390</th>\n      <td>MS</td>\n      <td>M</td>\n      <td>20</td>\n      <td>U</td>\n      <td>LE3</td>\n      <td>A</td>\n      <td>2.0</td>\n      <td>2.0</td>\n      <td>services</td>\n      <td>services</td>\n      <td>course</td>\n      <td>NaN</td>\n      <td>1.0</td>\n      <td>2.0</td>\n      <td>2.0</td>\n      <td>no</td>\n      <td>yes</td>\n      <td>yes</td>\n      <td>no</td>\n      <td>yes</td>\n      <td>-6.0</td>\n      <td>yes</td>\n      <td>no</td>\n      <td>no</td>\n      <td>5.0</td>\n      <td>5.0</td>\n      <td>4.0</td>\n      <td>4.0</td>\n      <td>212.0</td>\n      <td>45.0</td>\n    </tr>\n    <tr>\n      <th>392</th>\n      <td>MS</td>\n      <td>M</td>\n      <td>21</td>\n      <td>R</td>\n      <td>GT3</td>\n      <td>T</td>\n      <td>1.0</td>\n      <td>1.0</td>\n      <td>other</td>\n      <td>other</td>\n      <td>course</td>\n      <td>NaN</td>\n      <td>1.0</td>\n      <td>1.0</td>\n      <td>3.0</td>\n      <td>NaN</td>\n      <td>no</td>\n      <td>no</td>\n      <td>no</td>\n      <td>no</td>\n      <td>-3.0</td>\n      <td>NaN</td>\n      <td>no</td>\n      <td>no</td>\n      <td>5.0</td>\n      <td>5.0</td>\n      <td>3.0</td>\n      <td>3.0</td>\n      <td>3.0</td>\n      <td>35.0</td>\n    </tr>\n  </tbody>\n</table>\n</div>"
     },
     "execution_count": 18,
     "metadata": {},
     "output_type": "execute_result"
    }
   ],
   "source": [
    "students.query('age>19')"
   ],
   "metadata": {
    "collapsed": false,
    "pycharm": {
     "name": "#%%\n"
    }
   }
  },
  {
   "cell_type": "markdown",
   "source": [
    "Но в условиях задачи сказано, что мы анализируем учеников в возрасте от 15 до 22 лет.\n",
    "Значит, данные не считаем выбросом. Но при построении модели к этому вопросу можно вернуться."
   ],
   "metadata": {
    "collapsed": false,
    "pycharm": {
     "name": "#%% md\n"
    }
   }
  },
  {
   "cell_type": "code",
   "execution_count": 19,
   "outputs": [],
   "source": [
    "# ToDo age>19"
   ],
   "metadata": {
    "collapsed": false,
    "pycharm": {
     "name": "#%%\n"
    }
   }
  },
  {
   "cell_type": "markdown",
   "source": [
    "# address\n",
    "тип адреса ученика ('U' - городской, 'R' - за городом)"
   ],
   "metadata": {
    "collapsed": false,
    "pycharm": {
     "name": "#%% md\n"
    }
   }
  },
  {
   "cell_type": "code",
   "execution_count": 20,
   "outputs": [
    {
     "data": {
      "text/plain": "U    295\nR     83\nName: address, dtype: int64"
     },
     "execution_count": 20,
     "metadata": {},
     "output_type": "execute_result"
    }
   ],
   "source": [
    "students.address.value_counts()"
   ],
   "metadata": {
    "collapsed": false,
    "pycharm": {
     "name": "#%%\n"
    }
   }
  },
  {
   "cell_type": "code",
   "execution_count": 21,
   "outputs": [
    {
     "data": {
      "text/plain": "17"
     },
     "execution_count": 21,
     "metadata": {},
     "output_type": "execute_result"
    }
   ],
   "source": [
    "students.address.isna().sum()"
   ],
   "metadata": {
    "collapsed": false,
    "pycharm": {
     "name": "#%%\n"
    }
   }
  },
  {
   "cell_type": "markdown",
   "source": [
    "В данных есть 2 уникальных значения и 17 незаполненных значений. Пока заменять их смысла нет.\n",
    "Пропусков нет."
   ],
   "metadata": {
    "collapsed": false
   }
  },
  {
   "cell_type": "markdown",
   "source": [
    "# famsize\n",
    "размер семьи('LE3' <= 3, 'GT3' >3)"
   ],
   "metadata": {
    "collapsed": false,
    "pycharm": {
     "name": "#%% md\n"
    }
   }
  },
  {
   "cell_type": "code",
   "execution_count": 22,
   "outputs": [
    {
     "data": {
      "text/plain": "GT3    261\nLE3    107\nName: famsize, dtype: int64"
     },
     "execution_count": 22,
     "metadata": {},
     "output_type": "execute_result"
    }
   ],
   "source": [
    "students.famsize.value_counts()"
   ],
   "metadata": {
    "collapsed": false,
    "pycharm": {
     "name": "#%%\n"
    }
   }
  },
  {
   "cell_type": "code",
   "execution_count": 23,
   "outputs": [
    {
     "data": {
      "text/plain": "17"
     },
     "execution_count": 23,
     "metadata": {},
     "output_type": "execute_result"
    }
   ],
   "source": [
    "students.address.isna().sum()"
   ],
   "metadata": {
    "collapsed": false,
    "pycharm": {
     "name": "#%%\n"
    }
   }
  },
  {
   "cell_type": "markdown",
   "source": [
    "В данных есть 2 уникальных значения и 17 незаполненных значений. Пока заменять их смысла нет.\n",
    "Пропусков нет."
   ],
   "metadata": {
    "collapsed": false
   }
  },
  {
   "cell_type": "markdown",
   "source": [
    "# Pstatus\n",
    "статус совместного жилья родителей ('T' - живут вместе 'A' - раздельно)"
   ],
   "metadata": {
    "collapsed": false,
    "pycharm": {
     "name": "#%% md\n"
    }
   }
  },
  {
   "cell_type": "code",
   "execution_count": 24,
   "outputs": [
    {
     "data": {
      "text/plain": "T    314\nA     36\nName: pstatus, dtype: int64"
     },
     "execution_count": 24,
     "metadata": {},
     "output_type": "execute_result"
    }
   ],
   "source": [
    "students.pstatus.value_counts()"
   ],
   "metadata": {
    "collapsed": false,
    "pycharm": {
     "name": "#%%\n"
    }
   }
  },
  {
   "cell_type": "code",
   "execution_count": 25,
   "outputs": [
    {
     "data": {
      "text/plain": "45"
     },
     "execution_count": 25,
     "metadata": {},
     "output_type": "execute_result"
    }
   ],
   "source": [
    "students.pstatus.isna().sum()"
   ],
   "metadata": {
    "collapsed": false,
    "pycharm": {
     "name": "#%%\n"
    }
   }
  },
  {
   "cell_type": "markdown",
   "source": [
    "В данных есть 2 уникальных значения и 45 незаполненных значений. Пока заменять их смысла нет.\n",
    "Пропусков нет."
   ],
   "metadata": {
    "collapsed": false
   }
  },
  {
   "cell_type": "markdown",
   "source": [
    "# Medu\n",
    "образование матери (0 - нет, 1 - 4 класса, 2 - 5-9 классы, 3 - среднее специальное или 11 классов, 4 - высшее)"
   ],
   "metadata": {
    "collapsed": false,
    "pycharm": {
     "name": "#%% md\n"
    }
   }
  },
  {
   "cell_type": "code",
   "execution_count": 26,
   "outputs": [
    {
     "data": {
      "text/plain": "0.0      3\n1.0     59\n2.0    102\n3.0     97\n4.0    131\nName: medu, dtype: int64"
     },
     "execution_count": 26,
     "metadata": {},
     "output_type": "execute_result"
    }
   ],
   "source": [
    "students.medu.value_counts().sort_index()"
   ],
   "metadata": {
    "collapsed": false,
    "pycharm": {
     "name": "#%%\n"
    }
   }
  },
  {
   "cell_type": "code",
   "execution_count": 27,
   "outputs": [
    {
     "data": {
      "text/plain": "3"
     },
     "execution_count": 27,
     "metadata": {},
     "output_type": "execute_result"
    }
   ],
   "source": [
    "students.medu.isna().sum()"
   ],
   "metadata": {
    "collapsed": false,
    "pycharm": {
     "name": "#%%\n"
    }
   }
  },
  {
   "cell_type": "markdown",
   "source": [
    "В данных есть 5 уникальных и 3 незаполненных значения. Пока заменять их смысла нет.\n",
    "Пропусков нет."
   ],
   "metadata": {
    "collapsed": false
   }
  },
  {
   "cell_type": "code",
   "execution_count": 28,
   "outputs": [
    {
     "data": {
      "text/plain": "count    392.000000\nmean       2.750000\nstd        1.098127\nmin        0.000000\n25%        2.000000\n50%        3.000000\n75%        4.000000\nmax        4.000000\nName: medu, dtype: float64"
     },
     "execution_count": 28,
     "metadata": {},
     "output_type": "execute_result"
    }
   ],
   "source": [
    "students.medu.describe()"
   ],
   "metadata": {
    "collapsed": false,
    "pycharm": {
     "name": "#%%\n"
    }
   }
  },
  {
   "cell_type": "markdown",
   "source": [
    "Столбец числовой, посомтрим на распределение"
   ],
   "metadata": {
    "collapsed": false,
    "pycharm": {
     "name": "#%% md\n"
    }
   }
  },
  {
   "cell_type": "code",
   "execution_count": 29,
   "outputs": [
    {
     "data": {
      "text/plain": "([<matplotlib.axis.XTick at 0x123b79bb0>,\n  <matplotlib.axis.XTick at 0x123b79b80>,\n  <matplotlib.axis.XTick at 0x123bc8ac0>,\n  <matplotlib.axis.XTick at 0x123bd4d60>,\n  <matplotlib.axis.XTick at 0x123be22b0>],\n [Text(0, 0, ''),\n  Text(0, 0, ''),\n  Text(0, 0, ''),\n  Text(0, 0, ''),\n  Text(0, 0, '')])"
     },
     "execution_count": 29,
     "metadata": {},
     "output_type": "execute_result"
    },
    {
     "data": {
      "text/plain": "<Figure size 432x288 with 1 Axes>",
      "image/png": "[encoded data removed]"
     },
     "metadata": {
      "needs_background": "light"
     },
     "output_type": "display_data"
    }
   ],
   "source": [
    "sns.histplot(x=students.medu, bins=5)\n",
    "plt.xticks([0, 1, 2, 3, 4])\n"
   ],
   "metadata": {
    "collapsed": false,
    "pycharm": {
     "name": "#%%\n"
    }
   }
  },
  {
   "cell_type": "markdown",
   "source": [
    "# Fedu\n",
    "образование отца (0 - нет, 1 - 4 класса, 2 - 5-9 классы, 3 - среднее специальное или 11 классов, 4 - высшее)"
   ],
   "metadata": {
    "collapsed": false,
    "pycharm": {
     "name": "#%% md\n"
    }
   }
  },
  {
   "cell_type": "code",
   "execution_count": 30,
   "outputs": [
    {
     "data": {
      "text/plain": "0.0       2\n1.0      78\n2.0     106\n3.0      96\n4.0      88\n40.0      1\nName: fedu, dtype: int64"
     },
     "execution_count": 30,
     "metadata": {},
     "output_type": "execute_result"
    }
   ],
   "source": [
    "students.fedu.value_counts().sort_index()"
   ],
   "metadata": {
    "collapsed": false,
    "pycharm": {
     "name": "#%%\n"
    }
   }
  },
  {
   "cell_type": "code",
   "execution_count": 31,
   "outputs": [
    {
     "data": {
      "text/plain": "24"
     },
     "execution_count": 31,
     "metadata": {},
     "output_type": "execute_result"
    }
   ],
   "source": [
    "students.fedu.isna().sum()"
   ],
   "metadata": {
    "collapsed": false,
    "pycharm": {
     "name": "#%%\n"
    }
   }
  },
  {
   "cell_type": "code",
   "execution_count": 32,
   "outputs": [],
   "source": [
    "#students[students.fedu.isna()]"
   ],
   "metadata": {
    "collapsed": false,
    "pycharm": {
     "name": "#%%\n"
    }
   }
  },
  {
   "cell_type": "markdown",
   "source": [
    "В данных есть 6 уникальных и 24 незаполненных значения.\n",
    "Значение 40 явно ошибочное, скорее всего там должно быть 4"
   ],
   "metadata": {
    "collapsed": false
   }
  },
  {
   "cell_type": "code",
   "execution_count": 33,
   "outputs": [],
   "source": [
    "students.loc[students['fedu'] == 40, 'fedu'] = 4"
   ],
   "metadata": {
    "collapsed": false,
    "pycharm": {
     "name": "#%%\n"
    }
   }
  },
  {
   "cell_type": "code",
   "execution_count": 34,
   "outputs": [
    {
     "data": {
      "text/plain": "0.0      2\n1.0     78\n2.0    106\n3.0     96\n4.0     89\nName: fedu, dtype: int64"
     },
     "execution_count": 34,
     "metadata": {},
     "output_type": "execute_result"
    }
   ],
   "source": [
    "students.fedu.value_counts().sort_index()"
   ],
   "metadata": {
    "collapsed": false,
    "pycharm": {
     "name": "#%%\n"
    }
   }
  },
  {
   "cell_type": "markdown",
   "source": [
    "Отлично, теперь 5 уникальных значений, как в описании столбца\n",
    "Пропусков нет."
   ],
   "metadata": {
    "collapsed": false,
    "pycharm": {
     "name": "#%% md\n"
    }
   }
  },
  {
   "cell_type": "code",
   "execution_count": 35,
   "outputs": [
    {
     "data": {
      "text/plain": "count    371.000000\nmean       2.517520\nstd        1.088808\nmin        0.000000\n25%        2.000000\n50%        2.000000\n75%        3.000000\nmax        4.000000\nName: fedu, dtype: float64"
     },
     "execution_count": 35,
     "metadata": {},
     "output_type": "execute_result"
    }
   ],
   "source": [
    "students.fedu.describe()"
   ],
   "metadata": {
    "collapsed": false,
    "pycharm": {
     "name": "#%%\n"
    }
   }
  },
  {
   "cell_type": "markdown",
   "source": [
    "Столбец числовой, посомтрим на распределение"
   ],
   "metadata": {
    "collapsed": false
   }
  },
  {
   "cell_type": "code",
   "execution_count": 36,
   "outputs": [
    {
     "data": {
      "text/plain": "([<matplotlib.axis.XTick at 0x123c0b190>,\n  <matplotlib.axis.XTick at 0x123c0b160>,\n  <matplotlib.axis.XTick at 0x123c27e80>,\n  <matplotlib.axis.XTick at 0x123ca6370>,\n  <matplotlib.axis.XTick at 0x123ca6880>],\n [Text(0, 0, ''),\n  Text(0, 0, ''),\n  Text(0, 0, ''),\n  Text(0, 0, ''),\n  Text(0, 0, '')])"
     },
     "execution_count": 36,
     "metadata": {},
     "output_type": "execute_result"
    },
    {
     "data": {
      "text/plain": "<Figure size 432x288 with 1 Axes>",
      "image/png": "[encoded data removed]"
     },
     "metadata": {
      "needs_background": "light"
     },
     "output_type": "display_data"
    }
   ],
   "source": [
    "sns.histplot(x=students.fedu, bins=5)\n",
    "plt.xticks([0, 1, 2, 3, 4])"
   ],
   "metadata": {
    "collapsed": false,
    "pycharm": {
     "name": "#%%\n"
    }
   }
  },
  {
   "cell_type": "markdown",
   "source": [
    "# Mjob\n",
    "работа матери ('teacher' - учитель, 'health' - сфера здравоохранения, 'services' - гос служба, 'at_home' - не работает, 'other' - другое)"
   ],
   "metadata": {
    "collapsed": false,
    "pycharm": {
     "name": "#%% md\n"
    }
   }
  },
  {
   "cell_type": "code",
   "execution_count": 37,
   "outputs": [
    {
     "data": {
      "text/plain": "other       133\nservices     98\nat_home      58\nteacher      55\nhealth       32\nName: mjob, dtype: int64"
     },
     "execution_count": 37,
     "metadata": {},
     "output_type": "execute_result"
    }
   ],
   "source": [
    "students.mjob.value_counts()"
   ],
   "metadata": {
    "collapsed": false,
    "pycharm": {
     "name": "#%%\n"
    }
   }
  },
  {
   "cell_type": "code",
   "execution_count": 38,
   "outputs": [
    {
     "data": {
      "text/plain": "19"
     },
     "execution_count": 38,
     "metadata": {},
     "output_type": "execute_result"
    }
   ],
   "source": [
    "students.mjob.isna().sum()"
   ],
   "metadata": {
    "collapsed": false,
    "pycharm": {
     "name": "#%%\n"
    }
   }
  },
  {
   "cell_type": "code",
   "execution_count": 38,
   "outputs": [],
   "source": [],
   "metadata": {
    "collapsed": false,
    "pycharm": {
     "name": "#%%\n"
    }
   }
  },
  {
   "cell_type": "markdown",
   "source": [
    "В данных есть 5 уникальных и 19 незаполненных значения.\n",
    "Пропусков нет."
   ],
   "metadata": {
    "collapsed": false
   }
  },
  {
   "cell_type": "markdown",
   "source": [
    "# Fjob\n",
    " работа отца ('teacher' - учитель, 'health' - сфера здравоохранения, 'services' - гос служба, 'at_home' - не работает, 'other' - другое)"
   ],
   "metadata": {
    "collapsed": false,
    "pycharm": {
     "name": "#%% md\n"
    }
   }
  },
  {
   "cell_type": "code",
   "execution_count": 39,
   "outputs": [
    {
     "data": {
      "text/plain": "other       197\nservices    102\nteacher      29\nat_home      16\nhealth       15\nName: fjob, dtype: int64"
     },
     "execution_count": 39,
     "metadata": {},
     "output_type": "execute_result"
    }
   ],
   "source": [
    "students.fjob.value_counts()"
   ],
   "metadata": {
    "collapsed": false,
    "pycharm": {
     "name": "#%%\n"
    }
   }
  },
  {
   "cell_type": "code",
   "execution_count": 40,
   "outputs": [
    {
     "data": {
      "text/plain": "36"
     },
     "execution_count": 40,
     "metadata": {},
     "output_type": "execute_result"
    }
   ],
   "source": [
    "students.fjob.isna().sum()"
   ],
   "metadata": {
    "collapsed": false,
    "pycharm": {
     "name": "#%%\n"
    }
   }
  },
  {
   "cell_type": "markdown",
   "source": [
    "В данных есть 5 уникальных и 36 незаполненных значения.\n",
    "Пропусков нет."
   ],
   "metadata": {
    "collapsed": false
   }
  },
  {
   "cell_type": "markdown",
   "source": [
    "# reason\n",
    " причина выбора школы ('home' - близость к дому, 'reputation' - репутация школы, 'course' - образовательная программа, 'other' - другое)"
   ],
   "metadata": {
    "collapsed": false,
    "pycharm": {
     "name": "#%% md\n"
    }
   }
  },
  {
   "cell_type": "code",
   "execution_count": 41,
   "outputs": [
    {
     "data": {
      "text/plain": "course        137\nhome          104\nreputation    103\nother          34\nName: reason, dtype: int64"
     },
     "execution_count": 41,
     "metadata": {},
     "output_type": "execute_result"
    }
   ],
   "source": [
    "students.reason.value_counts()"
   ],
   "metadata": {
    "collapsed": false,
    "pycharm": {
     "name": "#%%\n"
    }
   }
  },
  {
   "cell_type": "code",
   "execution_count": 42,
   "outputs": [
    {
     "data": {
      "text/plain": "17"
     },
     "execution_count": 42,
     "metadata": {},
     "output_type": "execute_result"
    }
   ],
   "source": [
    "students.reason.isna().sum()"
   ],
   "metadata": {
    "collapsed": false,
    "pycharm": {
     "name": "#%%\n"
    }
   }
  },
  {
   "cell_type": "markdown",
   "source": [
    "В данных есть 4 уникальных и 17 незаполненных значения.\n",
    "Пропусков нет."
   ],
   "metadata": {
    "collapsed": false
   }
  },
  {
   "cell_type": "markdown",
   "source": [
    "# guardian\n",
    " опекун ('mother' - мать, 'father' - отец, 'other' - другое)"
   ],
   "metadata": {
    "collapsed": false,
    "pycharm": {
     "name": "#%% md\n"
    }
   }
  },
  {
   "cell_type": "code",
   "execution_count": 43,
   "outputs": [
    {
     "data": {
      "text/plain": "mother    250\nfather     86\nother      28\nName: guardian, dtype: int64"
     },
     "execution_count": 43,
     "metadata": {},
     "output_type": "execute_result"
    }
   ],
   "source": [
    "students.guardian.value_counts()"
   ],
   "metadata": {
    "collapsed": false,
    "pycharm": {
     "name": "#%%\n"
    }
   }
  },
  {
   "cell_type": "code",
   "execution_count": 44,
   "outputs": [
    {
     "data": {
      "text/plain": "31"
     },
     "execution_count": 44,
     "metadata": {},
     "output_type": "execute_result"
    }
   ],
   "source": [
    "students.guardian.isna().sum()"
   ],
   "metadata": {
    "collapsed": false,
    "pycharm": {
     "name": "#%%\n"
    }
   }
  },
  {
   "cell_type": "markdown",
   "source": [
    "В данных есть 3 уникальных и 31 незаполненных значения.\n",
    "Пропусков нет."
   ],
   "metadata": {
    "collapsed": false
   }
  },
  {
   "cell_type": "markdown",
   "source": [
    "# traveltime\n",
    " время в пути до школы (1 - <15 мин., 2 - 15-30 мин., 3 - 30-60 мин., 4 - >60 мин.)"
   ],
   "metadata": {
    "collapsed": false,
    "pycharm": {
     "name": "#%% md\n"
    }
   }
  },
  {
   "cell_type": "code",
   "execution_count": 45,
   "outputs": [
    {
     "data": {
      "text/plain": "1.0    242\n2.0     96\n3.0     22\n4.0      7\nName: traveltime, dtype: int64"
     },
     "execution_count": 45,
     "metadata": {},
     "output_type": "execute_result"
    }
   ],
   "source": [
    "students.traveltime.value_counts()"
   ],
   "metadata": {
    "collapsed": false,
    "pycharm": {
     "name": "#%%\n"
    }
   }
  },
  {
   "cell_type": "code",
   "execution_count": 46,
   "outputs": [
    {
     "data": {
      "text/plain": "28"
     },
     "execution_count": 46,
     "metadata": {},
     "output_type": "execute_result"
    }
   ],
   "source": [
    "students.traveltime.isna().sum()"
   ],
   "metadata": {
    "collapsed": false,
    "pycharm": {
     "name": "#%%\n"
    }
   }
  },
  {
   "cell_type": "markdown",
   "source": [
    "В данных есть 4 уникальных и 28 незаполненных значения.\n",
    "Пропусков нет."
   ],
   "metadata": {
    "collapsed": false
   }
  },
  {
   "cell_type": "markdown",
   "source": [
    "Столбец числовой, посомтрим на распределение"
   ],
   "metadata": {
    "collapsed": false
   }
  },
  {
   "cell_type": "code",
   "execution_count": 47,
   "outputs": [
    {
     "data": {
      "text/plain": "([<matplotlib.axis.XTick at 0x123d77460>,\n  <matplotlib.axis.XTick at 0x123d77430>,\n  <matplotlib.axis.XTick at 0x123d94fa0>,\n  <matplotlib.axis.XTick at 0x123db11f0>],\n [Text(0, 0, ''), Text(0, 0, ''), Text(0, 0, ''), Text(0, 0, '')])"
     },
     "execution_count": 47,
     "metadata": {},
     "output_type": "execute_result"
    },
    {
     "data": {
      "text/plain": "<Figure size 432x288 with 1 Axes>",
      "image/png": "[encoded data removed]"
     },
     "metadata": {
      "needs_background": "light"
     },
     "output_type": "display_data"
    }
   ],
   "source": [
    "sns.histplot(x=students.traveltime, bins=4)\n",
    "plt.xticks([1, 2, 3, 4])"
   ],
   "metadata": {
    "collapsed": false,
    "pycharm": {
     "name": "#%%\n"
    }
   }
  },
  {
   "cell_type": "markdown",
   "source": [
    "# studytime\n",
    " время на учёбу помимо школы в неделю (1 - <2 часов, 2 - 2-5 часов, 3 - 5-10 часов, 4 - >10 часов)"
   ],
   "metadata": {
    "collapsed": false,
    "pycharm": {
     "name": "#%% md\n"
    }
   }
  },
  {
   "cell_type": "code",
   "execution_count": 48,
   "outputs": [
    {
     "data": {
      "text/plain": "2.0    194\n1.0    103\n3.0     64\n4.0     27\nName: studytime, dtype: int64"
     },
     "execution_count": 48,
     "metadata": {},
     "output_type": "execute_result"
    }
   ],
   "source": [
    "students.studytime.value_counts()"
   ],
   "metadata": {
    "collapsed": false,
    "pycharm": {
     "name": "#%%\n"
    }
   }
  },
  {
   "cell_type": "code",
   "execution_count": 49,
   "outputs": [
    {
     "data": {
      "text/plain": "7"
     },
     "execution_count": 49,
     "metadata": {},
     "output_type": "execute_result"
    }
   ],
   "source": [
    "students.studytime.isna().sum()"
   ],
   "metadata": {
    "collapsed": false,
    "pycharm": {
     "name": "#%%\n"
    }
   }
  },
  {
   "cell_type": "code",
   "execution_count": 50,
   "outputs": [
    {
     "data": {
      "text/plain": "count    388.000000\nmean       2.038660\nstd        0.842078\nmin        1.000000\n25%        1.000000\n50%        2.000000\n75%        2.000000\nmax        4.000000\nName: studytime, dtype: float64"
     },
     "execution_count": 50,
     "metadata": {},
     "output_type": "execute_result"
    }
   ],
   "source": [
    "students.studytime.describe()"
   ],
   "metadata": {
    "collapsed": false,
    "pycharm": {
     "name": "#%%\n"
    }
   }
  },
  {
   "cell_type": "markdown",
   "source": [
    "В данных есть 4 уникальных и 7 незаполненных значения.\n",
    "Пропусков нет."
   ],
   "metadata": {
    "collapsed": false
   }
  },
  {
   "cell_type": "markdown",
   "source": [
    "Столбец числовой, посмотрим на распределение"
   ],
   "metadata": {
    "collapsed": false
   }
  },
  {
   "cell_type": "code",
   "execution_count": 51,
   "outputs": [
    {
     "data": {
      "text/plain": "([<matplotlib.axis.XTick at 0x123e0ea60>,\n  <matplotlib.axis.XTick at 0x123e0ea30>,\n  <matplotlib.axis.XTick at 0x123e8adc0>,\n  <matplotlib.axis.XTick at 0x123ea7730>],\n [Text(0, 0, ''), Text(0, 0, ''), Text(0, 0, ''), Text(0, 0, '')])"
     },
     "execution_count": 51,
     "metadata": {},
     "output_type": "execute_result"
    },
    {
     "data": {
      "text/plain": "<Figure size 432x288 with 1 Axes>",
      "image/png": "[encoded data removed]"
     },
     "metadata": {
      "needs_background": "light"
     },
     "output_type": "display_data"
    }
   ],
   "source": [
    "sns.histplot(x=students.studytime, bins=4)\n",
    "plt.xticks([1, 2, 3, 4])"
   ],
   "metadata": {
    "collapsed": false,
    "pycharm": {
     "name": "#%%\n"
    }
   }
  },
  {
   "cell_type": "markdown",
   "source": [
    "# failures\n",
    " количество внеучебных неудач (n, если 1<=n<=3, иначе 0)"
   ],
   "metadata": {
    "collapsed": false,
    "pycharm": {
     "name": "#%% md\n"
    }
   }
  },
  {
   "cell_type": "code",
   "execution_count": 52,
   "outputs": [
    {
     "data": {
      "text/plain": "0.0    293\n1.0     49\n2.0     16\n3.0     15\nName: failures, dtype: int64"
     },
     "execution_count": 52,
     "metadata": {},
     "output_type": "execute_result"
    }
   ],
   "source": [
    "students.failures.value_counts()"
   ],
   "metadata": {
    "collapsed": false,
    "pycharm": {
     "name": "#%%\n"
    }
   }
  },
  {
   "cell_type": "code",
   "execution_count": 53,
   "outputs": [
    {
     "data": {
      "text/plain": "22"
     },
     "execution_count": 53,
     "metadata": {},
     "output_type": "execute_result"
    }
   ],
   "source": [
    "students.failures.isna().sum()"
   ],
   "metadata": {
    "collapsed": false,
    "pycharm": {
     "name": "#%%\n"
    }
   }
  },
  {
   "cell_type": "code",
   "execution_count": 54,
   "outputs": [
    {
     "data": {
      "text/plain": "count    373.000000\nmean       0.337802\nstd        0.743135\nmin        0.000000\n25%        0.000000\n50%        0.000000\n75%        0.000000\nmax        3.000000\nName: failures, dtype: float64"
     },
     "execution_count": 54,
     "metadata": {},
     "output_type": "execute_result"
    }
   ],
   "source": [
    "students.failures.describe()"
   ],
   "metadata": {
    "collapsed": false,
    "pycharm": {
     "name": "#%%\n"
    }
   }
  },
  {
   "cell_type": "markdown",
   "source": [
    "В данных есть 4 уникальных и 22 незаполненных значения.\n",
    "Пропусков нет."
   ],
   "metadata": {
    "collapsed": false,
    "pycharm": {
     "name": "#%% md\n"
    }
   }
  },
  {
   "cell_type": "markdown",
   "source": [
    "Столбец числовой, посмотрим на распределение"
   ],
   "metadata": {
    "collapsed": false
   }
  },
  {
   "cell_type": "code",
   "execution_count": 55,
   "outputs": [
    {
     "data": {
      "text/plain": "([<matplotlib.axis.XTick at 0x123f0ffa0>,\n  <matplotlib.axis.XTick at 0x123f0ff70>,\n  <matplotlib.axis.XTick at 0x123f32a30>,\n  <matplotlib.axis.XTick at 0x123fa3c10>],\n [Text(0, 0, ''), Text(0, 0, ''), Text(0, 0, ''), Text(0, 0, '')])"
     },
     "execution_count": 55,
     "metadata": {},
     "output_type": "execute_result"
    },
    {
     "data": {
      "text/plain": "<Figure size 432x288 with 1 Axes>",
      "image/png": "[encoded data removed]"
     },
     "metadata": {
      "needs_background": "light"
     },
     "output_type": "display_data"
    }
   ],
   "source": [
    "sns.histplot(x=students.failures, bins=4)\n",
    "plt.xticks([0, 1, 2, 3])"
   ],
   "metadata": {
    "collapsed": false,
    "pycharm": {
     "name": "#%%\n"
    }
   }
  },
  {
   "cell_type": "markdown",
   "source": [
    "# schoolsup\n",
    " дополнительная образовательная поддержка (yes или no)"
   ],
   "metadata": {
    "collapsed": false,
    "pycharm": {
     "name": "#%% md\n"
    }
   }
  },
  {
   "cell_type": "code",
   "execution_count": 56,
   "outputs": [
    {
     "data": {
      "text/plain": "no     335\nyes     51\nName: schoolsup, dtype: int64"
     },
     "execution_count": 56,
     "metadata": {},
     "output_type": "execute_result"
    }
   ],
   "source": [
    "students.schoolsup.value_counts()"
   ],
   "metadata": {
    "collapsed": false,
    "pycharm": {
     "name": "#%%\n"
    }
   }
  },
  {
   "cell_type": "code",
   "execution_count": 57,
   "outputs": [
    {
     "data": {
      "text/plain": "9"
     },
     "execution_count": 57,
     "metadata": {},
     "output_type": "execute_result"
    }
   ],
   "source": [
    "students.schoolsup.isna().sum()"
   ],
   "metadata": {
    "collapsed": false,
    "pycharm": {
     "name": "#%%\n"
    }
   }
  },
  {
   "cell_type": "markdown",
   "source": [
    "В данных есть 2 уникальных и 9 незаполненных значения.\n",
    "Пропусков нет."
   ],
   "metadata": {
    "collapsed": false
   }
  },
  {
   "cell_type": "markdown",
   "source": [
    "# famsup\n",
    " семейная образовательная поддержка (yes или no)"
   ],
   "metadata": {
    "collapsed": false,
    "pycharm": {
     "name": "#%% md\n"
    }
   }
  },
  {
   "cell_type": "code",
   "execution_count": 58,
   "outputs": [
    {
     "data": {
      "text/plain": "yes    219\nno     137\nName: famsup, dtype: int64"
     },
     "execution_count": 58,
     "metadata": {},
     "output_type": "execute_result"
    }
   ],
   "source": [
    "students.famsup.value_counts()"
   ],
   "metadata": {
    "collapsed": false,
    "pycharm": {
     "name": "#%%\n"
    }
   }
  },
  {
   "cell_type": "code",
   "execution_count": 59,
   "outputs": [
    {
     "data": {
      "text/plain": "39"
     },
     "execution_count": 59,
     "metadata": {},
     "output_type": "execute_result"
    }
   ],
   "source": [
    "students.famsup.isna().sum()"
   ],
   "metadata": {
    "collapsed": false,
    "pycharm": {
     "name": "#%%\n"
    }
   }
  },
  {
   "cell_type": "markdown",
   "source": [
    "В данных есть 2 уникальных и 39 незаполненных значения.\n",
    "Пропусков нет."
   ],
   "metadata": {
    "collapsed": false
   }
  },
  {
   "cell_type": "markdown",
   "source": [
    "# paid\n",
    " дополнительные платные занятия по математике (yes или no)"
   ],
   "metadata": {
    "collapsed": false,
    "pycharm": {
     "name": "#%% md\n"
    }
   }
  },
  {
   "cell_type": "code",
   "execution_count": 60,
   "outputs": [
    {
     "data": {
      "text/plain": "no     200\nyes    155\nName: paid, dtype: int64"
     },
     "execution_count": 60,
     "metadata": {},
     "output_type": "execute_result"
    }
   ],
   "source": [
    "students.paid.value_counts()"
   ],
   "metadata": {
    "collapsed": false,
    "pycharm": {
     "name": "#%%\n"
    }
   }
  },
  {
   "cell_type": "code",
   "execution_count": 61,
   "outputs": [
    {
     "data": {
      "text/plain": "40"
     },
     "execution_count": 61,
     "metadata": {},
     "output_type": "execute_result"
    }
   ],
   "source": [
    "students.paid.isna().sum()"
   ],
   "metadata": {
    "collapsed": false,
    "pycharm": {
     "name": "#%%\n"
    }
   }
  },
  {
   "cell_type": "markdown",
   "source": [
    "В данных есть 2 уникальных и 40 незаполненных значения.\n",
    "Пропусков нет."
   ],
   "metadata": {
    "collapsed": false
   }
  },
  {
   "cell_type": "markdown",
   "source": [
    "# activities\n",
    " дополнительные внеучебные занятия (yes или no)"
   ],
   "metadata": {
    "collapsed": false,
    "pycharm": {
     "name": "#%% md\n"
    }
   }
  },
  {
   "cell_type": "code",
   "execution_count": 62,
   "outputs": [
    {
     "data": {
      "text/plain": "yes    195\nno     186\nName: activities, dtype: int64"
     },
     "execution_count": 62,
     "metadata": {},
     "output_type": "execute_result"
    }
   ],
   "source": [
    "students.activities.value_counts()"
   ],
   "metadata": {
    "collapsed": false,
    "pycharm": {
     "name": "#%%\n"
    }
   }
  },
  {
   "cell_type": "code",
   "execution_count": 63,
   "outputs": [
    {
     "data": {
      "text/plain": "14"
     },
     "execution_count": 63,
     "metadata": {},
     "output_type": "execute_result"
    }
   ],
   "source": [
    "students.activities.isna().sum()"
   ],
   "metadata": {
    "collapsed": false,
    "pycharm": {
     "name": "#%%\n"
    }
   }
  },
  {
   "cell_type": "markdown",
   "source": [
    "В данных есть 2 уникальных и 14 незаполненных значения.\n",
    "Пропусков нет."
   ],
   "metadata": {
    "collapsed": false
   }
  },
  {
   "cell_type": "markdown",
   "source": [
    "# studytimegranular\n",
    "гранулярное время на учёбу помимо школы в неделю"
   ],
   "metadata": {
    "collapsed": false,
    "pycharm": {
     "name": "#%% md\n"
    }
   }
  },
  {
   "cell_type": "code",
   "execution_count": 64,
   "outputs": [
    {
     "data": {
      "text/plain": "-6.0     194\n-3.0     103\n-9.0      64\n-12.0     27\nName: studytimegranular, dtype: int64"
     },
     "execution_count": 64,
     "metadata": {},
     "output_type": "execute_result"
    }
   ],
   "source": [
    "students.studytimegranular.value_counts()"
   ],
   "metadata": {
    "collapsed": false,
    "pycharm": {
     "name": "#%%\n"
    }
   }
  },
  {
   "cell_type": "code",
   "execution_count": 65,
   "outputs": [
    {
     "data": {
      "text/plain": "7"
     },
     "execution_count": 65,
     "metadata": {},
     "output_type": "execute_result"
    }
   ],
   "source": [
    "students.studytimegranular.isna().sum()"
   ],
   "metadata": {
    "collapsed": false,
    "pycharm": {
     "name": "#%%\n"
    }
   }
  },
  {
   "cell_type": "code",
   "execution_count": 66,
   "outputs": [
    {
     "data": {
      "text/plain": "count    388.000000\nmean      -6.115979\nstd        2.526235\nmin      -12.000000\n25%       -6.000000\n50%       -6.000000\n75%       -3.000000\nmax       -3.000000\nName: studytimegranular, dtype: float64"
     },
     "execution_count": 66,
     "metadata": {},
     "output_type": "execute_result"
    }
   ],
   "source": [
    "students.studytimegranular.describe()"
   ],
   "metadata": {
    "collapsed": false,
    "pycharm": {
     "name": "#%%\n"
    }
   }
  },
  {
   "cell_type": "markdown",
   "source": [
    "В данных есть 4 уникальных и 7 незаполненных значения.\n",
    "Пропусков нет."
   ],
   "metadata": {
    "collapsed": false
   }
  },
  {
   "cell_type": "markdown",
   "source": [
    "Столбец числовой, посмотрим на распределение"
   ],
   "metadata": {
    "collapsed": false
   }
  },
  {
   "cell_type": "code",
   "execution_count": 67,
   "outputs": [
    {
     "data": {
      "text/plain": "<AxesSubplot:xlabel='studytimegranular', ylabel='Count'>"
     },
     "execution_count": 67,
     "metadata": {},
     "output_type": "execute_result"
    },
    {
     "data": {
      "text/plain": "<Figure size 432x288 with 1 Axes>",
      "image/png": "[encoded data removed]"
     },
     "metadata": {
      "needs_background": "light"
     },
     "output_type": "display_data"
    }
   ],
   "source": [
    "sns.histplot(x=students.studytimegranular, bins=4)"
   ],
   "metadata": {
    "collapsed": false,
    "pycharm": {
     "name": "#%%\n"
    }
   }
  },
  {
   "cell_type": "markdown",
   "source": [
    "# nursery\n",
    " посещал детский сад (yes или no)"
   ],
   "metadata": {
    "collapsed": false,
    "pycharm": {
     "name": "#%% md\n"
    }
   }
  },
  {
   "cell_type": "code",
   "execution_count": 68,
   "outputs": [
    {
     "data": {
      "text/plain": "yes    300\nno      79\nName: nursery, dtype: int64"
     },
     "execution_count": 68,
     "metadata": {},
     "output_type": "execute_result"
    }
   ],
   "source": [
    "students.nursery.value_counts()"
   ],
   "metadata": {
    "collapsed": false,
    "pycharm": {
     "name": "#%%\n"
    }
   }
  },
  {
   "cell_type": "code",
   "execution_count": 69,
   "outputs": [
    {
     "data": {
      "text/plain": "16"
     },
     "execution_count": 69,
     "metadata": {},
     "output_type": "execute_result"
    }
   ],
   "source": [
    "students.nursery.isna().sum()"
   ],
   "metadata": {
    "collapsed": false,
    "pycharm": {
     "name": "#%%\n"
    }
   }
  },
  {
   "cell_type": "markdown",
   "source": [
    "В данных есть 2 уникальных и 16 незаполненных значения.\n",
    "Пропусков нет."
   ],
   "metadata": {
    "collapsed": false,
    "pycharm": {
     "name": "#%% md\n"
    }
   }
  },
  {
   "cell_type": "markdown",
   "source": [
    "# higher\n",
    " хочет получить высшее образование (yes или no)"
   ],
   "metadata": {
    "collapsed": false,
    "pycharm": {
     "name": "#%% md\n"
    }
   }
  },
  {
   "cell_type": "code",
   "execution_count": 70,
   "outputs": [
    {
     "data": {
      "text/plain": "yes    356\nno      19\nName: higher, dtype: int64"
     },
     "execution_count": 70,
     "metadata": {},
     "output_type": "execute_result"
    }
   ],
   "source": [
    "students.higher.value_counts()"
   ],
   "metadata": {
    "collapsed": false,
    "pycharm": {
     "name": "#%%\n"
    }
   }
  },
  {
   "cell_type": "code",
   "execution_count": 71,
   "outputs": [
    {
     "data": {
      "text/plain": "20"
     },
     "execution_count": 71,
     "metadata": {},
     "output_type": "execute_result"
    }
   ],
   "source": [
    "students.higher.isna().sum()"
   ],
   "metadata": {
    "collapsed": false,
    "pycharm": {
     "name": "#%%\n"
    }
   }
  },
  {
   "cell_type": "markdown",
   "source": [
    "В данных есть 2 уникальных и 20 незаполненных значения.\n",
    "Пропусков нет."
   ],
   "metadata": {
    "collapsed": false
   }
  },
  {
   "cell_type": "markdown",
   "source": [
    "# internet\n",
    " наличие интернета дома (yes или no)"
   ],
   "metadata": {
    "collapsed": false,
    "pycharm": {
     "name": "#%% md\n"
    }
   }
  },
  {
   "cell_type": "code",
   "execution_count": 72,
   "outputs": [
    {
     "data": {
      "text/plain": "yes    305\nno      56\nName: internet, dtype: int64"
     },
     "execution_count": 72,
     "metadata": {},
     "output_type": "execute_result"
    }
   ],
   "source": [
    "students.internet.value_counts()"
   ],
   "metadata": {
    "collapsed": false,
    "pycharm": {
     "name": "#%%\n"
    }
   }
  },
  {
   "cell_type": "code",
   "execution_count": 73,
   "outputs": [
    {
     "data": {
      "text/plain": "34"
     },
     "execution_count": 73,
     "metadata": {},
     "output_type": "execute_result"
    }
   ],
   "source": [
    "students.internet.isna().sum()"
   ],
   "metadata": {
    "collapsed": false,
    "pycharm": {
     "name": "#%%\n"
    }
   }
  },
  {
   "cell_type": "markdown",
   "source": [
    "В данных есть 2 уникальных и 34 незаполненных значения.\n",
    "Пропусков нет."
   ],
   "metadata": {
    "collapsed": false
   }
  },
  {
   "cell_type": "markdown",
   "source": [
    "# romantic\n",
    "в романтических отношениях (yes или no)"
   ],
   "metadata": {
    "collapsed": false,
    "pycharm": {
     "name": "#%% md\n"
    }
   }
  },
  {
   "cell_type": "code",
   "execution_count": 74,
   "outputs": [
    {
     "data": {
      "text/plain": "no     240\nyes    124\nName: romantic, dtype: int64"
     },
     "execution_count": 74,
     "metadata": {},
     "output_type": "execute_result"
    }
   ],
   "source": [
    "students.romantic.value_counts()"
   ],
   "metadata": {
    "collapsed": false,
    "pycharm": {
     "name": "#%%\n"
    }
   }
  },
  {
   "cell_type": "code",
   "execution_count": 75,
   "outputs": [
    {
     "data": {
      "text/plain": "31"
     },
     "execution_count": 75,
     "metadata": {},
     "output_type": "execute_result"
    }
   ],
   "source": [
    "students.romantic.isna().sum()"
   ],
   "metadata": {
    "collapsed": false,
    "pycharm": {
     "name": "#%%\n"
    }
   }
  },
  {
   "cell_type": "markdown",
   "source": [
    "В данных есть 2 уникальных и 31 незаполненных значения.\n",
    "Пропусков нет."
   ],
   "metadata": {
    "collapsed": false
   }
  },
  {
   "cell_type": "markdown",
   "source": [
    "# famrel\n",
    " семейные отношения (от 1 - очень плохо до 5 - очень хорошо)"
   ],
   "metadata": {
    "collapsed": false,
    "pycharm": {
     "name": "#%% md\n"
    }
   }
  },
  {
   "cell_type": "code",
   "execution_count": 76,
   "outputs": [
    {
     "data": {
      "text/plain": " 4.0    182\n 5.0     99\n 3.0     62\n 2.0     17\n 1.0      7\n-1.0      1\nName: famrel, dtype: int64"
     },
     "execution_count": 76,
     "metadata": {},
     "output_type": "execute_result"
    }
   ],
   "source": [
    "students.famrel.value_counts()"
   ],
   "metadata": {
    "collapsed": false,
    "pycharm": {
     "name": "#%%\n"
    }
   }
  },
  {
   "cell_type": "code",
   "execution_count": 77,
   "outputs": [
    {
     "data": {
      "text/plain": "27"
     },
     "execution_count": 77,
     "metadata": {},
     "output_type": "execute_result"
    }
   ],
   "source": [
    "students.famrel.isna().sum()"
   ],
   "metadata": {
    "collapsed": false,
    "pycharm": {
     "name": "#%%\n"
    }
   }
  },
  {
   "cell_type": "markdown",
   "source": [
    "Данные содержат одно некорректное значение (-1)\n",
    "Заменим его на незаполненное"
   ],
   "metadata": {
    "collapsed": false,
    "pycharm": {
     "name": "#%% md\n"
    }
   }
  },
  {
   "cell_type": "code",
   "execution_count": 78,
   "outputs": [],
   "source": [
    "students.loc[students['famrel'] == -1, 'famrel'] = np.NaN"
   ],
   "metadata": {
    "collapsed": false,
    "pycharm": {
     "name": "#%%\n"
    }
   }
  },
  {
   "cell_type": "code",
   "execution_count": 79,
   "outputs": [
    {
     "data": {
      "text/plain": "4.0    182\n5.0     99\n3.0     62\n2.0     17\n1.0      7\nName: famrel, dtype: int64"
     },
     "execution_count": 79,
     "metadata": {},
     "output_type": "execute_result"
    }
   ],
   "source": [
    "students.famrel.value_counts()"
   ],
   "metadata": {
    "collapsed": false,
    "pycharm": {
     "name": "#%%\n"
    }
   }
  },
  {
   "cell_type": "code",
   "execution_count": 80,
   "outputs": [
    {
     "data": {
      "text/plain": "28"
     },
     "execution_count": 80,
     "metadata": {},
     "output_type": "execute_result"
    }
   ],
   "source": [
    "students.famrel.isna().sum()"
   ],
   "metadata": {
    "collapsed": false,
    "pycharm": {
     "name": "#%%\n"
    }
   }
  },
  {
   "cell_type": "code",
   "execution_count": 81,
   "outputs": [
    {
     "data": {
      "text/plain": "count    367.000000\nmean       3.950954\nstd        0.891853\nmin        1.000000\n25%        4.000000\n50%        4.000000\n75%        5.000000\nmax        5.000000\nName: famrel, dtype: float64"
     },
     "execution_count": 81,
     "metadata": {},
     "output_type": "execute_result"
    }
   ],
   "source": [
    "students.famrel.describe()"
   ],
   "metadata": {
    "collapsed": false,
    "pycharm": {
     "name": "#%%\n"
    }
   }
  },
  {
   "cell_type": "markdown",
   "source": [
    "В данных есть 5 уникальных и 28 незаполненных значения.\n",
    "Пропусков нет."
   ],
   "metadata": {
    "collapsed": false
   }
  },
  {
   "cell_type": "markdown",
   "source": [
    "Столбец числовой, посмотрим на распределение"
   ],
   "metadata": {
    "collapsed": false
   }
  },
  {
   "cell_type": "code",
   "execution_count": 82,
   "outputs": [
    {
     "data": {
      "text/plain": "([<matplotlib.axis.XTick at 0x123d75850>,\n  <matplotlib.axis.XTick at 0x123d75b80>,\n  <matplotlib.axis.XTick at 0x10f85e940>,\n  <matplotlib.axis.XTick at 0x123fb0d90>,\n  <matplotlib.axis.XTick at 0x123fc2c70>],\n [Text(0, 0, ''),\n  Text(0, 0, ''),\n  Text(0, 0, ''),\n  Text(0, 0, ''),\n  Text(0, 0, '')])"
     },
     "execution_count": 82,
     "metadata": {},
     "output_type": "execute_result"
    },
    {
     "data": {
      "text/plain": "<Figure size 432x288 with 1 Axes>",
      "image/png": "[encoded data removed]"
     },
     "metadata": {
      "needs_background": "light"
     },
     "output_type": "display_data"
    }
   ],
   "source": [
    "sns.histplot(x=students.famrel, bins=5)\n",
    "plt.xticks([1, 2, 3, 4, 5])"
   ],
   "metadata": {
    "collapsed": false,
    "pycharm": {
     "name": "#%%\n"
    }
   }
  },
  {
   "cell_type": "markdown",
   "source": [
    "# freetime\n",
    " свободное время после школы (от 1 - очень мало до 5 - очень мого)"
   ],
   "metadata": {
    "collapsed": false,
    "pycharm": {
     "name": "#%% md\n"
    }
   }
  },
  {
   "cell_type": "code",
   "execution_count": 83,
   "outputs": [
    {
     "data": {
      "text/plain": "3.0    153\n4.0    112\n2.0     63\n5.0     38\n1.0     18\nName: freetime, dtype: int64"
     },
     "execution_count": 83,
     "metadata": {},
     "output_type": "execute_result"
    }
   ],
   "source": [
    "students.freetime.value_counts()"
   ],
   "metadata": {
    "collapsed": false,
    "pycharm": {
     "name": "#%%\n"
    }
   }
  },
  {
   "cell_type": "code",
   "execution_count": 84,
   "outputs": [
    {
     "data": {
      "text/plain": "11"
     },
     "execution_count": 84,
     "metadata": {},
     "output_type": "execute_result"
    }
   ],
   "source": [
    "students.freetime.isna().sum()"
   ],
   "metadata": {
    "collapsed": false,
    "pycharm": {
     "name": "#%%\n"
    }
   }
  },
  {
   "cell_type": "code",
   "execution_count": 85,
   "outputs": [
    {
     "data": {
      "text/plain": "count    384.000000\nmean       3.231771\nstd        0.993940\nmin        1.000000\n25%        3.000000\n50%        3.000000\n75%        4.000000\nmax        5.000000\nName: freetime, dtype: float64"
     },
     "execution_count": 85,
     "metadata": {},
     "output_type": "execute_result"
    }
   ],
   "source": [
    "students.freetime.describe()"
   ],
   "metadata": {
    "collapsed": false,
    "pycharm": {
     "name": "#%%\n"
    }
   }
  },
  {
   "cell_type": "markdown",
   "source": [
    "В данных есть 5 уникальных и 28 незаполненных значения.\n",
    "Пропусков нет."
   ],
   "metadata": {
    "collapsed": false,
    "pycharm": {
     "name": "#%% md\n"
    }
   }
  },
  {
   "cell_type": "markdown",
   "source": [
    "Столбец числовой, посмотрим на распределение"
   ],
   "metadata": {
    "collapsed": false
   }
  },
  {
   "cell_type": "code",
   "execution_count": 86,
   "outputs": [
    {
     "data": {
      "text/plain": "([<matplotlib.axis.XTick at 0x123be73a0>,\n  <matplotlib.axis.XTick at 0x123be7340>,\n  <matplotlib.axis.XTick at 0x123ae6dc0>,\n  <matplotlib.axis.XTick at 0x12427bc10>,\n  <matplotlib.axis.XTick at 0x124287160>],\n [Text(0, 0, ''),\n  Text(0, 0, ''),\n  Text(0, 0, ''),\n  Text(0, 0, ''),\n  Text(0, 0, '')])"
     },
     "execution_count": 86,
     "metadata": {},
     "output_type": "execute_result"
    },
    {
     "data": {
      "text/plain": "<Figure size 432x288 with 1 Axes>",
      "image/png": "[encoded data removed]"
     },
     "metadata": {
      "needs_background": "light"
     },
     "output_type": "display_data"
    }
   ],
   "source": [
    "sns.histplot(x=students.freetime, bins=5)\n",
    "plt.xticks([1, 2, 3, 4, 5])"
   ],
   "metadata": {
    "collapsed": false,
    "pycharm": {
     "name": "#%%\n"
    }
   }
  },
  {
   "cell_type": "markdown",
   "source": [
    "# goout\n",
    " проведение времени с друзьями (от 1 - очень мало до 5 - очень много)"
   ],
   "metadata": {
    "collapsed": false,
    "pycharm": {
     "name": "#%% md\n"
    }
   }
  },
  {
   "cell_type": "code",
   "execution_count": 87,
   "outputs": [
    {
     "data": {
      "text/plain": "3.0    127\n2.0    101\n4.0     84\n5.0     52\n1.0     23\nName: goout, dtype: int64"
     },
     "execution_count": 87,
     "metadata": {},
     "output_type": "execute_result"
    }
   ],
   "source": [
    "students.goout.value_counts()"
   ],
   "metadata": {
    "collapsed": false,
    "pycharm": {
     "name": "#%%\n"
    }
   }
  },
  {
   "cell_type": "code",
   "execution_count": 88,
   "outputs": [
    {
     "data": {
      "text/plain": "8"
     },
     "execution_count": 88,
     "metadata": {},
     "output_type": "execute_result"
    }
   ],
   "source": [
    "students.goout.isna().sum()"
   ],
   "metadata": {
    "collapsed": false,
    "pycharm": {
     "name": "#%%\n"
    }
   }
  },
  {
   "cell_type": "code",
   "execution_count": 89,
   "outputs": [
    {
     "data": {
      "text/plain": "count    387.000000\nmean       3.105943\nstd        1.115896\nmin        1.000000\n25%        2.000000\n50%        3.000000\n75%        4.000000\nmax        5.000000\nName: goout, dtype: float64"
     },
     "execution_count": 89,
     "metadata": {},
     "output_type": "execute_result"
    }
   ],
   "source": [
    "students.goout.describe()"
   ],
   "metadata": {
    "collapsed": false,
    "pycharm": {
     "name": "#%%\n"
    }
   }
  },
  {
   "cell_type": "markdown",
   "source": [
    "В данных есть 5 уникальных и 8 незаполненных значения.\n",
    "Пропусков нет."
   ],
   "metadata": {
    "collapsed": false
   }
  },
  {
   "cell_type": "markdown",
   "source": [
    "Столбец числовой, посмотрим на распределение"
   ],
   "metadata": {
    "collapsed": false
   }
  },
  {
   "cell_type": "code",
   "execution_count": 90,
   "outputs": [
    {
     "data": {
      "text/plain": "([<matplotlib.axis.XTick at 0x12434dc70>,\n  <matplotlib.axis.XTick at 0x12434dc40>,\n  <matplotlib.axis.XTick at 0x124367f10>,\n  <matplotlib.axis.XTick at 0x124380cd0>,\n  <matplotlib.axis.XTick at 0x12438e220>],\n [Text(0, 0, ''),\n  Text(0, 0, ''),\n  Text(0, 0, ''),\n  Text(0, 0, ''),\n  Text(0, 0, '')])"
     },
     "execution_count": 90,
     "metadata": {},
     "output_type": "execute_result"
    },
    {
     "data": {
      "text/plain": "<Figure size 432x288 with 1 Axes>",
      "image/png": "[encoded data removed]"
     },
     "metadata": {
      "needs_background": "light"
     },
     "output_type": "display_data"
    }
   ],
   "source": [
    "sns.histplot(x=students.goout, bins=5)\n",
    "plt.xticks([1, 2, 3, 4, 5])"
   ],
   "metadata": {
    "collapsed": false,
    "pycharm": {
     "name": "#%%\n"
    }
   }
  },
  {
   "cell_type": "markdown",
   "source": [
    "# health\n",
    " текущее состояние здоровья (от 1 - очень плохо до 5 - очень хорошо)"
   ],
   "metadata": {
    "collapsed": false,
    "pycharm": {
     "name": "#%% md\n"
    }
   }
  },
  {
   "cell_type": "code",
   "execution_count": 91,
   "outputs": [
    {
     "data": {
      "text/plain": "5.0    138\n3.0     89\n4.0     63\n1.0     47\n2.0     43\nName: health, dtype: int64"
     },
     "execution_count": 91,
     "metadata": {},
     "output_type": "execute_result"
    }
   ],
   "source": [
    "students.health.value_counts()"
   ],
   "metadata": {
    "collapsed": false,
    "pycharm": {
     "name": "#%%\n"
    }
   }
  },
  {
   "cell_type": "code",
   "execution_count": 92,
   "outputs": [
    {
     "data": {
      "text/plain": "15"
     },
     "execution_count": 92,
     "metadata": {},
     "output_type": "execute_result"
    }
   ],
   "source": [
    "students.health.isna().sum()"
   ],
   "metadata": {
    "collapsed": false,
    "pycharm": {
     "name": "#%%\n"
    }
   }
  },
  {
   "cell_type": "code",
   "execution_count": 93,
   "outputs": [
    {
     "data": {
      "text/plain": "count    380.000000\nmean       3.531579\nstd        1.396019\nmin        1.000000\n25%        3.000000\n50%        4.000000\n75%        5.000000\nmax        5.000000\nName: health, dtype: float64"
     },
     "execution_count": 93,
     "metadata": {},
     "output_type": "execute_result"
    }
   ],
   "source": [
    "students.health.describe()"
   ],
   "metadata": {
    "collapsed": false,
    "pycharm": {
     "name": "#%%\n"
    }
   }
  },
  {
   "cell_type": "markdown",
   "source": [
    "В данных есть 5 уникальных и 15 незаполненных значения.\n",
    "Пропусков нет."
   ],
   "metadata": {
    "collapsed": false
   }
  },
  {
   "cell_type": "markdown",
   "source": [
    "Столбец числовой, посмотрим на распределение"
   ],
   "metadata": {
    "collapsed": false
   }
  },
  {
   "cell_type": "code",
   "execution_count": 94,
   "outputs": [
    {
     "data": {
      "text/plain": "([<matplotlib.axis.XTick at 0x1243b9280>,\n  <matplotlib.axis.XTick at 0x1243b9250>,\n  <matplotlib.axis.XTick at 0x12446fdc0>,\n  <matplotlib.axis.XTick at 0x12448c2b0>,\n  <matplotlib.axis.XTick at 0x12448c7c0>],\n [Text(0, 0, ''),\n  Text(0, 0, ''),\n  Text(0, 0, ''),\n  Text(0, 0, ''),\n  Text(0, 0, '')])"
     },
     "execution_count": 94,
     "metadata": {},
     "output_type": "execute_result"
    },
    {
     "data": {
      "text/plain": "<Figure size 432x288 with 1 Axes>",
      "image/png": "[encoded data removed]"
     },
     "metadata": {
      "needs_background": "light"
     },
     "output_type": "display_data"
    }
   ],
   "source": [
    "sns.histplot(x=students.health, bins=5)\n",
    "plt.xticks([1, 2, 3, 4, 5])"
   ],
   "metadata": {
    "collapsed": false,
    "pycharm": {
     "name": "#%%\n"
    }
   }
  },
  {
   "cell_type": "markdown",
   "source": [
    "# absences\n",
    " количество пропущенных занятий"
   ],
   "metadata": {
    "collapsed": false,
    "pycharm": {
     "name": "#%% md\n"
    }
   }
  },
  {
   "cell_type": "code",
   "execution_count": 99,
   "outputs": [
    {
     "data": {
      "text/plain": "0.0      111\n1.0        3\n2.0       60\n3.0        8\n4.0       53\n5.0        5\n6.0       31\n7.0        6\n8.0       21\n9.0        3\n10.0      17\n11.0       2\n12.0      12\n13.0       2\n14.0      12\n15.0       2\n16.0       7\n17.0       1\n18.0       5\n19.0       1\n20.0       4\n21.0       1\n22.0       3\n23.0       1\n24.0       1\n25.0       1\n26.0       1\n28.0       1\n30.0       1\n38.0       1\n40.0       1\n54.0       1\n56.0       1\n75.0       1\n212.0      1\n385.0      1\nName: absences, dtype: int64"
     },
     "execution_count": 99,
     "metadata": {},
     "output_type": "execute_result"
    }
   ],
   "source": [
    "students.absences.value_counts().sort_index()"
   ],
   "metadata": {
    "collapsed": false,
    "pycharm": {
     "name": "#%%\n"
    }
   }
  },
  {
   "cell_type": "code",
   "execution_count": 96,
   "outputs": [
    {
     "data": {
      "text/plain": "12"
     },
     "execution_count": 96,
     "metadata": {},
     "output_type": "execute_result"
    }
   ],
   "source": [
    "students.absences.isna().sum()"
   ],
   "metadata": {
    "collapsed": false,
    "pycharm": {
     "name": "#%%\n"
    }
   }
  },
  {
   "cell_type": "code",
   "execution_count": 97,
   "outputs": [
    {
     "data": {
      "text/plain": "count    383.000000\nmean       7.279373\nstd       23.465197\nmin        0.000000\n25%        0.000000\n50%        4.000000\n75%        8.000000\nmax      385.000000\nName: absences, dtype: float64"
     },
     "execution_count": 97,
     "metadata": {},
     "output_type": "execute_result"
    }
   ],
   "source": [
    "students.absences.describe()"
   ],
   "metadata": {
    "collapsed": false,
    "pycharm": {
     "name": "#%%\n"
    }
   }
  },
  {
   "cell_type": "code",
   "execution_count": 98,
   "outputs": [
    {
     "data": {
      "text/plain": "<AxesSubplot:xlabel='absences'>"
     },
     "execution_count": 98,
     "metadata": {},
     "output_type": "execute_result"
    },
    {
     "data": {
      "text/plain": "<Figure size 432x288 with 1 Axes>",
      "image/png": "[encoded data removed]"
     },
     "metadata": {
      "needs_background": "light"
     },
     "output_type": "display_data"
    }
   ],
   "source": [
    "sns.boxplot(x=students.absences)"
   ],
   "metadata": {
    "collapsed": false,
    "pycharm": {
     "name": "#%%\n"
    }
   }
  },
  {
   "cell_type": "code",
   "execution_count": null,
   "outputs": [],
   "source": [],
   "metadata": {
    "collapsed": false,
    "pycharm": {
     "name": "#%%\n"
    }
   }
  },
  {
   "cell_type": "markdown",
   "source": [
    "Столбец числовой, посмотрим на распределение"
   ],
   "metadata": {
    "collapsed": false
   }
  },
  {
   "cell_type": "code",
   "execution_count": 102,
   "outputs": [
    {
     "data": {
      "text/plain": "<AxesSubplot:xlabel='absences', ylabel='Count'>"
     },
     "execution_count": 102,
     "metadata": {},
     "output_type": "execute_result"
    },
    {
     "data": {
      "text/plain": "<Figure size 432x288 with 1 Axes>",
      "image/png": "[encoded data removed]"
     },
     "metadata": {
      "needs_background": "light"
     },
     "output_type": "display_data"
    }
   ],
   "source": [
    "sns.histplot(x=students.absences)"
   ],
   "metadata": {
    "collapsed": false,
    "pycharm": {
     "name": "#%%\n"
    }
   }
  },
  {
   "cell_type": "markdown",
   "source": [
    "Уберем выбросы"
   ],
   "metadata": {
    "collapsed": false,
    "pycharm": {
     "name": "#%% md\n"
    }
   }
  },
  {
   "cell_type": "code",
   "execution_count": 103,
   "outputs": [],
   "source": [
    "students.loc[students['absences'] > 100, 'absences'] = np.NaN"
   ],
   "metadata": {
    "collapsed": false,
    "pycharm": {
     "name": "#%%\n"
    }
   }
  },
  {
   "cell_type": "code",
   "execution_count": 105,
   "outputs": [
    {
     "data": {
      "text/plain": "count    381.000000\nmean       5.750656\nstd        8.088542\nmin        0.000000\n25%        0.000000\n50%        4.000000\n75%        8.000000\nmax       75.000000\nName: absences, dtype: float64"
     },
     "execution_count": 105,
     "metadata": {},
     "output_type": "execute_result"
    }
   ],
   "source": [
    "students.absences.describe()"
   ],
   "metadata": {
    "collapsed": false,
    "pycharm": {
     "name": "#%%\n"
    }
   }
  },
  {
   "cell_type": "code",
   "execution_count": 106,
   "outputs": [
    {
     "data": {
      "text/plain": "<AxesSubplot:xlabel='absences'>"
     },
     "execution_count": 106,
     "metadata": {},
     "output_type": "execute_result"
    },
    {
     "data": {
      "text/plain": "<Figure size 432x288 with 1 Axes>",
      "image/png": "[encoded data removed]"
     },
     "metadata": {
      "needs_background": "light"
     },
     "output_type": "display_data"
    }
   ],
   "source": [
    "sns.boxplot(x=students.absences)"
   ],
   "metadata": {
    "collapsed": false,
    "pycharm": {
     "name": "#%%\n"
    }
   }
  },
  {
   "cell_type": "code",
   "execution_count": 107,
   "outputs": [
    {
     "data": {
      "text/plain": "<AxesSubplot:xlabel='absences', ylabel='Count'>"
     },
     "execution_count": 107,
     "metadata": {},
     "output_type": "execute_result"
    },
    {
     "data": {
      "text/plain": "<Figure size 432x288 with 1 Axes>",
      "image/png": "[encoded data removed]"
     },
     "metadata": {
      "needs_background": "light"
     },
     "output_type": "display_data"
    }
   ],
   "source": [
    "sns.histplot(x=students.absences)"
   ],
   "metadata": {
    "collapsed": false,
    "pycharm": {
     "name": "#%%\n"
    }
   }
  },
  {
   "cell_type": "code",
   "execution_count": null,
   "outputs": [],
   "source": [],
   "metadata": {
    "collapsed": false,
    "pycharm": {
     "name": "#%%\n"
    }
   }
  }
 ],
 "metadata": {
  "kernelspec": {
   "display_name": "Python 3",
   "language": "python",
   "name": "python3"
  },
  "language_info": {
   "codemirror_mode": {
    "name": "ipython",
    "version": 2
   },
   "file_extension": ".py",
   "mimetype": "text/x-python",
   "name": "python",
   "nbconvert_exporter": "python",
   "pygments_lexer": "ipython2",
   "version": "2.7.6"
  }
 },
 "nbformat": 4,
 "nbformat_minor": 0
}