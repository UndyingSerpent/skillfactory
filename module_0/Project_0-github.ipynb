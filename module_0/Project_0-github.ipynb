{
 "cells": [
  {
   "cell_type": "code",
   "execution_count": 262,
   "metadata": {},
   "outputs": [
    {
     "name": "stdout",
     "output_type": "stream",
     "text": [
      "Загадано число от 1 до 100\n",
      "50\n",
      "Угадываемое число больше 50 \n",
      "75\n",
      "Угадываемое число меньше 75 \n",
      "62\n",
      "Угадываемое число больше 62 \n",
      "67\n",
      "Угадываемое число меньше 67 \n",
      "65\n",
      "Угадываемое число меньше 65 \n",
      "64\n",
      "Вы угадали число 64 за 6 попыток.\n"
     ]
    }
   ],
   "source": [
    "import numpy as np\n",
    "count = 0                            # счетчик попыток\n",
    "number = np.random.randint(1,101)    # загадали число\n",
    "print (\"Загадано число от 1 до 100\")\n",
    "\n",
    "while True:                        # бесконечный цикл\n",
    "    predict = int(input())         # предполагаемое число\n",
    "    count += 1                     # плюсуем попытку\n",
    "    if number == predict: break    # выход из цикла, если угадали\n",
    "    elif number > predict: print (f\"Угадываемое число больше {predict} \")\n",
    "    elif number < predict: print (f\"Угадываемое число меньше {predict} \")\n",
    "        \n",
    "print (f\"Вы угадали число {number} за {count} попыток.\")"
   ]
  },
  {
   "cell_type": "code",
   "execution_count": 393,
   "metadata": {},
   "outputs": [],
   "source": [
    "def game_core_v1(number):\n",
    "    '''Просто угадываем на random, никак не используя информацию о больше или меньше.\n",
    "       Функция принимает загаданное число и возвращает число попыток'''\n",
    "    count = 0\n",
    "    while True:\n",
    "        count+=1\n",
    "        predict = np.random.randint(1,101) # предполагаемое число\n",
    "        if number == predict: \n",
    "            return(count) # выход из цикла, если угадали"
   ]
  },
  {
   "cell_type": "code",
   "execution_count": 395,
   "metadata": {},
   "outputs": [],
   "source": [
    "import numpy as np\n",
    "def score_game(game_core):\n",
    "    '''Запускаем игру 1000 раз, чтобы узнать, как быстро игра угадывает число'''\n",
    "    count_ls = []\n",
    "    np.random.seed(1)  # фиксируем RANDOM SEED, чтобы ваш эксперимент был воспроизводим!\n",
    "    random_array = np.random.randint(1,101, size=(1000))\n",
    "    for number in random_array:\n",
    "        count_ls.append(game_core(number))\n",
    "    score = int(np.mean(count_ls))\n",
    "    print(f\"Ваш алгоритм угадывает число в среднем за {score} попыток\")\n",
    "    return(score)"
   ]
  },
  {
   "cell_type": "code",
   "execution_count": 396,
   "metadata": {},
   "outputs": [
    {
     "name": "stdout",
     "output_type": "stream",
     "text": [
      "Ваш алгоритм угадывает число в среднем за 101 попыток\n"
     ]
    },
    {
     "data": {
      "text/plain": [
       "101"
      ]
     },
     "execution_count": 396,
     "metadata": {},
     "output_type": "execute_result"
    }
   ],
   "source": [
    "# запускаем\n",
    "score_game(game_core_v1)"
   ]
  },
  {
   "cell_type": "code",
   "execution_count": 397,
   "metadata": {},
   "outputs": [],
   "source": [
    "def game_core_v2(number):\n",
    "    '''Сначала устанавливаем любое random число, а потом уменьшаем или увеличиваем его в зависимости от того, больше оно или меньше нужного.\n",
    "       Функция принимает загаданное число и возвращает число попыток'''\n",
    "    count = 1\n",
    "    predict = np.random.randint(1,101)\n",
    "    while number != predict:\n",
    "        count+=1\n",
    "        if number > predict: \n",
    "            predict += 1\n",
    "        elif number < predict: \n",
    "            predict -= 1\n",
    "    return(count) # выход из цикла, если угадали"
   ]
  },
  {
   "cell_type": "code",
   "execution_count": 398,
   "metadata": {},
   "outputs": [
    {
     "name": "stdout",
     "output_type": "stream",
     "text": [
      "Ваш алгоритм угадывает число в среднем за 33 попыток\n"
     ]
    },
    {
     "data": {
      "text/plain": [
       "33"
      ]
     },
     "execution_count": 398,
     "metadata": {},
     "output_type": "execute_result"
    }
   ],
   "source": [
    "# Проверяем\n",
    "score_game(game_core_v2)"
   ]
  },
  {
   "cell_type": "code",
   "execution_count": 404,
   "metadata": {},
   "outputs": [],
   "source": [
    "def serpent_core_v1(number):\n",
    "    '''Начинаем с числа - половины диапозона, а потом уменьшаем или увеличиваем его в зависимости от того, \n",
    "        больше оно или меньше нужного.\n",
    "        Функция принимает загаданное число и возвращает число попыток'''\n",
    "    count = 1 # счетчик попыток\n",
    "    max_number = 100\n",
    "    predict = int(max_number/2)\n",
    "    while number != predict:\n",
    "        count += 1\n",
    "        if number > predict:\n",
    "            predict += 1\n",
    "        elif number < predict:\n",
    "            predict -= 1\n",
    "    return(count)"
   ]
  },
  {
   "cell_type": "code",
   "execution_count": 405,
   "metadata": {},
   "outputs": [
    {
     "name": "stdout",
     "output_type": "stream",
     "text": [
      "Ваш алгоритм угадывает число в среднем за 25 попыток\n"
     ]
    },
    {
     "data": {
      "text/plain": [
       "25"
      ]
     },
     "execution_count": 405,
     "metadata": {},
     "output_type": "execute_result"
    }
   ],
   "source": [
    "# Проверяем\n",
    "score_game(serpent_core_v1)"
   ]
  },
  {
   "cell_type": "code",
   "execution_count": 408,
   "metadata": {},
   "outputs": [],
   "source": [
    "def serpent_core_v2(number):\n",
    "    '''depricated\n",
    "        Не рабочий вариант!\n",
    "        Функция принимает загаданное число и возвращает число попыток'''\n",
    "    count = 1000 # счетчик попыток\n",
    "    return(count)"
   ]
  },
  {
   "cell_type": "code",
   "execution_count": 409,
   "metadata": {},
   "outputs": [
    {
     "name": "stdout",
     "output_type": "stream",
     "text": [
      "Ваш алгоритм угадывает число в среднем за 1000 попыток\n"
     ]
    },
    {
     "data": {
      "text/plain": [
       "1000"
      ]
     },
     "execution_count": 409,
     "metadata": {},
     "output_type": "execute_result"
    }
   ],
   "source": [
    "# Проверяем\n",
    "score_game(serpent_core_v2)\n"
   ]
  },
  {
   "cell_type": "code",
   "execution_count": 505,
   "metadata": {},
   "outputs": [],
   "source": [
    "def serpent_core_v3(number):\n",
    "    '''Выбираем число методом половинного деления, с учетом предыдущих максимальных и минимальных значений.\n",
    "       Функция принимает загаданное число и возвращает число попыток'''\n",
    "    count = 1 # счетчик попыток\n",
    "    upper_number = 101\n",
    "    lower_number = 1\n",
    "    predict = int(lower_number + (upper_number - lower_number)/2)\n",
    "\n",
    "    while number != predict:\n",
    "        if number > predict:\n",
    "            lower_number = predict\n",
    "        elif number < predict:\n",
    "            upper_number = predict\n",
    "        count += 1\n",
    "        predict = int(lower_number + (upper_number - lower_number)/2)\n",
    "\n",
    "    return(count)"
   ]
  },
  {
   "cell_type": "code",
   "execution_count": 507,
   "metadata": {},
   "outputs": [
    {
     "name": "stdout",
     "output_type": "stream",
     "text": [
      "Ваш алгоритм угадывает число в среднем за 5 попыток\n"
     ]
    },
    {
     "data": {
      "text/plain": [
       "5"
      ]
     },
     "execution_count": 507,
     "metadata": {},
     "output_type": "execute_result"
    }
   ],
   "source": [
    "# Проверяем\n",
    "score_game(serpent_core_v3)\n"
   ]
  },
  {
   "cell_type": "code",
   "execution_count": 521,
   "metadata": {},
   "outputs": [],
   "source": [
    "def binary_search(number, lower_number=1, upper_number=100):\n",
    "    '''Выбираем число методом половинного деления со смещением границы, с учетом предыдущих максимальных и минимальных значений.\n",
    "        Функция принимает загаданное число, [значения диапазона отгадывания] и возвращает число попыток'''\n",
    "    count = 1 # счетчик попыток\n",
    "    predict = int((lower_number + upper_number) / 2) # середина интервала\n",
    "\n",
    "    #debug\n",
    "    #print(f'cnt:{count}, prd:{predict}, lower:{lower_number}, upper:{upper_number}')\n",
    "\n",
    "    while number != predict:\n",
    "        \n",
    "        if number > predict: lower_number = predict + 1 # сдвигаем вверх нижнюю границу\n",
    "        elif number < predict: upper_number = predict - 1 # сдвигаем вниз верхнюю границу\n",
    "\n",
    "        predict = int((lower_number + upper_number) / 2) # середина интервала\n",
    "        count += 1\n",
    "        \n",
    "        #debug\n",
    "        #print(f'cnt:{count}, prd:{predict}, lower:{lower_number}, upper:{upper_number}')\n",
    "            \n",
    "    #debug        \n",
    "    #print(count, predict)\n",
    "    \n",
    "    return(count)"
   ]
  },
  {
   "cell_type": "code",
   "execution_count": 522,
   "metadata": {},
   "outputs": [],
   "source": [
    "def serpent_core_v4(number):\n",
    "    '''Движок для определения загаданного числа Версия 4 (Бинарный поиск)\n",
    "       Функция принимает загаданное число и возвращает число попыток'''\n",
    "    count = binary_search(number)\n",
    "    return(count)"
   ]
  },
  {
   "cell_type": "code",
   "execution_count": 523,
   "metadata": {},
   "outputs": [
    {
     "name": "stdout",
     "output_type": "stream",
     "text": [
      "Ваш алгоритм угадывает число в среднем за 5 попыток\n"
     ]
    },
    {
     "data": {
      "text/plain": [
       "5"
      ]
     },
     "execution_count": 523,
     "metadata": {},
     "output_type": "execute_result"
    }
   ],
   "source": [
    "# Проверяем\n",
    "score_game(serpent_core_v4)"
   ]
  },
  {
   "cell_type": "code",
   "execution_count": 524,
   "metadata": {},
   "outputs": [],
   "source": [
    "def exponential_serch(number, start=1):\n",
    "    '''Выбираем число методом перехода в экспоненциальные позиции (во вторую степень).\n",
    "        Функция принимает загаданное число и стартовую поицию поиска. Возвращает число попыток, и диапазон, \n",
    "        в котором лежит загаднное число'''\n",
    "    count = 1 # счетчик попыток\n",
    "    upper_number = start\n",
    "    lower_number = 1\n",
    "    predict = start\n",
    "\n",
    "    #debug\n",
    "    #print(f'cnt:{count}, nbr:{number}, prd:{predict}, lower:{lower_number}, upper:{upper_number}')\n",
    "    \n",
    "    while number > predict:\n",
    "        predict *= 2\n",
    "        count += 1\n",
    "        lower_number = upper_number\n",
    "        upper_number = predict\n",
    "            \n",
    "        #debug\n",
    "        #print(f'cnt:{count}, nbr:{number}, prd:{predict}, lower:{lower_number}, upper:{upper_number}')\n",
    "    \n",
    "    return(count, lower_number, upper_number)    "
   ]
  },
  {
   "cell_type": "code",
   "execution_count": 525,
   "metadata": {},
   "outputs": [],
   "source": [
    "def serpent_core_v5(number):\n",
    "    '''Движок для определения загаданного числа Версия 5 (Экспонентный поиск)\n",
    "       Функция принимает загаданное число и возвращает число попыток'''\n",
    "    exp_srch = exponential_serch(number,32)\n",
    "    count = exp_srch[0] # счетчик\n",
    "    lower_number = exp_srch[1] # нижняя граница\n",
    "    upper_number = exp_srch[2] # верхняя граница\n",
    "    count += binary_search(number, lower_number, upper_number)\n",
    "    \n",
    "    return(count)"
   ]
  },
  {
   "cell_type": "code",
   "execution_count": 526,
   "metadata": {},
   "outputs": [
    {
     "name": "stdout",
     "output_type": "stream",
     "text": [
      "Ваш алгоритм угадывает число в среднем за 6 попыток\n"
     ]
    },
    {
     "data": {
      "text/plain": [
       "6"
      ]
     },
     "execution_count": 526,
     "metadata": {},
     "output_type": "execute_result"
    }
   ],
   "source": [
    "# Проверяем\n",
    "score_game(serpent_core_v5)"
   ]
  },
  {
   "cell_type": "markdown",
   "metadata": {},
   "source": [
    "# Решение\n",
    "За самое меньше число попыток угадывает функция: serpent_core_v4.\n",
    "Используется алгоритм бинарного поиска [Wikipedia](https://ru.wikipedia.org/wiki/%D0%94%D0%B2%D0%BE%D0%B8%D1%87%D0%BD%D1%8B%D0%B9_%D0%BF%D0%BE%D0%B8%D1%81%D0%BA)"
   ]
  },
  {
   "cell_type": "code",
   "execution_count": 527,
   "metadata": {},
   "outputs": [
    {
     "name": "stdout",
     "output_type": "stream",
     "text": [
      "Ваш алгоритм угадывает число в среднем за 5 попыток\n"
     ]
    },
    {
     "data": {
      "text/plain": [
       "5"
      ]
     },
     "execution_count": 527,
     "metadata": {},
     "output_type": "execute_result"
    }
   ],
   "source": [
    "score_game(serpent_core_v4)"
   ]
  },
  {
   "cell_type": "code",
   "execution_count": null,
   "metadata": {},
   "outputs": [],
   "source": []
  }
 ],
 "metadata": {
  "kernelspec": {
   "display_name": "Python 3",
   "language": "python",
   "name": "python3"
  },
  "language_info": {
   "codemirror_mode": {
    "name": "ipython",
    "version": 3
   },
   "file_extension": ".py",
   "mimetype": "text/x-python",
   "name": "python",
   "nbconvert_exporter": "python",
   "pygments_lexer": "ipython3",
   "version": "3.8.3"
  }
 },
 "nbformat": 4,
 "nbformat_minor": 4
}
